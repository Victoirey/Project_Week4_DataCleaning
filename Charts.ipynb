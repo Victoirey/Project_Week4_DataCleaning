{
 "cells": [
  {
   "cell_type": "code",
   "execution_count": 27,
   "id": "ea2085bf",
   "metadata": {},
   "outputs": [],
   "source": [
    "import pandas as pd\n",
    "import matplotlib.pyplot as plt\n",
    "import seaborn as sns\n",
    "import matplotlib.pyplot as plt\n",
    "import pandas as pd\n",
    "from math import pi\n",
    "import numpy as np"
   ]
  },
  {
   "cell_type": "code",
   "execution_count": 2,
   "id": "bac821a5",
   "metadata": {},
   "outputs": [
    {
     "data": {
      "text/html": [
       "<div>\n",
       "<style scoped>\n",
       "    .dataframe tbody tr th:only-of-type {\n",
       "        vertical-align: middle;\n",
       "    }\n",
       "\n",
       "    .dataframe tbody tr th {\n",
       "        vertical-align: top;\n",
       "    }\n",
       "\n",
       "    .dataframe thead th {\n",
       "        text-align: right;\n",
       "    }\n",
       "</style>\n",
       "<table border=\"1\" class=\"dataframe\">\n",
       "  <thead>\n",
       "    <tr style=\"text-align: right;\">\n",
       "      <th></th>\n",
       "      <th>carat</th>\n",
       "      <th>cut</th>\n",
       "      <th>color</th>\n",
       "      <th>clarity</th>\n",
       "      <th>depth</th>\n",
       "      <th>table</th>\n",
       "      <th>price</th>\n",
       "      <th>x</th>\n",
       "      <th>y</th>\n",
       "      <th>z</th>\n",
       "      <th>clarity_grades</th>\n",
       "      <th>color_grades</th>\n",
       "    </tr>\n",
       "  </thead>\n",
       "  <tbody>\n",
       "    <tr>\n",
       "      <th>0</th>\n",
       "      <td>0.23</td>\n",
       "      <td>Ideal</td>\n",
       "      <td>E</td>\n",
       "      <td>SI2</td>\n",
       "      <td>61.5</td>\n",
       "      <td>55.0</td>\n",
       "      <td>326</td>\n",
       "      <td>3.95</td>\n",
       "      <td>3.98</td>\n",
       "      <td>2.43</td>\n",
       "      <td>2</td>\n",
       "      <td>5</td>\n",
       "    </tr>\n",
       "    <tr>\n",
       "      <th>1</th>\n",
       "      <td>0.21</td>\n",
       "      <td>Premium</td>\n",
       "      <td>E</td>\n",
       "      <td>SI1</td>\n",
       "      <td>59.8</td>\n",
       "      <td>61.0</td>\n",
       "      <td>326</td>\n",
       "      <td>3.89</td>\n",
       "      <td>3.84</td>\n",
       "      <td>2.31</td>\n",
       "      <td>0</td>\n",
       "      <td>5</td>\n",
       "    </tr>\n",
       "    <tr>\n",
       "      <th>2</th>\n",
       "      <td>0.23</td>\n",
       "      <td>Good</td>\n",
       "      <td>E</td>\n",
       "      <td>VS1</td>\n",
       "      <td>56.9</td>\n",
       "      <td>65.0</td>\n",
       "      <td>327</td>\n",
       "      <td>4.05</td>\n",
       "      <td>4.07</td>\n",
       "      <td>2.31</td>\n",
       "      <td>3</td>\n",
       "      <td>5</td>\n",
       "    </tr>\n",
       "    <tr>\n",
       "      <th>3</th>\n",
       "      <td>0.29</td>\n",
       "      <td>Premium</td>\n",
       "      <td>I</td>\n",
       "      <td>VS2</td>\n",
       "      <td>62.4</td>\n",
       "      <td>58.0</td>\n",
       "      <td>334</td>\n",
       "      <td>4.20</td>\n",
       "      <td>4.23</td>\n",
       "      <td>2.63</td>\n",
       "      <td>1</td>\n",
       "      <td>1</td>\n",
       "    </tr>\n",
       "    <tr>\n",
       "      <th>4</th>\n",
       "      <td>0.31</td>\n",
       "      <td>Good</td>\n",
       "      <td>J</td>\n",
       "      <td>SI2</td>\n",
       "      <td>63.3</td>\n",
       "      <td>58.0</td>\n",
       "      <td>335</td>\n",
       "      <td>4.34</td>\n",
       "      <td>4.35</td>\n",
       "      <td>2.75</td>\n",
       "      <td>2</td>\n",
       "      <td>0</td>\n",
       "    </tr>\n",
       "  </tbody>\n",
       "</table>\n",
       "</div>"
      ],
      "text/plain": [
       "   carat      cut color clarity  depth  table  price     x     y     z  \\\n",
       "0   0.23    Ideal     E     SI2   61.5   55.0    326  3.95  3.98  2.43   \n",
       "1   0.21  Premium     E     SI1   59.8   61.0    326  3.89  3.84  2.31   \n",
       "2   0.23     Good     E     VS1   56.9   65.0    327  4.05  4.07  2.31   \n",
       "3   0.29  Premium     I     VS2   62.4   58.0    334  4.20  4.23  2.63   \n",
       "4   0.31     Good     J     SI2   63.3   58.0    335  4.34  4.35  2.75   \n",
       "\n",
       "   clarity_grades  color_grades  \n",
       "0               2             5  \n",
       "1               0             5  \n",
       "2               3             5  \n",
       "3               1             1  \n",
       "4               2             0  "
      ]
     },
     "execution_count": 2,
     "metadata": {},
     "output_type": "execute_result"
    }
   ],
   "source": [
    "diamonds = pd.read_csv(r'C:\\Users\\gixi_\\Ironhack\\DAFT_212\\module_2\\Project_Week_4/diamonds_clean.csv')\n",
    "diamonds.drop('Unnamed: 0', axis = 1, inplace = True)\n",
    "diamonds.drop('validate_z', axis = 1, inplace = True)\n",
    "diamonds.head(5)"
   ]
  },
  {
   "cell_type": "code",
   "execution_count": 3,
   "id": "44758765",
   "metadata": {},
   "outputs": [
    {
     "data": {
      "image/png": "[encoded data removed]",
      "text/plain": [
       "<Figure size 432x288 with 1 Axes>"
      ]
     },
     "metadata": {
      "needs_background": "light"
     },
     "output_type": "display_data"
    }
   ],
   "source": [
    "plt.hist(diamonds['color_grades'],bins=5)\n",
    "plt.xlabel('Color Grades')\n",
    "plt.ylabel('Frequencies') \n",
    "plt.title('Frequency distribution of the diamonds color')\n",
    "plt.grid()\n",
    "plt.show()"
   ]
  },
  {
   "cell_type": "code",
   "execution_count": 4,
   "id": "cc4d5732",
   "metadata": {},
   "outputs": [
    {
     "data": {
      "text/plain": [
       "<AxesSubplot:xlabel='color_grades', ylabel='count'>"
      ]
     },
     "execution_count": 4,
     "metadata": {},
     "output_type": "execute_result"
    },
    {
     "data": {
      "image/png": "[encoded data removed]",
      "text/plain": [
       "<Figure size 432x288 with 1 Axes>"
      ]
     },
     "metadata": {
      "needs_background": "light"
     },
     "output_type": "display_data"
    }
   ],
   "source": [
    "sns.countplot(x=\"color_grades\", data=diamonds)"
   ]
  },
  {
   "cell_type": "code",
   "execution_count": 5,
   "id": "877fb93c",
   "metadata": {},
   "outputs": [
    {
     "name": "stderr",
     "output_type": "stream",
     "text": [
      "C:\\Users\\gixi_\\anaconda3\\lib\\site-packages\\seaborn\\_decorators.py:36: FutureWarning: Pass the following variables as keyword args: x, y. From version 0.12, the only valid positional argument will be `data`, and passing other arguments without an explicit keyword will result in an error or misinterpretation.\n",
      "  warnings.warn(\n"
     ]
    },
    {
     "data": {
      "text/plain": [
       "<AxesSubplot:xlabel='carat', ylabel='price'>"
      ]
     },
     "execution_count": 5,
     "metadata": {},
     "output_type": "execute_result"
    },
    {
     "data": {
      "image/png": "[encoded data removed]",
      "text/plain": [
       "<Figure size 432x288 with 1 Axes>"
      ]
     },
     "metadata": {
      "needs_background": "light"
     },
     "output_type": "display_data"
    }
   ],
   "source": [
    "sns.lineplot(diamonds.carat, diamonds.price)"
   ]
  },
  {
   "cell_type": "code",
   "execution_count": 6,
   "id": "19a9ab3e",
   "metadata": {},
   "outputs": [
    {
     "name": "stderr",
     "output_type": "stream",
     "text": [
      "No handles with labels found to put in legend.\n"
     ]
    },
    {
     "data": {
      "image/png": "[encoded data removed]",
      "text/plain": [
       "<Figure size 432x288 with 1 Axes>"
      ]
     },
     "metadata": {
      "needs_background": "light"
     },
     "output_type": "display_data"
    }
   ],
   "source": [
    "df1 = diamonds.pivot_table(index = 'carat', values = 'price', aggfunc = 'mean')\n",
    "plt.plot(df1.index, df1.price)\n",
    "plt.xlabel('carat')\n",
    "plt.ylabel('price')\n",
    "plt.title(\"carat vs price\")\n",
    "plt.legend()\n",
    "plt.show()"
   ]
  },
  {
   "cell_type": "code",
   "execution_count": 7,
   "id": "698c6d33",
   "metadata": {},
   "outputs": [
    {
     "name": "stderr",
     "output_type": "stream",
     "text": [
      "No handles with labels found to put in legend.\n"
     ]
    },
    {
     "data": {
      "image/png": "[encoded data removed]",
      "text/plain": [
       "<Figure size 432x288 with 1 Axes>"
      ]
     },
     "metadata": {
      "needs_background": "light"
     },
     "output_type": "display_data"
    }
   ],
   "source": [
    "plt.scatter(diamonds['carat'], diamonds['price'])\n",
    "plt.xlabel('carat')\n",
    "plt.ylabel('price')\n",
    "plt.title(\"carat vs price\")\n",
    "plt.legend()\n",
    "plt.show()"
   ]
  },
  {
   "cell_type": "code",
   "execution_count": 8,
   "id": "bc3783ad",
   "metadata": {},
   "outputs": [
    {
     "data": {
      "text/plain": [
       "[Text(0.5, 1.0, 'carat vs price')]"
      ]
     },
     "execution_count": 8,
     "metadata": {},
     "output_type": "execute_result"
    },
    {
     "data": {
      "image/png": "[encoded data removed]",
      "text/plain": [
       "<Figure size 432x288 with 1 Axes>"
      ]
     },
     "metadata": {
      "needs_background": "light"
     },
     "output_type": "display_data"
    }
   ],
   "source": [
    "carat_price_rate = diamonds.eval(\"price/carat\").rename(\"carat_price_rate\")\n",
    "sns.scatterplot(data=diamonds, x=\"carat\", y=\"price\", hue=carat_price_rate).set(title = \"carat vs price\")\n"
   ]
  },
  {
   "cell_type": "code",
   "execution_count": 9,
   "id": "73b44da5",
   "metadata": {},
   "outputs": [
    {
     "data": {
      "text/plain": [
       "Text(0.5, 1.0, 'Diamond Price')"
      ]
     },
     "execution_count": 9,
     "metadata": {},
     "output_type": "execute_result"
    },
    {
     "data": {
      "image/png": "[encoded data removed]",
      "text/plain": [
       "<Figure size 432x288 with 1 Axes>"
      ]
     },
     "metadata": {
      "needs_background": "light"
     },
     "output_type": "display_data"
    }
   ],
   "source": [
    "plt.boxplot(diamonds['price'])\n",
    "plt.title(\"Diamond Price\")"
   ]
  },
  {
   "cell_type": "code",
   "execution_count": 10,
   "id": "70209de2",
   "metadata": {},
   "outputs": [
    {
     "data": {
      "text/plain": [
       "<AxesSubplot:xlabel='color_grades', ylabel='price'>"
      ]
     },
     "execution_count": 10,
     "metadata": {},
     "output_type": "execute_result"
    },
    {
     "data": {
      "image/png": "[encoded data removed]",
      "text/plain": [
       "<Figure size 432x288 with 1 Axes>"
      ]
     },
     "metadata": {
      "needs_background": "light"
     },
     "output_type": "display_data"
    }
   ],
   "source": [
    "sns.boxplot(x=diamonds[\"color_grades\"],y = diamonds[\"price\"],data = diamonds)"
   ]
  },
  {
   "cell_type": "code",
   "execution_count": 17,
   "id": "bdcc36f6",
   "metadata": {},
   "outputs": [
    {
     "data": {
      "text/plain": [
       "<AxesSubplot:ylabel='color'>"
      ]
     },
     "execution_count": 17,
     "metadata": {},
     "output_type": "execute_result"
    },
    {
     "data": {
      "image/png": "[encoded data removed]",
      "text/plain": [
       "<Figure size 432x288 with 1 Axes>"
      ]
     },
     "metadata": {},
     "output_type": "display_data"
    }
   ],
   "source": [
    "explode = (0.1, 0.1, 0.1,0.1, 0.1, 0.1, 0.1)\n",
    "diamonds['color'].value_counts().plot(kind='pie', explode=explode)"
   ]
  },
  {
   "cell_type": "code",
   "execution_count": 24,
   "id": "abbad608",
   "metadata": {},
   "outputs": [
    {
     "data": {
      "image/png": "[encoded data removed]",
      "text/plain": [
       "<Figure size 432x288 with 1 Axes>"
      ]
     },
     "metadata": {},
     "output_type": "display_data"
    }
   ],
   "source": [
    "x = diamonds[['color']].groupby('color').agg({'color':'count'}).rename(columns={'color': 'color_count'})\n",
    "x.reset_index(inplace = True)\n",
    "colors = sns.color_palette('pastel')[0:7]\n",
    "plt.pie(x['color_count'], labels = x['color'], colors = colors, autopct='%.0f%%')\n",
    "plt.show()"
   ]
  },
  {
   "cell_type": "code",
   "execution_count": 58,
   "id": "4f91ed6a",
   "metadata": {
    "scrolled": true
   },
   "outputs": [
    {
     "data": {
      "application/vnd.plotly.v1+json": {
       "config": {
        "plotlyServerURL": "https://plot.ly"
       },
       "data": [
        {
         "hovertemplate": "price=%{r}<br>color=%{theta}<extra></extra>",
         "legendgroup": "",
         "line": {
          "color": "#636efa",
          "dash": "solid"
         },
         "marker": {
          "symbol": "circle"
         },
         "mode": "lines",
         "name": "",
         "r": [
          3168.1064363743726,
          3076.8547366271946,
          3725.0919383583187,
          3998.1451727192207,
          4484.028189374774,
          5091.874953891553,
          5323.81801994302,
          3168.1064363743726
         ],
         "showlegend": false,
         "subplot": "polar",
         "theta": [
          "D",
          "E",
          "F",
          "G",
          "H",
          "I",
          "J",
          "D"
         ],
         "type": "scatterpolar"
        }
       ],
       "layout": {
        "legend": {
         "tracegroupgap": 0
        },
        "margin": {
         "t": 60
        },
        "polar": {
         "angularaxis": {
          "direction": "clockwise",
          "rotation": 90
         },
         "domain": {
          "x": [
           0,
           1
          ],
          "y": [
           0,
           1
          ]
         }
        },
        "template": {
         "data": {
          "bar": [
           {
            "error_x": {
             "color": "#2a3f5f"
            },
            "error_y": {
             "color": "#2a3f5f"
            },
            "marker": {
             "line": {
              "color": "#E5ECF6",
              "width": 0.5
             },
             "pattern": {
              "fillmode": "overlay",
              "size": 10,
              "solidity": 0.2
             }
            },
            "type": "bar"
           }
          ],
          "barpolar": [
           {
            "marker": {
             "line": {
              "color": "#E5ECF6",
              "width": 0.5
             },
             "pattern": {
              "fillmode": "overlay",
              "size": 10,
              "solidity": 0.2
             }
            },
            "type": "barpolar"
           }
          ],
          "carpet": [
           {
            "aaxis": {
             "endlinecolor": "#2a3f5f",
             "gridcolor": "white",
             "linecolor": "white",
             "minorgridcolor": "white",
             "startlinecolor": "#2a3f5f"
            },
            "baxis": {
             "endlinecolor": "#2a3f5f",
             "gridcolor": "white",
             "linecolor": "white",
             "minorgridcolor": "white",
             "startlinecolor": "#2a3f5f"
            },
            "type": "carpet"
           }
          ],
          "choropleth": [
           {
            "colorbar": {
             "outlinewidth": 0,
             "ticks": ""
            },
            "type": "choropleth"
           }
          ],
          "contour": [
           {
            "colorbar": {
             "outlinewidth": 0,
             "ticks": ""
            },
            "colorscale": [
             [
              0,
              "#0d0887"
             ],
             [
              0.1111111111111111,
              "#46039f"
             ],
             [
              0.2222222222222222,
              "#7201a8"
             ],
             [
              0.3333333333333333,
              "#9c179e"
             ],
             [
              0.4444444444444444,
              "#bd3786"
             ],
             [
              0.5555555555555556,
              "#d8576b"
             ],
             [
              0.6666666666666666,
              "#ed7953"
             ],
             [
              0.7777777777777778,
              "#fb9f3a"
             ],
             [
              0.8888888888888888,
              "#fdca26"
             ],
             [
              1,
              "#f0f921"
             ]
            ],
            "type": "contour"
           }
          ],
          "contourcarpet": [
           {
            "colorbar": {
             "outlinewidth": 0,
             "ticks": ""
            },
            "type": "contourcarpet"
           }
          ],
          "heatmap": [
           {
            "colorbar": {
             "outlinewidth": 0,
             "ticks": ""
            },
            "colorscale": [
             [
              0,
              "#0d0887"
             ],
             [
              0.1111111111111111,
              "#46039f"
             ],
             [
              0.2222222222222222,
              "#7201a8"
             ],
             [
              0.3333333333333333,
              "#9c179e"
             ],
             [
              0.4444444444444444,
              "#bd3786"
             ],
             [
              0.5555555555555556,
              "#d8576b"
             ],
             [
              0.6666666666666666,
              "#ed7953"
             ],
             [
              0.7777777777777778,
              "#fb9f3a"
             ],
             [
              0.8888888888888888,
              "#fdca26"
             ],
             [
              1,
              "#f0f921"
             ]
            ],
            "type": "heatmap"
           }
          ],
          "heatmapgl": [
           {
            "colorbar": {
             "outlinewidth": 0,
             "ticks": ""
            },
            "colorscale": [
             [
              0,
              "#0d0887"
             ],
             [
              0.1111111111111111,
              "#46039f"
             ],
             [
              0.2222222222222222,
              "#7201a8"
             ],
             [
              0.3333333333333333,
              "#9c179e"
             ],
             [
              0.4444444444444444,
              "#bd3786"
             ],
             [
              0.5555555555555556,
              "#d8576b"
             ],
             [
              0.6666666666666666,
              "#ed7953"
             ],
             [
              0.7777777777777778,
              "#fb9f3a"
             ],
             [
              0.8888888888888888,
              "#fdca26"
             ],
             [
              1,
              "#f0f921"
             ]
            ],
            "type": "heatmapgl"
           }
          ],
          "histogram": [
           {
            "marker": {
             "pattern": {
              "fillmode": "overlay",
              "size": 10,
              "solidity": 0.2
             }
            },
            "type": "histogram"
           }
          ],
          "histogram2d": [
           {
            "colorbar": {
             "outlinewidth": 0,
             "ticks": ""
            },
            "colorscale": [
             [
              0,
              "#0d0887"
             ],
             [
              0.1111111111111111,
              "#46039f"
             ],
             [
              0.2222222222222222,
              "#7201a8"
             ],
             [
              0.3333333333333333,
              "#9c179e"
             ],
             [
              0.4444444444444444,
              "#bd3786"
             ],
             [
              0.5555555555555556,
              "#d8576b"
             ],
             [
              0.6666666666666666,
              "#ed7953"
             ],
             [
              0.7777777777777778,
              "#fb9f3a"
             ],
             [
              0.8888888888888888,
              "#fdca26"
             ],
             [
              1,
              "#f0f921"
             ]
            ],
            "type": "histogram2d"
           }
          ],
          "histogram2dcontour": [
           {
            "colorbar": {
             "outlinewidth": 0,
             "ticks": ""
            },
            "colorscale": [
             [
              0,
              "#0d0887"
             ],
             [
              0.1111111111111111,
              "#46039f"
             ],
             [
              0.2222222222222222,
              "#7201a8"
             ],
             [
              0.3333333333333333,
              "#9c179e"
             ],
             [
              0.4444444444444444,
              "#bd3786"
             ],
             [
              0.5555555555555556,
              "#d8576b"
             ],
             [
              0.6666666666666666,
              "#ed7953"
             ],
             [
              0.7777777777777778,
              "#fb9f3a"
             ],
             [
              0.8888888888888888,
              "#fdca26"
             ],
             [
              1,
              "#f0f921"
             ]
            ],
            "type": "histogram2dcontour"
           }
          ],
          "mesh3d": [
           {
            "colorbar": {
             "outlinewidth": 0,
             "ticks": ""
            },
            "type": "mesh3d"
           }
          ],
          "parcoords": [
           {
            "line": {
             "colorbar": {
              "outlinewidth": 0,
              "ticks": ""
             }
            },
            "type": "parcoords"
           }
          ],
          "pie": [
           {
            "automargin": true,
            "type": "pie"
           }
          ],
          "scatter": [
           {
            "marker": {
             "colorbar": {
              "outlinewidth": 0,
              "ticks": ""
             }
            },
            "type": "scatter"
           }
          ],
          "scatter3d": [
           {
            "line": {
             "colorbar": {
              "outlinewidth": 0,
              "ticks": ""
             }
            },
            "marker": {
             "colorbar": {
              "outlinewidth": 0,
              "ticks": ""
             }
            },
            "type": "scatter3d"
           }
          ],
          "scattercarpet": [
           {
            "marker": {
             "colorbar": {
              "outlinewidth": 0,
              "ticks": ""
             }
            },
            "type": "scattercarpet"
           }
          ],
          "scattergeo": [
           {
            "marker": {
             "colorbar": {
              "outlinewidth": 0,
              "ticks": ""
             }
            },
            "type": "scattergeo"
           }
          ],
          "scattergl": [
           {
            "marker": {
             "colorbar": {
              "outlinewidth": 0,
              "ticks": ""
             }
            },
            "type": "scattergl"
           }
          ],
          "scattermapbox": [
           {
            "marker": {
             "colorbar": {
              "outlinewidth": 0,
              "ticks": ""
             }
            },
            "type": "scattermapbox"
           }
          ],
          "scatterpolar": [
           {
            "marker": {
             "colorbar": {
              "outlinewidth": 0,
              "ticks": ""
             }
            },
            "type": "scatterpolar"
           }
          ],
          "scatterpolargl": [
           {
            "marker": {
             "colorbar": {
              "outlinewidth": 0,
              "ticks": ""
             }
            },
            "type": "scatterpolargl"
           }
          ],
          "scatterternary": [
           {
            "marker": {
             "colorbar": {
              "outlinewidth": 0,
              "ticks": ""
             }
            },
            "type": "scatterternary"
           }
          ],
          "surface": [
           {
            "colorbar": {
             "outlinewidth": 0,
             "ticks": ""
            },
            "colorscale": [
             [
              0,
              "#0d0887"
             ],
             [
              0.1111111111111111,
              "#46039f"
             ],
             [
              0.2222222222222222,
              "#7201a8"
             ],
             [
              0.3333333333333333,
              "#9c179e"
             ],
             [
              0.4444444444444444,
              "#bd3786"
             ],
             [
              0.5555555555555556,
              "#d8576b"
             ],
             [
              0.6666666666666666,
              "#ed7953"
             ],
             [
              0.7777777777777778,
              "#fb9f3a"
             ],
             [
              0.8888888888888888,
              "#fdca26"
             ],
             [
              1,
              "#f0f921"
             ]
            ],
            "type": "surface"
           }
          ],
          "table": [
           {
            "cells": {
             "fill": {
              "color": "#EBF0F8"
             },
             "line": {
              "color": "white"
             }
            },
            "header": {
             "fill": {
              "color": "#C8D4E3"
             },
             "line": {
              "color": "white"
             }
            },
            "type": "table"
           }
          ]
         },
         "layout": {
          "annotationdefaults": {
           "arrowcolor": "#2a3f5f",
           "arrowhead": 0,
           "arrowwidth": 1
          },
          "autotypenumbers": "strict",
          "coloraxis": {
           "colorbar": {
            "outlinewidth": 0,
            "ticks": ""
           }
          },
          "colorscale": {
           "diverging": [
            [
             0,
             "#8e0152"
            ],
            [
             0.1,
             "#c51b7d"
            ],
            [
             0.2,
             "#de77ae"
            ],
            [
             0.3,
             "#f1b6da"
            ],
            [
             0.4,
             "#fde0ef"
            ],
            [
             0.5,
             "#f7f7f7"
            ],
            [
             0.6,
             "#e6f5d0"
            ],
            [
             0.7,
             "#b8e186"
            ],
            [
             0.8,
             "#7fbc41"
            ],
            [
             0.9,
             "#4d9221"
            ],
            [
             1,
             "#276419"
            ]
           ],
           "sequential": [
            [
             0,
             "#0d0887"
            ],
            [
             0.1111111111111111,
             "#46039f"
            ],
            [
             0.2222222222222222,
             "#7201a8"
            ],
            [
             0.3333333333333333,
             "#9c179e"
            ],
            [
             0.4444444444444444,
             "#bd3786"
            ],
            [
             0.5555555555555556,
             "#d8576b"
            ],
            [
             0.6666666666666666,
             "#ed7953"
            ],
            [
             0.7777777777777778,
             "#fb9f3a"
            ],
            [
             0.8888888888888888,
             "#fdca26"
            ],
            [
             1,
             "#f0f921"
            ]
           ],
           "sequentialminus": [
            [
             0,
             "#0d0887"
            ],
            [
             0.1111111111111111,
             "#46039f"
            ],
            [
             0.2222222222222222,
             "#7201a8"
            ],
            [
             0.3333333333333333,
             "#9c179e"
            ],
            [
             0.4444444444444444,
             "#bd3786"
            ],
            [
             0.5555555555555556,
             "#d8576b"
            ],
            [
             0.6666666666666666,
             "#ed7953"
            ],
            [
             0.7777777777777778,
             "#fb9f3a"
            ],
            [
             0.8888888888888888,
             "#fdca26"
            ],
            [
             1,
             "#f0f921"
            ]
           ]
          },
          "colorway": [
           "#636efa",
           "#EF553B",
           "#00cc96",
           "#ab63fa",
           "#FFA15A",
           "#19d3f3",
           "#FF6692",
           "#B6E880",
           "#FF97FF",
           "#FECB52"
          ],
          "font": {
           "color": "#2a3f5f"
          },
          "geo": {
           "bgcolor": "white",
           "lakecolor": "white",
           "landcolor": "#E5ECF6",
           "showlakes": true,
           "showland": true,
           "subunitcolor": "white"
          },
          "hoverlabel": {
           "align": "left"
          },
          "hovermode": "closest",
          "mapbox": {
           "style": "light"
          },
          "paper_bgcolor": "white",
          "plot_bgcolor": "#E5ECF6",
          "polar": {
           "angularaxis": {
            "gridcolor": "white",
            "linecolor": "white",
            "ticks": ""
           },
           "bgcolor": "#E5ECF6",
           "radialaxis": {
            "gridcolor": "white",
            "linecolor": "white",
            "ticks": ""
           }
          },
          "scene": {
           "xaxis": {
            "backgroundcolor": "#E5ECF6",
            "gridcolor": "white",
            "gridwidth": 2,
            "linecolor": "white",
            "showbackground": true,
            "ticks": "",
            "zerolinecolor": "white"
           },
           "yaxis": {
            "backgroundcolor": "#E5ECF6",
            "gridcolor": "white",
            "gridwidth": 2,
            "linecolor": "white",
            "showbackground": true,
            "ticks": "",
            "zerolinecolor": "white"
           },
           "zaxis": {
            "backgroundcolor": "#E5ECF6",
            "gridcolor": "white",
            "gridwidth": 2,
            "linecolor": "white",
            "showbackground": true,
            "ticks": "",
            "zerolinecolor": "white"
           }
          },
          "shapedefaults": {
           "line": {
            "color": "#2a3f5f"
           }
          },
          "ternary": {
           "aaxis": {
            "gridcolor": "white",
            "linecolor": "white",
            "ticks": ""
           },
           "baxis": {
            "gridcolor": "white",
            "linecolor": "white",
            "ticks": ""
           },
           "bgcolor": "#E5ECF6",
           "caxis": {
            "gridcolor": "white",
            "linecolor": "white",
            "ticks": ""
           }
          },
          "title": {
           "x": 0.05
          },
          "xaxis": {
           "automargin": true,
           "gridcolor": "white",
           "linecolor": "white",
           "ticks": "",
           "title": {
            "standoff": 15
           },
           "zerolinecolor": "white",
           "zerolinewidth": 2
          },
          "yaxis": {
           "automargin": true,
           "gridcolor": "white",
           "linecolor": "white",
           "ticks": "",
           "title": {
            "standoff": 15
           },
           "zerolinecolor": "white",
           "zerolinewidth": 2
          }
         }
        }
       }
      },
      "text/html": [
       "<div>                            <div id=\"8f81d2ee-c9ee-45c8-be9f-9d4b1833ce5b\" class=\"plotly-graph-div\" style=\"height:525px; width:100%;\"></div>            <script type=\"text/javascript\">                require([\"plotly\"], function(Plotly) {                    window.PLOTLYENV=window.PLOTLYENV || {};                                    if (document.getElementById(\"8f81d2ee-c9ee-45c8-be9f-9d4b1833ce5b\")) {                    Plotly.newPlot(                        \"8f81d2ee-c9ee-45c8-be9f-9d4b1833ce5b\",                        [{\"hovertemplate\":\"price=%{r}<br>color=%{theta}<extra></extra>\",\"legendgroup\":\"\",\"line\":{\"color\":\"#636efa\",\"dash\":\"solid\"},\"marker\":{\"symbol\":\"circle\"},\"mode\":\"lines\",\"name\":\"\",\"r\":[3168.1064363743726,3076.8547366271946,3725.0919383583187,3998.1451727192207,4484.028189374774,5091.874953891553,5323.81801994302,3168.1064363743726],\"showlegend\":false,\"subplot\":\"polar\",\"theta\":[\"D\",\"E\",\"F\",\"G\",\"H\",\"I\",\"J\",\"D\"],\"type\":\"scatterpolar\"}],                        {\"template\":{\"data\":{\"bar\":[{\"error_x\":{\"color\":\"#2a3f5f\"},\"error_y\":{\"color\":\"#2a3f5f\"},\"marker\":{\"line\":{\"color\":\"#E5ECF6\",\"width\":0.5},\"pattern\":{\"fillmode\":\"overlay\",\"size\":10,\"solidity\":0.2}},\"type\":\"bar\"}],\"barpolar\":[{\"marker\":{\"line\":{\"color\":\"#E5ECF6\",\"width\":0.5},\"pattern\":{\"fillmode\":\"overlay\",\"size\":10,\"solidity\":0.2}},\"type\":\"barpolar\"}],\"carpet\":[{\"aaxis\":{\"endlinecolor\":\"#2a3f5f\",\"gridcolor\":\"white\",\"linecolor\":\"white\",\"minorgridcolor\":\"white\",\"startlinecolor\":\"#2a3f5f\"},\"baxis\":{\"endlinecolor\":\"#2a3f5f\",\"gridcolor\":\"white\",\"linecolor\":\"white\",\"minorgridcolor\":\"white\",\"startlinecolor\":\"#2a3f5f\"},\"type\":\"carpet\"}],\"choropleth\":[{\"colorbar\":{\"outlinewidth\":0,\"ticks\":\"\"},\"type\":\"choropleth\"}],\"contour\":[{\"colorbar\":{\"outlinewidth\":0,\"ticks\":\"\"},\"colorscale\":[[0.0,\"#0d0887\"],[0.1111111111111111,\"#46039f\"],[0.2222222222222222,\"#7201a8\"],[0.3333333333333333,\"#9c179e\"],[0.4444444444444444,\"#bd3786\"],[0.5555555555555556,\"#d8576b\"],[0.6666666666666666,\"#ed7953\"],[0.7777777777777778,\"#fb9f3a\"],[0.8888888888888888,\"#fdca26\"],[1.0,\"#f0f921\"]],\"type\":\"contour\"}],\"contourcarpet\":[{\"colorbar\":{\"outlinewidth\":0,\"ticks\":\"\"},\"type\":\"contourcarpet\"}],\"heatmap\":[{\"colorbar\":{\"outlinewidth\":0,\"ticks\":\"\"},\"colorscale\":[[0.0,\"#0d0887\"],[0.1111111111111111,\"#46039f\"],[0.2222222222222222,\"#7201a8\"],[0.3333333333333333,\"#9c179e\"],[0.4444444444444444,\"#bd3786\"],[0.5555555555555556,\"#d8576b\"],[0.6666666666666666,\"#ed7953\"],[0.7777777777777778,\"#fb9f3a\"],[0.8888888888888888,\"#fdca26\"],[1.0,\"#f0f921\"]],\"type\":\"heatmap\"}],\"heatmapgl\":[{\"colorbar\":{\"outlinewidth\":0,\"ticks\":\"\"},\"colorscale\":[[0.0,\"#0d0887\"],[0.1111111111111111,\"#46039f\"],[0.2222222222222222,\"#7201a8\"],[0.3333333333333333,\"#9c179e\"],[0.4444444444444444,\"#bd3786\"],[0.5555555555555556,\"#d8576b\"],[0.6666666666666666,\"#ed7953\"],[0.7777777777777778,\"#fb9f3a\"],[0.8888888888888888,\"#fdca26\"],[1.0,\"#f0f921\"]],\"type\":\"heatmapgl\"}],\"histogram\":[{\"marker\":{\"pattern\":{\"fillmode\":\"overlay\",\"size\":10,\"solidity\":0.2}},\"type\":\"histogram\"}],\"histogram2d\":[{\"colorbar\":{\"outlinewidth\":0,\"ticks\":\"\"},\"colorscale\":[[0.0,\"#0d0887\"],[0.1111111111111111,\"#46039f\"],[0.2222222222222222,\"#7201a8\"],[0.3333333333333333,\"#9c179e\"],[0.4444444444444444,\"#bd3786\"],[0.5555555555555556,\"#d8576b\"],[0.6666666666666666,\"#ed7953\"],[0.7777777777777778,\"#fb9f3a\"],[0.8888888888888888,\"#fdca26\"],[1.0,\"#f0f921\"]],\"type\":\"histogram2d\"}],\"histogram2dcontour\":[{\"colorbar\":{\"outlinewidth\":0,\"ticks\":\"\"},\"colorscale\":[[0.0,\"#0d0887\"],[0.1111111111111111,\"#46039f\"],[0.2222222222222222,\"#7201a8\"],[0.3333333333333333,\"#9c179e\"],[0.4444444444444444,\"#bd3786\"],[0.5555555555555556,\"#d8576b\"],[0.6666666666666666,\"#ed7953\"],[0.7777777777777778,\"#fb9f3a\"],[0.8888888888888888,\"#fdca26\"],[1.0,\"#f0f921\"]],\"type\":\"histogram2dcontour\"}],\"mesh3d\":[{\"colorbar\":{\"outlinewidth\":0,\"ticks\":\"\"},\"type\":\"mesh3d\"}],\"parcoords\":[{\"line\":{\"colorbar\":{\"outlinewidth\":0,\"ticks\":\"\"}},\"type\":\"parcoords\"}],\"pie\":[{\"automargin\":true,\"type\":\"pie\"}],\"scatter\":[{\"marker\":{\"colorbar\":{\"outlinewidth\":0,\"ticks\":\"\"}},\"type\":\"scatter\"}],\"scatter3d\":[{\"line\":{\"colorbar\":{\"outlinewidth\":0,\"ticks\":\"\"}},\"marker\":{\"colorbar\":{\"outlinewidth\":0,\"ticks\":\"\"}},\"type\":\"scatter3d\"}],\"scattercarpet\":[{\"marker\":{\"colorbar\":{\"outlinewidth\":0,\"ticks\":\"\"}},\"type\":\"scattercarpet\"}],\"scattergeo\":[{\"marker\":{\"colorbar\":{\"outlinewidth\":0,\"ticks\":\"\"}},\"type\":\"scattergeo\"}],\"scattergl\":[{\"marker\":{\"colorbar\":{\"outlinewidth\":0,\"ticks\":\"\"}},\"type\":\"scattergl\"}],\"scattermapbox\":[{\"marker\":{\"colorbar\":{\"outlinewidth\":0,\"ticks\":\"\"}},\"type\":\"scattermapbox\"}],\"scatterpolar\":[{\"marker\":{\"colorbar\":{\"outlinewidth\":0,\"ticks\":\"\"}},\"type\":\"scatterpolar\"}],\"scatterpolargl\":[{\"marker\":{\"colorbar\":{\"outlinewidth\":0,\"ticks\":\"\"}},\"type\":\"scatterpolargl\"}],\"scatterternary\":[{\"marker\":{\"colorbar\":{\"outlinewidth\":0,\"ticks\":\"\"}},\"type\":\"scatterternary\"}],\"surface\":[{\"colorbar\":{\"outlinewidth\":0,\"ticks\":\"\"},\"colorscale\":[[0.0,\"#0d0887\"],[0.1111111111111111,\"#46039f\"],[0.2222222222222222,\"#7201a8\"],[0.3333333333333333,\"#9c179e\"],[0.4444444444444444,\"#bd3786\"],[0.5555555555555556,\"#d8576b\"],[0.6666666666666666,\"#ed7953\"],[0.7777777777777778,\"#fb9f3a\"],[0.8888888888888888,\"#fdca26\"],[1.0,\"#f0f921\"]],\"type\":\"surface\"}],\"table\":[{\"cells\":{\"fill\":{\"color\":\"#EBF0F8\"},\"line\":{\"color\":\"white\"}},\"header\":{\"fill\":{\"color\":\"#C8D4E3\"},\"line\":{\"color\":\"white\"}},\"type\":\"table\"}]},\"layout\":{\"annotationdefaults\":{\"arrowcolor\":\"#2a3f5f\",\"arrowhead\":0,\"arrowwidth\":1},\"autotypenumbers\":\"strict\",\"coloraxis\":{\"colorbar\":{\"outlinewidth\":0,\"ticks\":\"\"}},\"colorscale\":{\"diverging\":[[0,\"#8e0152\"],[0.1,\"#c51b7d\"],[0.2,\"#de77ae\"],[0.3,\"#f1b6da\"],[0.4,\"#fde0ef\"],[0.5,\"#f7f7f7\"],[0.6,\"#e6f5d0\"],[0.7,\"#b8e186\"],[0.8,\"#7fbc41\"],[0.9,\"#4d9221\"],[1,\"#276419\"]],\"sequential\":[[0.0,\"#0d0887\"],[0.1111111111111111,\"#46039f\"],[0.2222222222222222,\"#7201a8\"],[0.3333333333333333,\"#9c179e\"],[0.4444444444444444,\"#bd3786\"],[0.5555555555555556,\"#d8576b\"],[0.6666666666666666,\"#ed7953\"],[0.7777777777777778,\"#fb9f3a\"],[0.8888888888888888,\"#fdca26\"],[1.0,\"#f0f921\"]],\"sequentialminus\":[[0.0,\"#0d0887\"],[0.1111111111111111,\"#46039f\"],[0.2222222222222222,\"#7201a8\"],[0.3333333333333333,\"#9c179e\"],[0.4444444444444444,\"#bd3786\"],[0.5555555555555556,\"#d8576b\"],[0.6666666666666666,\"#ed7953\"],[0.7777777777777778,\"#fb9f3a\"],[0.8888888888888888,\"#fdca26\"],[1.0,\"#f0f921\"]]},\"colorway\":[\"#636efa\",\"#EF553B\",\"#00cc96\",\"#ab63fa\",\"#FFA15A\",\"#19d3f3\",\"#FF6692\",\"#B6E880\",\"#FF97FF\",\"#FECB52\"],\"font\":{\"color\":\"#2a3f5f\"},\"geo\":{\"bgcolor\":\"white\",\"lakecolor\":\"white\",\"landcolor\":\"#E5ECF6\",\"showlakes\":true,\"showland\":true,\"subunitcolor\":\"white\"},\"hoverlabel\":{\"align\":\"left\"},\"hovermode\":\"closest\",\"mapbox\":{\"style\":\"light\"},\"paper_bgcolor\":\"white\",\"plot_bgcolor\":\"#E5ECF6\",\"polar\":{\"angularaxis\":{\"gridcolor\":\"white\",\"linecolor\":\"white\",\"ticks\":\"\"},\"bgcolor\":\"#E5ECF6\",\"radialaxis\":{\"gridcolor\":\"white\",\"linecolor\":\"white\",\"ticks\":\"\"}},\"scene\":{\"xaxis\":{\"backgroundcolor\":\"#E5ECF6\",\"gridcolor\":\"white\",\"gridwidth\":2,\"linecolor\":\"white\",\"showbackground\":true,\"ticks\":\"\",\"zerolinecolor\":\"white\"},\"yaxis\":{\"backgroundcolor\":\"#E5ECF6\",\"gridcolor\":\"white\",\"gridwidth\":2,\"linecolor\":\"white\",\"showbackground\":true,\"ticks\":\"\",\"zerolinecolor\":\"white\"},\"zaxis\":{\"backgroundcolor\":\"#E5ECF6\",\"gridcolor\":\"white\",\"gridwidth\":2,\"linecolor\":\"white\",\"showbackground\":true,\"ticks\":\"\",\"zerolinecolor\":\"white\"}},\"shapedefaults\":{\"line\":{\"color\":\"#2a3f5f\"}},\"ternary\":{\"aaxis\":{\"gridcolor\":\"white\",\"linecolor\":\"white\",\"ticks\":\"\"},\"baxis\":{\"gridcolor\":\"white\",\"linecolor\":\"white\",\"ticks\":\"\"},\"bgcolor\":\"#E5ECF6\",\"caxis\":{\"gridcolor\":\"white\",\"linecolor\":\"white\",\"ticks\":\"\"}},\"title\":{\"x\":0.05},\"xaxis\":{\"automargin\":true,\"gridcolor\":\"white\",\"linecolor\":\"white\",\"ticks\":\"\",\"title\":{\"standoff\":15},\"zerolinecolor\":\"white\",\"zerolinewidth\":2},\"yaxis\":{\"automargin\":true,\"gridcolor\":\"white\",\"linecolor\":\"white\",\"ticks\":\"\",\"title\":{\"standoff\":15},\"zerolinecolor\":\"white\",\"zerolinewidth\":2}}},\"polar\":{\"domain\":{\"x\":[0.0,1.0],\"y\":[0.0,1.0]},\"angularaxis\":{\"direction\":\"clockwise\",\"rotation\":90}},\"legend\":{\"tracegroupgap\":0},\"margin\":{\"t\":60}},                        {\"responsive\": true}                    ).then(function(){\n",
       "                            \n",
       "var gd = document.getElementById('8f81d2ee-c9ee-45c8-be9f-9d4b1833ce5b');\n",
       "var x = new MutationObserver(function (mutations, observer) {{\n",
       "        var display = window.getComputedStyle(gd).display;\n",
       "        if (!display || display === 'none') {{\n",
       "            console.log([gd, 'removed!']);\n",
       "            Plotly.purge(gd);\n",
       "            observer.disconnect();\n",
       "        }}\n",
       "}});\n",
       "\n",
       "// Listen for the removal of the full notebook cells\n",
       "var notebookContainer = gd.closest('#notebook-container');\n",
       "if (notebookContainer) {{\n",
       "    x.observe(notebookContainer, {childList: true});\n",
       "}}\n",
       "\n",
       "// Listen for the clearing of the current output cell\n",
       "var outputEl = gd.closest('.output');\n",
       "if (outputEl) {{\n",
       "    x.observe(outputEl, {childList: true});\n",
       "}}\n",
       "\n",
       "                        })                };                });            </script>        </div>"
      ]
     },
     "metadata": {},
     "output_type": "display_data"
    }
   ],
   "source": [
    "import plotly.express as px\n",
    "import pandas as pd\n",
    "df = diamonds.groupby('color')['price'].mean().to_frame()\n",
    "df.reset_index(inplace=True)\n",
    "fig = px.line_polar(df, r='price', theta='color', line_close=True)\n",
    "figsize=(5,5)\n",
    "fig.show()"
   ]
  },
  {
   "cell_type": "code",
   "execution_count": 60,
   "id": "8e77f013",
   "metadata": {},
   "outputs": [
    {
     "data": {
      "application/vnd.plotly.v1+json": {
       "config": {
        "plotlyServerURL": "https://plot.ly"
       },
       "data": [
        {
         "hovertemplate": "price=%{r}<br>cut=%{theta}<extra></extra>",
         "legendgroup": "",
         "line": {
          "color": "#636efa",
          "dash": "solid"
         },
         "marker": {
          "symbol": "circle"
         },
         "mode": "lines",
         "name": "",
         "r": [
          4357.50093225606,
          3929.5980831973898,
          3457.1031186188975,
          4581.9239918769945,
          3981.6641006539194,
          4357.50093225606
         ],
         "showlegend": false,
         "subplot": "polar",
         "theta": [
          "Fair",
          "Good",
          "Ideal",
          "Premium",
          "Very Good",
          "Fair"
         ],
         "type": "scatterpolar"
        }
       ],
       "layout": {
        "legend": {
         "tracegroupgap": 0
        },
        "margin": {
         "t": 60
        },
        "polar": {
         "angularaxis": {
          "direction": "clockwise",
          "rotation": 90
         },
         "domain": {
          "x": [
           0,
           1
          ],
          "y": [
           0,
           1
          ]
         }
        },
        "template": {
         "data": {
          "bar": [
           {
            "error_x": {
             "color": "#2a3f5f"
            },
            "error_y": {
             "color": "#2a3f5f"
            },
            "marker": {
             "line": {
              "color": "#E5ECF6",
              "width": 0.5
             },
             "pattern": {
              "fillmode": "overlay",
              "size": 10,
              "solidity": 0.2
             }
            },
            "type": "bar"
           }
          ],
          "barpolar": [
           {
            "marker": {
             "line": {
              "color": "#E5ECF6",
              "width": 0.5
             },
             "pattern": {
              "fillmode": "overlay",
              "size": 10,
              "solidity": 0.2
             }
            },
            "type": "barpolar"
           }
          ],
          "carpet": [
           {
            "aaxis": {
             "endlinecolor": "#2a3f5f",
             "gridcolor": "white",
             "linecolor": "white",
             "minorgridcolor": "white",
             "startlinecolor": "#2a3f5f"
            },
            "baxis": {
             "endlinecolor": "#2a3f5f",
             "gridcolor": "white",
             "linecolor": "white",
             "minorgridcolor": "white",
             "startlinecolor": "#2a3f5f"
            },
            "type": "carpet"
           }
          ],
          "choropleth": [
           {
            "colorbar": {
             "outlinewidth": 0,
             "ticks": ""
            },
            "type": "choropleth"
           }
          ],
          "contour": [
           {
            "colorbar": {
             "outlinewidth": 0,
             "ticks": ""
            },
            "colorscale": [
             [
              0,
              "#0d0887"
             ],
             [
              0.1111111111111111,
              "#46039f"
             ],
             [
              0.2222222222222222,
              "#7201a8"
             ],
             [
              0.3333333333333333,
              "#9c179e"
             ],
             [
              0.4444444444444444,
              "#bd3786"
             ],
             [
              0.5555555555555556,
              "#d8576b"
             ],
             [
              0.6666666666666666,
              "#ed7953"
             ],
             [
              0.7777777777777778,
              "#fb9f3a"
             ],
             [
              0.8888888888888888,
              "#fdca26"
             ],
             [
              1,
              "#f0f921"
             ]
            ],
            "type": "contour"
           }
          ],
          "contourcarpet": [
           {
            "colorbar": {
             "outlinewidth": 0,
             "ticks": ""
            },
            "type": "contourcarpet"
           }
          ],
          "heatmap": [
           {
            "colorbar": {
             "outlinewidth": 0,
             "ticks": ""
            },
            "colorscale": [
             [
              0,
              "#0d0887"
             ],
             [
              0.1111111111111111,
              "#46039f"
             ],
             [
              0.2222222222222222,
              "#7201a8"
             ],
             [
              0.3333333333333333,
              "#9c179e"
             ],
             [
              0.4444444444444444,
              "#bd3786"
             ],
             [
              0.5555555555555556,
              "#d8576b"
             ],
             [
              0.6666666666666666,
              "#ed7953"
             ],
             [
              0.7777777777777778,
              "#fb9f3a"
             ],
             [
              0.8888888888888888,
              "#fdca26"
             ],
             [
              1,
              "#f0f921"
             ]
            ],
            "type": "heatmap"
           }
          ],
          "heatmapgl": [
           {
            "colorbar": {
             "outlinewidth": 0,
             "ticks": ""
            },
            "colorscale": [
             [
              0,
              "#0d0887"
             ],
             [
              0.1111111111111111,
              "#46039f"
             ],
             [
              0.2222222222222222,
              "#7201a8"
             ],
             [
              0.3333333333333333,
              "#9c179e"
             ],
             [
              0.4444444444444444,
              "#bd3786"
             ],
             [
              0.5555555555555556,
              "#d8576b"
             ],
             [
              0.6666666666666666,
              "#ed7953"
             ],
             [
              0.7777777777777778,
              "#fb9f3a"
             ],
             [
              0.8888888888888888,
              "#fdca26"
             ],
             [
              1,
              "#f0f921"
             ]
            ],
            "type": "heatmapgl"
           }
          ],
          "histogram": [
           {
            "marker": {
             "pattern": {
              "fillmode": "overlay",
              "size": 10,
              "solidity": 0.2
             }
            },
            "type": "histogram"
           }
          ],
          "histogram2d": [
           {
            "colorbar": {
             "outlinewidth": 0,
             "ticks": ""
            },
            "colorscale": [
             [
              0,
              "#0d0887"
             ],
             [
              0.1111111111111111,
              "#46039f"
             ],
             [
              0.2222222222222222,
              "#7201a8"
             ],
             [
              0.3333333333333333,
              "#9c179e"
             ],
             [
              0.4444444444444444,
              "#bd3786"
             ],
             [
              0.5555555555555556,
              "#d8576b"
             ],
             [
              0.6666666666666666,
              "#ed7953"
             ],
             [
              0.7777777777777778,
              "#fb9f3a"
             ],
             [
              0.8888888888888888,
              "#fdca26"
             ],
             [
              1,
              "#f0f921"
             ]
            ],
            "type": "histogram2d"
           }
          ],
          "histogram2dcontour": [
           {
            "colorbar": {
             "outlinewidth": 0,
             "ticks": ""
            },
            "colorscale": [
             [
              0,
              "#0d0887"
             ],
             [
              0.1111111111111111,
              "#46039f"
             ],
             [
              0.2222222222222222,
              "#7201a8"
             ],
             [
              0.3333333333333333,
              "#9c179e"
             ],
             [
              0.4444444444444444,
              "#bd3786"
             ],
             [
              0.5555555555555556,
              "#d8576b"
             ],
             [
              0.6666666666666666,
              "#ed7953"
             ],
             [
              0.7777777777777778,
              "#fb9f3a"
             ],
             [
              0.8888888888888888,
              "#fdca26"
             ],
             [
              1,
              "#f0f921"
             ]
            ],
            "type": "histogram2dcontour"
           }
          ],
          "mesh3d": [
           {
            "colorbar": {
             "outlinewidth": 0,
             "ticks": ""
            },
            "type": "mesh3d"
           }
          ],
          "parcoords": [
           {
            "line": {
             "colorbar": {
              "outlinewidth": 0,
              "ticks": ""
             }
            },
            "type": "parcoords"
           }
          ],
          "pie": [
           {
            "automargin": true,
            "type": "pie"
           }
          ],
          "scatter": [
           {
            "marker": {
             "colorbar": {
              "outlinewidth": 0,
              "ticks": ""
             }
            },
            "type": "scatter"
           }
          ],
          "scatter3d": [
           {
            "line": {
             "colorbar": {
              "outlinewidth": 0,
              "ticks": ""
             }
            },
            "marker": {
             "colorbar": {
              "outlinewidth": 0,
              "ticks": ""
             }
            },
            "type": "scatter3d"
           }
          ],
          "scattercarpet": [
           {
            "marker": {
             "colorbar": {
              "outlinewidth": 0,
              "ticks": ""
             }
            },
            "type": "scattercarpet"
           }
          ],
          "scattergeo": [
           {
            "marker": {
             "colorbar": {
              "outlinewidth": 0,
              "ticks": ""
             }
            },
            "type": "scattergeo"
           }
          ],
          "scattergl": [
           {
            "marker": {
             "colorbar": {
              "outlinewidth": 0,
              "ticks": ""
             }
            },
            "type": "scattergl"
           }
          ],
          "scattermapbox": [
           {
            "marker": {
             "colorbar": {
              "outlinewidth": 0,
              "ticks": ""
             }
            },
            "type": "scattermapbox"
           }
          ],
          "scatterpolar": [
           {
            "marker": {
             "colorbar": {
              "outlinewidth": 0,
              "ticks": ""
             }
            },
            "type": "scatterpolar"
           }
          ],
          "scatterpolargl": [
           {
            "marker": {
             "colorbar": {
              "outlinewidth": 0,
              "ticks": ""
             }
            },
            "type": "scatterpolargl"
           }
          ],
          "scatterternary": [
           {
            "marker": {
             "colorbar": {
              "outlinewidth": 0,
              "ticks": ""
             }
            },
            "type": "scatterternary"
           }
          ],
          "surface": [
           {
            "colorbar": {
             "outlinewidth": 0,
             "ticks": ""
            },
            "colorscale": [
             [
              0,
              "#0d0887"
             ],
             [
              0.1111111111111111,
              "#46039f"
             ],
             [
              0.2222222222222222,
              "#7201a8"
             ],
             [
              0.3333333333333333,
              "#9c179e"
             ],
             [
              0.4444444444444444,
              "#bd3786"
             ],
             [
              0.5555555555555556,
              "#d8576b"
             ],
             [
              0.6666666666666666,
              "#ed7953"
             ],
             [
              0.7777777777777778,
              "#fb9f3a"
             ],
             [
              0.8888888888888888,
              "#fdca26"
             ],
             [
              1,
              "#f0f921"
             ]
            ],
            "type": "surface"
           }
          ],
          "table": [
           {
            "cells": {
             "fill": {
              "color": "#EBF0F8"
             },
             "line": {
              "color": "white"
             }
            },
            "header": {
             "fill": {
              "color": "#C8D4E3"
             },
             "line": {
              "color": "white"
             }
            },
            "type": "table"
           }
          ]
         },
         "layout": {
          "annotationdefaults": {
           "arrowcolor": "#2a3f5f",
           "arrowhead": 0,
           "arrowwidth": 1
          },
          "autotypenumbers": "strict",
          "coloraxis": {
           "colorbar": {
            "outlinewidth": 0,
            "ticks": ""
           }
          },
          "colorscale": {
           "diverging": [
            [
             0,
             "#8e0152"
            ],
            [
             0.1,
             "#c51b7d"
            ],
            [
             0.2,
             "#de77ae"
            ],
            [
             0.3,
             "#f1b6da"
            ],
            [
             0.4,
             "#fde0ef"
            ],
            [
             0.5,
             "#f7f7f7"
            ],
            [
             0.6,
             "#e6f5d0"
            ],
            [
             0.7,
             "#b8e186"
            ],
            [
             0.8,
             "#7fbc41"
            ],
            [
             0.9,
             "#4d9221"
            ],
            [
             1,
             "#276419"
            ]
           ],
           "sequential": [
            [
             0,
             "#0d0887"
            ],
            [
             0.1111111111111111,
             "#46039f"
            ],
            [
             0.2222222222222222,
             "#7201a8"
            ],
            [
             0.3333333333333333,
             "#9c179e"
            ],
            [
             0.4444444444444444,
             "#bd3786"
            ],
            [
             0.5555555555555556,
             "#d8576b"
            ],
            [
             0.6666666666666666,
             "#ed7953"
            ],
            [
             0.7777777777777778,
             "#fb9f3a"
            ],
            [
             0.8888888888888888,
             "#fdca26"
            ],
            [
             1,
             "#f0f921"
            ]
           ],
           "sequentialminus": [
            [
             0,
             "#0d0887"
            ],
            [
             0.1111111111111111,
             "#46039f"
            ],
            [
             0.2222222222222222,
             "#7201a8"
            ],
            [
             0.3333333333333333,
             "#9c179e"
            ],
            [
             0.4444444444444444,
             "#bd3786"
            ],
            [
             0.5555555555555556,
             "#d8576b"
            ],
            [
             0.6666666666666666,
             "#ed7953"
            ],
            [
             0.7777777777777778,
             "#fb9f3a"
            ],
            [
             0.8888888888888888,
             "#fdca26"
            ],
            [
             1,
             "#f0f921"
            ]
           ]
          },
          "colorway": [
           "#636efa",
           "#EF553B",
           "#00cc96",
           "#ab63fa",
           "#FFA15A",
           "#19d3f3",
           "#FF6692",
           "#B6E880",
           "#FF97FF",
           "#FECB52"
          ],
          "font": {
           "color": "#2a3f5f"
          },
          "geo": {
           "bgcolor": "white",
           "lakecolor": "white",
           "landcolor": "#E5ECF6",
           "showlakes": true,
           "showland": true,
           "subunitcolor": "white"
          },
          "hoverlabel": {
           "align": "left"
          },
          "hovermode": "closest",
          "mapbox": {
           "style": "light"
          },
          "paper_bgcolor": "white",
          "plot_bgcolor": "#E5ECF6",
          "polar": {
           "angularaxis": {
            "gridcolor": "white",
            "linecolor": "white",
            "ticks": ""
           },
           "bgcolor": "#E5ECF6",
           "radialaxis": {
            "gridcolor": "white",
            "linecolor": "white",
            "ticks": ""
           }
          },
          "scene": {
           "xaxis": {
            "backgroundcolor": "#E5ECF6",
            "gridcolor": "white",
            "gridwidth": 2,
            "linecolor": "white",
            "showbackground": true,
            "ticks": "",
            "zerolinecolor": "white"
           },
           "yaxis": {
            "backgroundcolor": "#E5ECF6",
            "gridcolor": "white",
            "gridwidth": 2,
            "linecolor": "white",
            "showbackground": true,
            "ticks": "",
            "zerolinecolor": "white"
           },
           "zaxis": {
            "backgroundcolor": "#E5ECF6",
            "gridcolor": "white",
            "gridwidth": 2,
            "linecolor": "white",
            "showbackground": true,
            "ticks": "",
            "zerolinecolor": "white"
           }
          },
          "shapedefaults": {
           "line": {
            "color": "#2a3f5f"
           }
          },
          "ternary": {
           "aaxis": {
            "gridcolor": "white",
            "linecolor": "white",
            "ticks": ""
           },
           "baxis": {
            "gridcolor": "white",
            "linecolor": "white",
            "ticks": ""
           },
           "bgcolor": "#E5ECF6",
           "caxis": {
            "gridcolor": "white",
            "linecolor": "white",
            "ticks": ""
           }
          },
          "title": {
           "x": 0.05
          },
          "xaxis": {
           "automargin": true,
           "gridcolor": "white",
           "linecolor": "white",
           "ticks": "",
           "title": {
            "standoff": 15
           },
           "zerolinecolor": "white",
           "zerolinewidth": 2
          },
          "yaxis": {
           "automargin": true,
           "gridcolor": "white",
           "linecolor": "white",
           "ticks": "",
           "title": {
            "standoff": 15
           },
           "zerolinecolor": "white",
           "zerolinewidth": 2
          }
         }
        }
       }
      },
      "text/html": [
       "<div>                            <div id=\"08c911eb-c0ef-4089-919a-6c531aac7889\" class=\"plotly-graph-div\" style=\"height:525px; width:100%;\"></div>            <script type=\"text/javascript\">                require([\"plotly\"], function(Plotly) {                    window.PLOTLYENV=window.PLOTLYENV || {};                                    if (document.getElementById(\"08c911eb-c0ef-4089-919a-6c531aac7889\")) {                    Plotly.newPlot(                        \"08c911eb-c0ef-4089-919a-6c531aac7889\",                        [{\"hovertemplate\":\"price=%{r}<br>cut=%{theta}<extra></extra>\",\"legendgroup\":\"\",\"line\":{\"color\":\"#636efa\",\"dash\":\"solid\"},\"marker\":{\"symbol\":\"circle\"},\"mode\":\"lines\",\"name\":\"\",\"r\":[4357.50093225606,3929.5980831973898,3457.1031186188975,4581.9239918769945,3981.6641006539194,4357.50093225606],\"showlegend\":false,\"subplot\":\"polar\",\"theta\":[\"Fair\",\"Good\",\"Ideal\",\"Premium\",\"Very Good\",\"Fair\"],\"type\":\"scatterpolar\"}],                        {\"template\":{\"data\":{\"bar\":[{\"error_x\":{\"color\":\"#2a3f5f\"},\"error_y\":{\"color\":\"#2a3f5f\"},\"marker\":{\"line\":{\"color\":\"#E5ECF6\",\"width\":0.5},\"pattern\":{\"fillmode\":\"overlay\",\"size\":10,\"solidity\":0.2}},\"type\":\"bar\"}],\"barpolar\":[{\"marker\":{\"line\":{\"color\":\"#E5ECF6\",\"width\":0.5},\"pattern\":{\"fillmode\":\"overlay\",\"size\":10,\"solidity\":0.2}},\"type\":\"barpolar\"}],\"carpet\":[{\"aaxis\":{\"endlinecolor\":\"#2a3f5f\",\"gridcolor\":\"white\",\"linecolor\":\"white\",\"minorgridcolor\":\"white\",\"startlinecolor\":\"#2a3f5f\"},\"baxis\":{\"endlinecolor\":\"#2a3f5f\",\"gridcolor\":\"white\",\"linecolor\":\"white\",\"minorgridcolor\":\"white\",\"startlinecolor\":\"#2a3f5f\"},\"type\":\"carpet\"}],\"choropleth\":[{\"colorbar\":{\"outlinewidth\":0,\"ticks\":\"\"},\"type\":\"choropleth\"}],\"contour\":[{\"colorbar\":{\"outlinewidth\":0,\"ticks\":\"\"},\"colorscale\":[[0.0,\"#0d0887\"],[0.1111111111111111,\"#46039f\"],[0.2222222222222222,\"#7201a8\"],[0.3333333333333333,\"#9c179e\"],[0.4444444444444444,\"#bd3786\"],[0.5555555555555556,\"#d8576b\"],[0.6666666666666666,\"#ed7953\"],[0.7777777777777778,\"#fb9f3a\"],[0.8888888888888888,\"#fdca26\"],[1.0,\"#f0f921\"]],\"type\":\"contour\"}],\"contourcarpet\":[{\"colorbar\":{\"outlinewidth\":0,\"ticks\":\"\"},\"type\":\"contourcarpet\"}],\"heatmap\":[{\"colorbar\":{\"outlinewidth\":0,\"ticks\":\"\"},\"colorscale\":[[0.0,\"#0d0887\"],[0.1111111111111111,\"#46039f\"],[0.2222222222222222,\"#7201a8\"],[0.3333333333333333,\"#9c179e\"],[0.4444444444444444,\"#bd3786\"],[0.5555555555555556,\"#d8576b\"],[0.6666666666666666,\"#ed7953\"],[0.7777777777777778,\"#fb9f3a\"],[0.8888888888888888,\"#fdca26\"],[1.0,\"#f0f921\"]],\"type\":\"heatmap\"}],\"heatmapgl\":[{\"colorbar\":{\"outlinewidth\":0,\"ticks\":\"\"},\"colorscale\":[[0.0,\"#0d0887\"],[0.1111111111111111,\"#46039f\"],[0.2222222222222222,\"#7201a8\"],[0.3333333333333333,\"#9c179e\"],[0.4444444444444444,\"#bd3786\"],[0.5555555555555556,\"#d8576b\"],[0.6666666666666666,\"#ed7953\"],[0.7777777777777778,\"#fb9f3a\"],[0.8888888888888888,\"#fdca26\"],[1.0,\"#f0f921\"]],\"type\":\"heatmapgl\"}],\"histogram\":[{\"marker\":{\"pattern\":{\"fillmode\":\"overlay\",\"size\":10,\"solidity\":0.2}},\"type\":\"histogram\"}],\"histogram2d\":[{\"colorbar\":{\"outlinewidth\":0,\"ticks\":\"\"},\"colorscale\":[[0.0,\"#0d0887\"],[0.1111111111111111,\"#46039f\"],[0.2222222222222222,\"#7201a8\"],[0.3333333333333333,\"#9c179e\"],[0.4444444444444444,\"#bd3786\"],[0.5555555555555556,\"#d8576b\"],[0.6666666666666666,\"#ed7953\"],[0.7777777777777778,\"#fb9f3a\"],[0.8888888888888888,\"#fdca26\"],[1.0,\"#f0f921\"]],\"type\":\"histogram2d\"}],\"histogram2dcontour\":[{\"colorbar\":{\"outlinewidth\":0,\"ticks\":\"\"},\"colorscale\":[[0.0,\"#0d0887\"],[0.1111111111111111,\"#46039f\"],[0.2222222222222222,\"#7201a8\"],[0.3333333333333333,\"#9c179e\"],[0.4444444444444444,\"#bd3786\"],[0.5555555555555556,\"#d8576b\"],[0.6666666666666666,\"#ed7953\"],[0.7777777777777778,\"#fb9f3a\"],[0.8888888888888888,\"#fdca26\"],[1.0,\"#f0f921\"]],\"type\":\"histogram2dcontour\"}],\"mesh3d\":[{\"colorbar\":{\"outlinewidth\":0,\"ticks\":\"\"},\"type\":\"mesh3d\"}],\"parcoords\":[{\"line\":{\"colorbar\":{\"outlinewidth\":0,\"ticks\":\"\"}},\"type\":\"parcoords\"}],\"pie\":[{\"automargin\":true,\"type\":\"pie\"}],\"scatter\":[{\"marker\":{\"colorbar\":{\"outlinewidth\":0,\"ticks\":\"\"}},\"type\":\"scatter\"}],\"scatter3d\":[{\"line\":{\"colorbar\":{\"outlinewidth\":0,\"ticks\":\"\"}},\"marker\":{\"colorbar\":{\"outlinewidth\":0,\"ticks\":\"\"}},\"type\":\"scatter3d\"}],\"scattercarpet\":[{\"marker\":{\"colorbar\":{\"outlinewidth\":0,\"ticks\":\"\"}},\"type\":\"scattercarpet\"}],\"scattergeo\":[{\"marker\":{\"colorbar\":{\"outlinewidth\":0,\"ticks\":\"\"}},\"type\":\"scattergeo\"}],\"scattergl\":[{\"marker\":{\"colorbar\":{\"outlinewidth\":0,\"ticks\":\"\"}},\"type\":\"scattergl\"}],\"scattermapbox\":[{\"marker\":{\"colorbar\":{\"outlinewidth\":0,\"ticks\":\"\"}},\"type\":\"scattermapbox\"}],\"scatterpolar\":[{\"marker\":{\"colorbar\":{\"outlinewidth\":0,\"ticks\":\"\"}},\"type\":\"scatterpolar\"}],\"scatterpolargl\":[{\"marker\":{\"colorbar\":{\"outlinewidth\":0,\"ticks\":\"\"}},\"type\":\"scatterpolargl\"}],\"scatterternary\":[{\"marker\":{\"colorbar\":{\"outlinewidth\":0,\"ticks\":\"\"}},\"type\":\"scatterternary\"}],\"surface\":[{\"colorbar\":{\"outlinewidth\":0,\"ticks\":\"\"},\"colorscale\":[[0.0,\"#0d0887\"],[0.1111111111111111,\"#46039f\"],[0.2222222222222222,\"#7201a8\"],[0.3333333333333333,\"#9c179e\"],[0.4444444444444444,\"#bd3786\"],[0.5555555555555556,\"#d8576b\"],[0.6666666666666666,\"#ed7953\"],[0.7777777777777778,\"#fb9f3a\"],[0.8888888888888888,\"#fdca26\"],[1.0,\"#f0f921\"]],\"type\":\"surface\"}],\"table\":[{\"cells\":{\"fill\":{\"color\":\"#EBF0F8\"},\"line\":{\"color\":\"white\"}},\"header\":{\"fill\":{\"color\":\"#C8D4E3\"},\"line\":{\"color\":\"white\"}},\"type\":\"table\"}]},\"layout\":{\"annotationdefaults\":{\"arrowcolor\":\"#2a3f5f\",\"arrowhead\":0,\"arrowwidth\":1},\"autotypenumbers\":\"strict\",\"coloraxis\":{\"colorbar\":{\"outlinewidth\":0,\"ticks\":\"\"}},\"colorscale\":{\"diverging\":[[0,\"#8e0152\"],[0.1,\"#c51b7d\"],[0.2,\"#de77ae\"],[0.3,\"#f1b6da\"],[0.4,\"#fde0ef\"],[0.5,\"#f7f7f7\"],[0.6,\"#e6f5d0\"],[0.7,\"#b8e186\"],[0.8,\"#7fbc41\"],[0.9,\"#4d9221\"],[1,\"#276419\"]],\"sequential\":[[0.0,\"#0d0887\"],[0.1111111111111111,\"#46039f\"],[0.2222222222222222,\"#7201a8\"],[0.3333333333333333,\"#9c179e\"],[0.4444444444444444,\"#bd3786\"],[0.5555555555555556,\"#d8576b\"],[0.6666666666666666,\"#ed7953\"],[0.7777777777777778,\"#fb9f3a\"],[0.8888888888888888,\"#fdca26\"],[1.0,\"#f0f921\"]],\"sequentialminus\":[[0.0,\"#0d0887\"],[0.1111111111111111,\"#46039f\"],[0.2222222222222222,\"#7201a8\"],[0.3333333333333333,\"#9c179e\"],[0.4444444444444444,\"#bd3786\"],[0.5555555555555556,\"#d8576b\"],[0.6666666666666666,\"#ed7953\"],[0.7777777777777778,\"#fb9f3a\"],[0.8888888888888888,\"#fdca26\"],[1.0,\"#f0f921\"]]},\"colorway\":[\"#636efa\",\"#EF553B\",\"#00cc96\",\"#ab63fa\",\"#FFA15A\",\"#19d3f3\",\"#FF6692\",\"#B6E880\",\"#FF97FF\",\"#FECB52\"],\"font\":{\"color\":\"#2a3f5f\"},\"geo\":{\"bgcolor\":\"white\",\"lakecolor\":\"white\",\"landcolor\":\"#E5ECF6\",\"showlakes\":true,\"showland\":true,\"subunitcolor\":\"white\"},\"hoverlabel\":{\"align\":\"left\"},\"hovermode\":\"closest\",\"mapbox\":{\"style\":\"light\"},\"paper_bgcolor\":\"white\",\"plot_bgcolor\":\"#E5ECF6\",\"polar\":{\"angularaxis\":{\"gridcolor\":\"white\",\"linecolor\":\"white\",\"ticks\":\"\"},\"bgcolor\":\"#E5ECF6\",\"radialaxis\":{\"gridcolor\":\"white\",\"linecolor\":\"white\",\"ticks\":\"\"}},\"scene\":{\"xaxis\":{\"backgroundcolor\":\"#E5ECF6\",\"gridcolor\":\"white\",\"gridwidth\":2,\"linecolor\":\"white\",\"showbackground\":true,\"ticks\":\"\",\"zerolinecolor\":\"white\"},\"yaxis\":{\"backgroundcolor\":\"#E5ECF6\",\"gridcolor\":\"white\",\"gridwidth\":2,\"linecolor\":\"white\",\"showbackground\":true,\"ticks\":\"\",\"zerolinecolor\":\"white\"},\"zaxis\":{\"backgroundcolor\":\"#E5ECF6\",\"gridcolor\":\"white\",\"gridwidth\":2,\"linecolor\":\"white\",\"showbackground\":true,\"ticks\":\"\",\"zerolinecolor\":\"white\"}},\"shapedefaults\":{\"line\":{\"color\":\"#2a3f5f\"}},\"ternary\":{\"aaxis\":{\"gridcolor\":\"white\",\"linecolor\":\"white\",\"ticks\":\"\"},\"baxis\":{\"gridcolor\":\"white\",\"linecolor\":\"white\",\"ticks\":\"\"},\"bgcolor\":\"#E5ECF6\",\"caxis\":{\"gridcolor\":\"white\",\"linecolor\":\"white\",\"ticks\":\"\"}},\"title\":{\"x\":0.05},\"xaxis\":{\"automargin\":true,\"gridcolor\":\"white\",\"linecolor\":\"white\",\"ticks\":\"\",\"title\":{\"standoff\":15},\"zerolinecolor\":\"white\",\"zerolinewidth\":2},\"yaxis\":{\"automargin\":true,\"gridcolor\":\"white\",\"linecolor\":\"white\",\"ticks\":\"\",\"title\":{\"standoff\":15},\"zerolinecolor\":\"white\",\"zerolinewidth\":2}}},\"polar\":{\"domain\":{\"x\":[0.0,1.0],\"y\":[0.0,1.0]},\"angularaxis\":{\"direction\":\"clockwise\",\"rotation\":90}},\"legend\":{\"tracegroupgap\":0},\"margin\":{\"t\":60}},                        {\"responsive\": true}                    ).then(function(){\n",
       "                            \n",
       "var gd = document.getElementById('08c911eb-c0ef-4089-919a-6c531aac7889');\n",
       "var x = new MutationObserver(function (mutations, observer) {{\n",
       "        var display = window.getComputedStyle(gd).display;\n",
       "        if (!display || display === 'none') {{\n",
       "            console.log([gd, 'removed!']);\n",
       "            Plotly.purge(gd);\n",
       "            observer.disconnect();\n",
       "        }}\n",
       "}});\n",
       "\n",
       "// Listen for the removal of the full notebook cells\n",
       "var notebookContainer = gd.closest('#notebook-container');\n",
       "if (notebookContainer) {{\n",
       "    x.observe(notebookContainer, {childList: true});\n",
       "}}\n",
       "\n",
       "// Listen for the clearing of the current output cell\n",
       "var outputEl = gd.closest('.output');\n",
       "if (outputEl) {{\n",
       "    x.observe(outputEl, {childList: true});\n",
       "}}\n",
       "\n",
       "                        })                };                });            </script>        </div>"
      ]
     },
     "metadata": {},
     "output_type": "display_data"
    }
   ],
   "source": [
    "df1 = diamonds.groupby('cut')['price'].mean().to_frame()\n",
    "df1.reset_index(inplace=True)\n",
    "fig = px.line_polar(df1, r='price', theta='cut', line_close=True)\n",
    "figsize=(5,5)\n",
    "fig.show()"
   ]
  },
  {
   "cell_type": "code",
   "execution_count": 81,
   "id": "ef3e851c",
   "metadata": {},
   "outputs": [
    {
     "data": {
      "application/javascript": [
       "/* Put everything inside the global mpl namespace */\n",
       "/* global mpl */\n",
       "window.mpl = {};\n",
       "\n",
       "mpl.get_websocket_type = function () {\n",
       "    if (typeof WebSocket !== 'undefined') {\n",
       "        return WebSocket;\n",
       "    } else if (typeof MozWebSocket !== 'undefined') {\n",
       "        return MozWebSocket;\n",
       "    } else {\n",
       "        alert(\n",
       "            'Your browser does not have WebSocket support. ' +\n",
       "                'Please try Chrome, Safari or Firefox ≥ 6. ' +\n",
       "                'Firefox 4 and 5 are also supported but you ' +\n",
       "                'have to enable WebSockets in about:config.'\n",
       "        );\n",
       "    }\n",
       "};\n",
       "\n",
       "mpl.figure = function (figure_id, websocket, ondownload, parent_element) {\n",
       "    this.id = figure_id;\n",
       "\n",
       "    this.ws = websocket;\n",
       "\n",
       "    this.supports_binary = this.ws.binaryType !== undefined;\n",
       "\n",
       "    if (!this.supports_binary) {\n",
       "        var warnings = document.getElementById('mpl-warnings');\n",
       "        if (warnings) {\n",
       "            warnings.style.display = 'block';\n",
       "            warnings.textContent =\n",
       "                'This browser does not support binary websocket messages. ' +\n",
       "                'Performance may be slow.';\n",
       "        }\n",
       "    }\n",
       "\n",
       "    this.imageObj = new Image();\n",
       "\n",
       "    this.context = undefined;\n",
       "    this.message = undefined;\n",
       "    this.canvas = undefined;\n",
       "    this.rubberband_canvas = undefined;\n",
       "    this.rubberband_context = undefined;\n",
       "    this.format_dropdown = undefined;\n",
       "\n",
       "    this.image_mode = 'full';\n",
       "\n",
       "    this.root = document.createElement('div');\n",
       "    this.root.setAttribute('style', 'display: inline-block');\n",
       "    this._root_extra_style(this.root);\n",
       "\n",
       "    parent_element.appendChild(this.root);\n",
       "\n",
       "    this._init_header(this);\n",
       "    this._init_canvas(this);\n",
       "    this._init_toolbar(this);\n",
       "\n",
       "    var fig = this;\n",
       "\n",
       "    this.waiting = false;\n",
       "\n",
       "    this.ws.onopen = function () {\n",
       "        fig.send_message('supports_binary', { value: fig.supports_binary });\n",
       "        fig.send_message('send_image_mode', {});\n",
       "        if (fig.ratio !== 1) {\n",
       "            fig.send_message('set_dpi_ratio', { dpi_ratio: fig.ratio });\n",
       "        }\n",
       "        fig.send_message('refresh', {});\n",
       "    };\n",
       "\n",
       "    this.imageObj.onload = function () {\n",
       "        if (fig.image_mode === 'full') {\n",
       "            // Full images could contain transparency (where diff images\n",
       "            // almost always do), so we need to clear the canvas so that\n",
       "            // there is no ghosting.\n",
       "            fig.context.clearRect(0, 0, fig.canvas.width, fig.canvas.height);\n",
       "        }\n",
       "        fig.context.drawImage(fig.imageObj, 0, 0);\n",
       "    };\n",
       "\n",
       "    this.imageObj.onunload = function () {\n",
       "        fig.ws.close();\n",
       "    };\n",
       "\n",
       "    this.ws.onmessage = this._make_on_message_function(this);\n",
       "\n",
       "    this.ondownload = ondownload;\n",
       "};\n",
       "\n",
       "mpl.figure.prototype._init_header = function () {\n",
       "    var titlebar = document.createElement('div');\n",
       "    titlebar.classList =\n",
       "        'ui-dialog-titlebar ui-widget-header ui-corner-all ui-helper-clearfix';\n",
       "    var titletext = document.createElement('div');\n",
       "    titletext.classList = 'ui-dialog-title';\n",
       "    titletext.setAttribute(\n",
       "        'style',\n",
       "        'width: 100%; text-align: center; padding: 3px;'\n",
       "    );\n",
       "    titlebar.appendChild(titletext);\n",
       "    this.root.appendChild(titlebar);\n",
       "    this.header = titletext;\n",
       "};\n",
       "\n",
       "mpl.figure.prototype._canvas_extra_style = function (_canvas_div) {};\n",
       "\n",
       "mpl.figure.prototype._root_extra_style = function (_canvas_div) {};\n",
       "\n",
       "mpl.figure.prototype._init_canvas = function () {\n",
       "    var fig = this;\n",
       "\n",
       "    var canvas_div = (this.canvas_div = document.createElement('div'));\n",
       "    canvas_div.setAttribute(\n",
       "        'style',\n",
       "        'border: 1px solid #ddd;' +\n",
       "            'box-sizing: content-box;' +\n",
       "            'clear: both;' +\n",
       "            'min-height: 1px;' +\n",
       "            'min-width: 1px;' +\n",
       "            'outline: 0;' +\n",
       "            'overflow: hidden;' +\n",
       "            'position: relative;' +\n",
       "            'resize: both;'\n",
       "    );\n",
       "\n",
       "    function on_keyboard_event_closure(name) {\n",
       "        return function (event) {\n",
       "            return fig.key_event(event, name);\n",
       "        };\n",
       "    }\n",
       "\n",
       "    canvas_div.addEventListener(\n",
       "        'keydown',\n",
       "        on_keyboard_event_closure('key_press')\n",
       "    );\n",
       "    canvas_div.addEventListener(\n",
       "        'keyup',\n",
       "        on_keyboard_event_closure('key_release')\n",
       "    );\n",
       "\n",
       "    this._canvas_extra_style(canvas_div);\n",
       "    this.root.appendChild(canvas_div);\n",
       "\n",
       "    var canvas = (this.canvas = document.createElement('canvas'));\n",
       "    canvas.classList.add('mpl-canvas');\n",
       "    canvas.setAttribute('style', 'box-sizing: content-box;');\n",
       "\n",
       "    this.context = canvas.getContext('2d');\n",
       "\n",
       "    var backingStore =\n",
       "        this.context.backingStorePixelRatio ||\n",
       "        this.context.webkitBackingStorePixelRatio ||\n",
       "        this.context.mozBackingStorePixelRatio ||\n",
       "        this.context.msBackingStorePixelRatio ||\n",
       "        this.context.oBackingStorePixelRatio ||\n",
       "        this.context.backingStorePixelRatio ||\n",
       "        1;\n",
       "\n",
       "    this.ratio = (window.devicePixelRatio || 1) / backingStore;\n",
       "\n",
       "    var rubberband_canvas = (this.rubberband_canvas = document.createElement(\n",
       "        'canvas'\n",
       "    ));\n",
       "    rubberband_canvas.setAttribute(\n",
       "        'style',\n",
       "        'box-sizing: content-box; position: absolute; left: 0; top: 0; z-index: 1;'\n",
       "    );\n",
       "\n",
       "    // Apply a ponyfill if ResizeObserver is not implemented by browser.\n",
       "    if (this.ResizeObserver === undefined) {\n",
       "        if (window.ResizeObserver !== undefined) {\n",
       "            this.ResizeObserver = window.ResizeObserver;\n",
       "        } else {\n",
       "            var obs = _JSXTOOLS_RESIZE_OBSERVER({});\n",
       "            this.ResizeObserver = obs.ResizeObserver;\n",
       "        }\n",
       "    }\n",
       "\n",
       "    this.resizeObserverInstance = new this.ResizeObserver(function (entries) {\n",
       "        var nentries = entries.length;\n",
       "        for (var i = 0; i < nentries; i++) {\n",
       "            var entry = entries[i];\n",
       "            var width, height;\n",
       "            if (entry.contentBoxSize) {\n",
       "                if (entry.contentBoxSize instanceof Array) {\n",
       "                    // Chrome 84 implements new version of spec.\n",
       "                    width = entry.contentBoxSize[0].inlineSize;\n",
       "                    height = entry.contentBoxSize[0].blockSize;\n",
       "                } else {\n",
       "                    // Firefox implements old version of spec.\n",
       "                    width = entry.contentBoxSize.inlineSize;\n",
       "                    height = entry.contentBoxSize.blockSize;\n",
       "                }\n",
       "            } else {\n",
       "                // Chrome <84 implements even older version of spec.\n",
       "                width = entry.contentRect.width;\n",
       "                height = entry.contentRect.height;\n",
       "            }\n",
       "\n",
       "            // Keep the size of the canvas and rubber band canvas in sync with\n",
       "            // the canvas container.\n",
       "            if (entry.devicePixelContentBoxSize) {\n",
       "                // Chrome 84 implements new version of spec.\n",
       "                canvas.setAttribute(\n",
       "                    'width',\n",
       "                    entry.devicePixelContentBoxSize[0].inlineSize\n",
       "                );\n",
       "                canvas.setAttribute(\n",
       "                    'height',\n",
       "                    entry.devicePixelContentBoxSize[0].blockSize\n",
       "                );\n",
       "            } else {\n",
       "                canvas.setAttribute('width', width * fig.ratio);\n",
       "                canvas.setAttribute('height', height * fig.ratio);\n",
       "            }\n",
       "            canvas.setAttribute(\n",
       "                'style',\n",
       "                'width: ' + width + 'px; height: ' + height + 'px;'\n",
       "            );\n",
       "\n",
       "            rubberband_canvas.setAttribute('width', width);\n",
       "            rubberband_canvas.setAttribute('height', height);\n",
       "\n",
       "            // And update the size in Python. We ignore the initial 0/0 size\n",
       "            // that occurs as the element is placed into the DOM, which should\n",
       "            // otherwise not happen due to the minimum size styling.\n",
       "            if (fig.ws.readyState == 1 && width != 0 && height != 0) {\n",
       "                fig.request_resize(width, height);\n",
       "            }\n",
       "        }\n",
       "    });\n",
       "    this.resizeObserverInstance.observe(canvas_div);\n",
       "\n",
       "    function on_mouse_event_closure(name) {\n",
       "        return function (event) {\n",
       "            return fig.mouse_event(event, name);\n",
       "        };\n",
       "    }\n",
       "\n",
       "    rubberband_canvas.addEventListener(\n",
       "        'mousedown',\n",
       "        on_mouse_event_closure('button_press')\n",
       "    );\n",
       "    rubberband_canvas.addEventListener(\n",
       "        'mouseup',\n",
       "        on_mouse_event_closure('button_release')\n",
       "    );\n",
       "    // Throttle sequential mouse events to 1 every 20ms.\n",
       "    rubberband_canvas.addEventListener(\n",
       "        'mousemove',\n",
       "        on_mouse_event_closure('motion_notify')\n",
       "    );\n",
       "\n",
       "    rubberband_canvas.addEventListener(\n",
       "        'mouseenter',\n",
       "        on_mouse_event_closure('figure_enter')\n",
       "    );\n",
       "    rubberband_canvas.addEventListener(\n",
       "        'mouseleave',\n",
       "        on_mouse_event_closure('figure_leave')\n",
       "    );\n",
       "\n",
       "    canvas_div.addEventListener('wheel', function (event) {\n",
       "        if (event.deltaY < 0) {\n",
       "            event.step = 1;\n",
       "        } else {\n",
       "            event.step = -1;\n",
       "        }\n",
       "        on_mouse_event_closure('scroll')(event);\n",
       "    });\n",
       "\n",
       "    canvas_div.appendChild(canvas);\n",
       "    canvas_div.appendChild(rubberband_canvas);\n",
       "\n",
       "    this.rubberband_context = rubberband_canvas.getContext('2d');\n",
       "    this.rubberband_context.strokeStyle = '#000000';\n",
       "\n",
       "    this._resize_canvas = function (width, height, forward) {\n",
       "        if (forward) {\n",
       "            canvas_div.style.width = width + 'px';\n",
       "            canvas_div.style.height = height + 'px';\n",
       "        }\n",
       "    };\n",
       "\n",
       "    // Disable right mouse context menu.\n",
       "    this.rubberband_canvas.addEventListener('contextmenu', function (_e) {\n",
       "        event.preventDefault();\n",
       "        return false;\n",
       "    });\n",
       "\n",
       "    function set_focus() {\n",
       "        canvas.focus();\n",
       "        canvas_div.focus();\n",
       "    }\n",
       "\n",
       "    window.setTimeout(set_focus, 100);\n",
       "};\n",
       "\n",
       "mpl.figure.prototype._init_toolbar = function () {\n",
       "    var fig = this;\n",
       "\n",
       "    var toolbar = document.createElement('div');\n",
       "    toolbar.classList = 'mpl-toolbar';\n",
       "    this.root.appendChild(toolbar);\n",
       "\n",
       "    function on_click_closure(name) {\n",
       "        return function (_event) {\n",
       "            return fig.toolbar_button_onclick(name);\n",
       "        };\n",
       "    }\n",
       "\n",
       "    function on_mouseover_closure(tooltip) {\n",
       "        return function (event) {\n",
       "            if (!event.currentTarget.disabled) {\n",
       "                return fig.toolbar_button_onmouseover(tooltip);\n",
       "            }\n",
       "        };\n",
       "    }\n",
       "\n",
       "    fig.buttons = {};\n",
       "    var buttonGroup = document.createElement('div');\n",
       "    buttonGroup.classList = 'mpl-button-group';\n",
       "    for (var toolbar_ind in mpl.toolbar_items) {\n",
       "        var name = mpl.toolbar_items[toolbar_ind][0];\n",
       "        var tooltip = mpl.toolbar_items[toolbar_ind][1];\n",
       "        var image = mpl.toolbar_items[toolbar_ind][2];\n",
       "        var method_name = mpl.toolbar_items[toolbar_ind][3];\n",
       "\n",
       "        if (!name) {\n",
       "            /* Instead of a spacer, we start a new button group. */\n",
       "            if (buttonGroup.hasChildNodes()) {\n",
       "                toolbar.appendChild(buttonGroup);\n",
       "            }\n",
       "            buttonGroup = document.createElement('div');\n",
       "            buttonGroup.classList = 'mpl-button-group';\n",
       "            continue;\n",
       "        }\n",
       "\n",
       "        var button = (fig.buttons[name] = document.createElement('button'));\n",
       "        button.classList = 'mpl-widget';\n",
       "        button.setAttribute('role', 'button');\n",
       "        button.setAttribute('aria-disabled', 'false');\n",
       "        button.addEventListener('click', on_click_closure(method_name));\n",
       "        button.addEventListener('mouseover', on_mouseover_closure(tooltip));\n",
       "\n",
       "        var icon_img = document.createElement('img');\n",
       "        icon_img.src = '_images/' + image + '.png';\n",
       "        icon_img.srcset = '_images/' + image + '_large.png 2x';\n",
       "        icon_img.alt = tooltip;\n",
       "        button.appendChild(icon_img);\n",
       "\n",
       "        buttonGroup.appendChild(button);\n",
       "    }\n",
       "\n",
       "    if (buttonGroup.hasChildNodes()) {\n",
       "        toolbar.appendChild(buttonGroup);\n",
       "    }\n",
       "\n",
       "    var fmt_picker = document.createElement('select');\n",
       "    fmt_picker.classList = 'mpl-widget';\n",
       "    toolbar.appendChild(fmt_picker);\n",
       "    this.format_dropdown = fmt_picker;\n",
       "\n",
       "    for (var ind in mpl.extensions) {\n",
       "        var fmt = mpl.extensions[ind];\n",
       "        var option = document.createElement('option');\n",
       "        option.selected = fmt === mpl.default_extension;\n",
       "        option.innerHTML = fmt;\n",
       "        fmt_picker.appendChild(option);\n",
       "    }\n",
       "\n",
       "    var status_bar = document.createElement('span');\n",
       "    status_bar.classList = 'mpl-message';\n",
       "    toolbar.appendChild(status_bar);\n",
       "    this.message = status_bar;\n",
       "};\n",
       "\n",
       "mpl.figure.prototype.request_resize = function (x_pixels, y_pixels) {\n",
       "    // Request matplotlib to resize the figure. Matplotlib will then trigger a resize in the client,\n",
       "    // which will in turn request a refresh of the image.\n",
       "    this.send_message('resize', { width: x_pixels, height: y_pixels });\n",
       "};\n",
       "\n",
       "mpl.figure.prototype.send_message = function (type, properties) {\n",
       "    properties['type'] = type;\n",
       "    properties['figure_id'] = this.id;\n",
       "    this.ws.send(JSON.stringify(properties));\n",
       "};\n",
       "\n",
       "mpl.figure.prototype.send_draw_message = function () {\n",
       "    if (!this.waiting) {\n",
       "        this.waiting = true;\n",
       "        this.ws.send(JSON.stringify({ type: 'draw', figure_id: this.id }));\n",
       "    }\n",
       "};\n",
       "\n",
       "mpl.figure.prototype.handle_save = function (fig, _msg) {\n",
       "    var format_dropdown = fig.format_dropdown;\n",
       "    var format = format_dropdown.options[format_dropdown.selectedIndex].value;\n",
       "    fig.ondownload(fig, format);\n",
       "};\n",
       "\n",
       "mpl.figure.prototype.handle_resize = function (fig, msg) {\n",
       "    var size = msg['size'];\n",
       "    if (size[0] !== fig.canvas.width || size[1] !== fig.canvas.height) {\n",
       "        fig._resize_canvas(size[0], size[1], msg['forward']);\n",
       "        fig.send_message('refresh', {});\n",
       "    }\n",
       "};\n",
       "\n",
       "mpl.figure.prototype.handle_rubberband = function (fig, msg) {\n",
       "    var x0 = msg['x0'] / fig.ratio;\n",
       "    var y0 = (fig.canvas.height - msg['y0']) / fig.ratio;\n",
       "    var x1 = msg['x1'] / fig.ratio;\n",
       "    var y1 = (fig.canvas.height - msg['y1']) / fig.ratio;\n",
       "    x0 = Math.floor(x0) + 0.5;\n",
       "    y0 = Math.floor(y0) + 0.5;\n",
       "    x1 = Math.floor(x1) + 0.5;\n",
       "    y1 = Math.floor(y1) + 0.5;\n",
       "    var min_x = Math.min(x0, x1);\n",
       "    var min_y = Math.min(y0, y1);\n",
       "    var width = Math.abs(x1 - x0);\n",
       "    var height = Math.abs(y1 - y0);\n",
       "\n",
       "    fig.rubberband_context.clearRect(\n",
       "        0,\n",
       "        0,\n",
       "        fig.canvas.width / fig.ratio,\n",
       "        fig.canvas.height / fig.ratio\n",
       "    );\n",
       "\n",
       "    fig.rubberband_context.strokeRect(min_x, min_y, width, height);\n",
       "};\n",
       "\n",
       "mpl.figure.prototype.handle_figure_label = function (fig, msg) {\n",
       "    // Updates the figure title.\n",
       "    fig.header.textContent = msg['label'];\n",
       "};\n",
       "\n",
       "mpl.figure.prototype.handle_cursor = function (fig, msg) {\n",
       "    var cursor = msg['cursor'];\n",
       "    switch (cursor) {\n",
       "        case 0:\n",
       "            cursor = 'pointer';\n",
       "            break;\n",
       "        case 1:\n",
       "            cursor = 'default';\n",
       "            break;\n",
       "        case 2:\n",
       "            cursor = 'crosshair';\n",
       "            break;\n",
       "        case 3:\n",
       "            cursor = 'move';\n",
       "            break;\n",
       "    }\n",
       "    fig.rubberband_canvas.style.cursor = cursor;\n",
       "};\n",
       "\n",
       "mpl.figure.prototype.handle_message = function (fig, msg) {\n",
       "    fig.message.textContent = msg['message'];\n",
       "};\n",
       "\n",
       "mpl.figure.prototype.handle_draw = function (fig, _msg) {\n",
       "    // Request the server to send over a new figure.\n",
       "    fig.send_draw_message();\n",
       "};\n",
       "\n",
       "mpl.figure.prototype.handle_image_mode = function (fig, msg) {\n",
       "    fig.image_mode = msg['mode'];\n",
       "};\n",
       "\n",
       "mpl.figure.prototype.handle_history_buttons = function (fig, msg) {\n",
       "    for (var key in msg) {\n",
       "        if (!(key in fig.buttons)) {\n",
       "            continue;\n",
       "        }\n",
       "        fig.buttons[key].disabled = !msg[key];\n",
       "        fig.buttons[key].setAttribute('aria-disabled', !msg[key]);\n",
       "    }\n",
       "};\n",
       "\n",
       "mpl.figure.prototype.handle_navigate_mode = function (fig, msg) {\n",
       "    if (msg['mode'] === 'PAN') {\n",
       "        fig.buttons['Pan'].classList.add('active');\n",
       "        fig.buttons['Zoom'].classList.remove('active');\n",
       "    } else if (msg['mode'] === 'ZOOM') {\n",
       "        fig.buttons['Pan'].classList.remove('active');\n",
       "        fig.buttons['Zoom'].classList.add('active');\n",
       "    } else {\n",
       "        fig.buttons['Pan'].classList.remove('active');\n",
       "        fig.buttons['Zoom'].classList.remove('active');\n",
       "    }\n",
       "};\n",
       "\n",
       "mpl.figure.prototype.updated_canvas_event = function () {\n",
       "    // Called whenever the canvas gets updated.\n",
       "    this.send_message('ack', {});\n",
       "};\n",
       "\n",
       "// A function to construct a web socket function for onmessage handling.\n",
       "// Called in the figure constructor.\n",
       "mpl.figure.prototype._make_on_message_function = function (fig) {\n",
       "    return function socket_on_message(evt) {\n",
       "        if (evt.data instanceof Blob) {\n",
       "            /* FIXME: We get \"Resource interpreted as Image but\n",
       "             * transferred with MIME type text/plain:\" errors on\n",
       "             * Chrome.  But how to set the MIME type?  It doesn't seem\n",
       "             * to be part of the websocket stream */\n",
       "            evt.data.type = 'image/png';\n",
       "\n",
       "            /* Free the memory for the previous frames */\n",
       "            if (fig.imageObj.src) {\n",
       "                (window.URL || window.webkitURL).revokeObjectURL(\n",
       "                    fig.imageObj.src\n",
       "                );\n",
       "            }\n",
       "\n",
       "            fig.imageObj.src = (window.URL || window.webkitURL).createObjectURL(\n",
       "                evt.data\n",
       "            );\n",
       "            fig.updated_canvas_event();\n",
       "            fig.waiting = false;\n",
       "            return;\n",
       "        } else if (\n",
       "            typeof evt.data === 'string' &&\n",
       "            evt.data.slice(0, 21) === 'data:image/png;base64'\n",
       "        ) {\n",
       "            fig.imageObj.src = evt.data;\n",
       "            fig.updated_canvas_event();\n",
       "            fig.waiting = false;\n",
       "            return;\n",
       "        }\n",
       "\n",
       "        var msg = JSON.parse(evt.data);\n",
       "        var msg_type = msg['type'];\n",
       "\n",
       "        // Call the  \"handle_{type}\" callback, which takes\n",
       "        // the figure and JSON message as its only arguments.\n",
       "        try {\n",
       "            var callback = fig['handle_' + msg_type];\n",
       "        } catch (e) {\n",
       "            console.log(\n",
       "                \"No handler for the '\" + msg_type + \"' message type: \",\n",
       "                msg\n",
       "            );\n",
       "            return;\n",
       "        }\n",
       "\n",
       "        if (callback) {\n",
       "            try {\n",
       "                // console.log(\"Handling '\" + msg_type + \"' message: \", msg);\n",
       "                callback(fig, msg);\n",
       "            } catch (e) {\n",
       "                console.log(\n",
       "                    \"Exception inside the 'handler_\" + msg_type + \"' callback:\",\n",
       "                    e,\n",
       "                    e.stack,\n",
       "                    msg\n",
       "                );\n",
       "            }\n",
       "        }\n",
       "    };\n",
       "};\n",
       "\n",
       "// from http://stackoverflow.com/questions/1114465/getting-mouse-location-in-canvas\n",
       "mpl.findpos = function (e) {\n",
       "    //this section is from http://www.quirksmode.org/js/events_properties.html\n",
       "    var targ;\n",
       "    if (!e) {\n",
       "        e = window.event;\n",
       "    }\n",
       "    if (e.target) {\n",
       "        targ = e.target;\n",
       "    } else if (e.srcElement) {\n",
       "        targ = e.srcElement;\n",
       "    }\n",
       "    if (targ.nodeType === 3) {\n",
       "        // defeat Safari bug\n",
       "        targ = targ.parentNode;\n",
       "    }\n",
       "\n",
       "    // pageX,Y are the mouse positions relative to the document\n",
       "    var boundingRect = targ.getBoundingClientRect();\n",
       "    var x = e.pageX - (boundingRect.left + document.body.scrollLeft);\n",
       "    var y = e.pageY - (boundingRect.top + document.body.scrollTop);\n",
       "\n",
       "    return { x: x, y: y };\n",
       "};\n",
       "\n",
       "/*\n",
       " * return a copy of an object with only non-object keys\n",
       " * we need this to avoid circular references\n",
       " * http://stackoverflow.com/a/24161582/3208463\n",
       " */\n",
       "function simpleKeys(original) {\n",
       "    return Object.keys(original).reduce(function (obj, key) {\n",
       "        if (typeof original[key] !== 'object') {\n",
       "            obj[key] = original[key];\n",
       "        }\n",
       "        return obj;\n",
       "    }, {});\n",
       "}\n",
       "\n",
       "mpl.figure.prototype.mouse_event = function (event, name) {\n",
       "    var canvas_pos = mpl.findpos(event);\n",
       "\n",
       "    if (name === 'button_press') {\n",
       "        this.canvas.focus();\n",
       "        this.canvas_div.focus();\n",
       "    }\n",
       "\n",
       "    var x = canvas_pos.x * this.ratio;\n",
       "    var y = canvas_pos.y * this.ratio;\n",
       "\n",
       "    this.send_message(name, {\n",
       "        x: x,\n",
       "        y: y,\n",
       "        button: event.button,\n",
       "        step: event.step,\n",
       "        guiEvent: simpleKeys(event),\n",
       "    });\n",
       "\n",
       "    /* This prevents the web browser from automatically changing to\n",
       "     * the text insertion cursor when the button is pressed.  We want\n",
       "     * to control all of the cursor setting manually through the\n",
       "     * 'cursor' event from matplotlib */\n",
       "    event.preventDefault();\n",
       "    return false;\n",
       "};\n",
       "\n",
       "mpl.figure.prototype._key_event_extra = function (_event, _name) {\n",
       "    // Handle any extra behaviour associated with a key event\n",
       "};\n",
       "\n",
       "mpl.figure.prototype.key_event = function (event, name) {\n",
       "    // Prevent repeat events\n",
       "    if (name === 'key_press') {\n",
       "        if (event.which === this._key) {\n",
       "            return;\n",
       "        } else {\n",
       "            this._key = event.which;\n",
       "        }\n",
       "    }\n",
       "    if (name === 'key_release') {\n",
       "        this._key = null;\n",
       "    }\n",
       "\n",
       "    var value = '';\n",
       "    if (event.ctrlKey && event.which !== 17) {\n",
       "        value += 'ctrl+';\n",
       "    }\n",
       "    if (event.altKey && event.which !== 18) {\n",
       "        value += 'alt+';\n",
       "    }\n",
       "    if (event.shiftKey && event.which !== 16) {\n",
       "        value += 'shift+';\n",
       "    }\n",
       "\n",
       "    value += 'k';\n",
       "    value += event.which.toString();\n",
       "\n",
       "    this._key_event_extra(event, name);\n",
       "\n",
       "    this.send_message(name, { key: value, guiEvent: simpleKeys(event) });\n",
       "    return false;\n",
       "};\n",
       "\n",
       "mpl.figure.prototype.toolbar_button_onclick = function (name) {\n",
       "    if (name === 'download') {\n",
       "        this.handle_save(this, null);\n",
       "    } else {\n",
       "        this.send_message('toolbar_button', { name: name });\n",
       "    }\n",
       "};\n",
       "\n",
       "mpl.figure.prototype.toolbar_button_onmouseover = function (tooltip) {\n",
       "    this.message.textContent = tooltip;\n",
       "};\n",
       "\n",
       "///////////////// REMAINING CONTENT GENERATED BY embed_js.py /////////////////\n",
       "// prettier-ignore\n",
       "var _JSXTOOLS_RESIZE_OBSERVER=function(A){var t,i=new WeakMap,n=new WeakMap,a=new WeakMap,r=new WeakMap,o=new Set;function s(e){if(!(this instanceof s))throw new TypeError(\"Constructor requires 'new' operator\");i.set(this,e)}function h(){throw new TypeError(\"Function is not a constructor\")}function c(e,t,i,n){e=0 in arguments?Number(arguments[0]):0,t=1 in arguments?Number(arguments[1]):0,i=2 in arguments?Number(arguments[2]):0,n=3 in arguments?Number(arguments[3]):0,this.right=(this.x=this.left=e)+(this.width=i),this.bottom=(this.y=this.top=t)+(this.height=n),Object.freeze(this)}function d(){t=requestAnimationFrame(d);var s=new WeakMap,p=new Set;o.forEach((function(t){r.get(t).forEach((function(i){var r=t instanceof window.SVGElement,o=a.get(t),d=r?0:parseFloat(o.paddingTop),f=r?0:parseFloat(o.paddingRight),l=r?0:parseFloat(o.paddingBottom),u=r?0:parseFloat(o.paddingLeft),g=r?0:parseFloat(o.borderTopWidth),m=r?0:parseFloat(o.borderRightWidth),w=r?0:parseFloat(o.borderBottomWidth),b=u+f,F=d+l,v=(r?0:parseFloat(o.borderLeftWidth))+m,W=g+w,y=r?0:t.offsetHeight-W-t.clientHeight,E=r?0:t.offsetWidth-v-t.clientWidth,R=b+v,z=F+W,M=r?t.width:parseFloat(o.width)-R-E,O=r?t.height:parseFloat(o.height)-z-y;if(n.has(t)){var k=n.get(t);if(k[0]===M&&k[1]===O)return}n.set(t,[M,O]);var S=Object.create(h.prototype);S.target=t,S.contentRect=new c(u,d,M,O),s.has(i)||(s.set(i,[]),p.add(i)),s.get(i).push(S)}))})),p.forEach((function(e){i.get(e).call(e,s.get(e),e)}))}return s.prototype.observe=function(i){if(i instanceof window.Element){r.has(i)||(r.set(i,new Set),o.add(i),a.set(i,window.getComputedStyle(i)));var n=r.get(i);n.has(this)||n.add(this),cancelAnimationFrame(t),t=requestAnimationFrame(d)}},s.prototype.unobserve=function(i){if(i instanceof window.Element&&r.has(i)){var n=r.get(i);n.has(this)&&(n.delete(this),n.size||(r.delete(i),o.delete(i))),n.size||r.delete(i),o.size||cancelAnimationFrame(t)}},A.DOMRectReadOnly=c,A.ResizeObserver=s,A.ResizeObserverEntry=h,A}; // eslint-disable-line\n",
       "mpl.toolbar_items = [[\"Home\", \"Reset original view\", \"fa fa-home icon-home\", \"home\"], [\"Back\", \"Back to previous view\", \"fa fa-arrow-left icon-arrow-left\", \"back\"], [\"Forward\", \"Forward to next view\", \"fa fa-arrow-right icon-arrow-right\", \"forward\"], [\"\", \"\", \"\", \"\"], [\"Pan\", \"Left button pans, Right button zooms\\nx/y fixes axis, CTRL fixes aspect\", \"fa fa-arrows icon-move\", \"pan\"], [\"Zoom\", \"Zoom to rectangle\\nx/y fixes axis, CTRL fixes aspect\", \"fa fa-square-o icon-check-empty\", \"zoom\"], [\"\", \"\", \"\", \"\"], [\"Download\", \"Download plot\", \"fa fa-floppy-o icon-save\", \"download\"]];\n",
       "\n",
       "mpl.extensions = [\"eps\", \"jpeg\", \"pdf\", \"png\", \"ps\", \"raw\", \"svg\", \"tif\"];\n",
       "\n",
       "mpl.default_extension = \"png\";/* global mpl */\n",
       "\n",
       "var comm_websocket_adapter = function (comm) {\n",
       "    // Create a \"websocket\"-like object which calls the given IPython comm\n",
       "    // object with the appropriate methods. Currently this is a non binary\n",
       "    // socket, so there is still some room for performance tuning.\n",
       "    var ws = {};\n",
       "\n",
       "    ws.close = function () {\n",
       "        comm.close();\n",
       "    };\n",
       "    ws.send = function (m) {\n",
       "        //console.log('sending', m);\n",
       "        comm.send(m);\n",
       "    };\n",
       "    // Register the callback with on_msg.\n",
       "    comm.on_msg(function (msg) {\n",
       "        //console.log('receiving', msg['content']['data'], msg);\n",
       "        // Pass the mpl event to the overridden (by mpl) onmessage function.\n",
       "        ws.onmessage(msg['content']['data']);\n",
       "    });\n",
       "    return ws;\n",
       "};\n",
       "\n",
       "mpl.mpl_figure_comm = function (comm, msg) {\n",
       "    // This is the function which gets called when the mpl process\n",
       "    // starts-up an IPython Comm through the \"matplotlib\" channel.\n",
       "\n",
       "    var id = msg.content.data.id;\n",
       "    // Get hold of the div created by the display call when the Comm\n",
       "    // socket was opened in Python.\n",
       "    var element = document.getElementById(id);\n",
       "    var ws_proxy = comm_websocket_adapter(comm);\n",
       "\n",
       "    function ondownload(figure, _format) {\n",
       "        window.open(figure.canvas.toDataURL());\n",
       "    }\n",
       "\n",
       "    var fig = new mpl.figure(id, ws_proxy, ondownload, element);\n",
       "\n",
       "    // Call onopen now - mpl needs it, as it is assuming we've passed it a real\n",
       "    // web socket which is closed, not our websocket->open comm proxy.\n",
       "    ws_proxy.onopen();\n",
       "\n",
       "    fig.parent_element = element;\n",
       "    fig.cell_info = mpl.find_output_cell(\"<div id='\" + id + \"'></div>\");\n",
       "    if (!fig.cell_info) {\n",
       "        console.error('Failed to find cell for figure', id, fig);\n",
       "        return;\n",
       "    }\n",
       "    fig.cell_info[0].output_area.element.on(\n",
       "        'cleared',\n",
       "        { fig: fig },\n",
       "        fig._remove_fig_handler\n",
       "    );\n",
       "};\n",
       "\n",
       "mpl.figure.prototype.handle_close = function (fig, msg) {\n",
       "    var width = fig.canvas.width / fig.ratio;\n",
       "    fig.cell_info[0].output_area.element.off(\n",
       "        'cleared',\n",
       "        fig._remove_fig_handler\n",
       "    );\n",
       "    fig.resizeObserverInstance.unobserve(fig.canvas_div);\n",
       "\n",
       "    // Update the output cell to use the data from the current canvas.\n",
       "    fig.push_to_output();\n",
       "    var dataURL = fig.canvas.toDataURL();\n",
       "    // Re-enable the keyboard manager in IPython - without this line, in FF,\n",
       "    // the notebook keyboard shortcuts fail.\n",
       "    IPython.keyboard_manager.enable();\n",
       "    fig.parent_element.innerHTML =\n",
       "        '<img src=\"' + dataURL + '\" width=\"' + width + '\">';\n",
       "    fig.close_ws(fig, msg);\n",
       "};\n",
       "\n",
       "mpl.figure.prototype.close_ws = function (fig, msg) {\n",
       "    fig.send_message('closing', msg);\n",
       "    // fig.ws.close()\n",
       "};\n",
       "\n",
       "mpl.figure.prototype.push_to_output = function (_remove_interactive) {\n",
       "    // Turn the data on the canvas into data in the output cell.\n",
       "    var width = this.canvas.width / this.ratio;\n",
       "    var dataURL = this.canvas.toDataURL();\n",
       "    this.cell_info[1]['text/html'] =\n",
       "        '<img src=\"' + dataURL + '\" width=\"' + width + '\">';\n",
       "};\n",
       "\n",
       "mpl.figure.prototype.updated_canvas_event = function () {\n",
       "    // Tell IPython that the notebook contents must change.\n",
       "    IPython.notebook.set_dirty(true);\n",
       "    this.send_message('ack', {});\n",
       "    var fig = this;\n",
       "    // Wait a second, then push the new image to the DOM so\n",
       "    // that it is saved nicely (might be nice to debounce this).\n",
       "    setTimeout(function () {\n",
       "        fig.push_to_output();\n",
       "    }, 1000);\n",
       "};\n",
       "\n",
       "mpl.figure.prototype._init_toolbar = function () {\n",
       "    var fig = this;\n",
       "\n",
       "    var toolbar = document.createElement('div');\n",
       "    toolbar.classList = 'btn-toolbar';\n",
       "    this.root.appendChild(toolbar);\n",
       "\n",
       "    function on_click_closure(name) {\n",
       "        return function (_event) {\n",
       "            return fig.toolbar_button_onclick(name);\n",
       "        };\n",
       "    }\n",
       "\n",
       "    function on_mouseover_closure(tooltip) {\n",
       "        return function (event) {\n",
       "            if (!event.currentTarget.disabled) {\n",
       "                return fig.toolbar_button_onmouseover(tooltip);\n",
       "            }\n",
       "        };\n",
       "    }\n",
       "\n",
       "    fig.buttons = {};\n",
       "    var buttonGroup = document.createElement('div');\n",
       "    buttonGroup.classList = 'btn-group';\n",
       "    var button;\n",
       "    for (var toolbar_ind in mpl.toolbar_items) {\n",
       "        var name = mpl.toolbar_items[toolbar_ind][0];\n",
       "        var tooltip = mpl.toolbar_items[toolbar_ind][1];\n",
       "        var image = mpl.toolbar_items[toolbar_ind][2];\n",
       "        var method_name = mpl.toolbar_items[toolbar_ind][3];\n",
       "\n",
       "        if (!name) {\n",
       "            /* Instead of a spacer, we start a new button group. */\n",
       "            if (buttonGroup.hasChildNodes()) {\n",
       "                toolbar.appendChild(buttonGroup);\n",
       "            }\n",
       "            buttonGroup = document.createElement('div');\n",
       "            buttonGroup.classList = 'btn-group';\n",
       "            continue;\n",
       "        }\n",
       "\n",
       "        button = fig.buttons[name] = document.createElement('button');\n",
       "        button.classList = 'btn btn-default';\n",
       "        button.href = '#';\n",
       "        button.title = name;\n",
       "        button.innerHTML = '<i class=\"fa ' + image + ' fa-lg\"></i>';\n",
       "        button.addEventListener('click', on_click_closure(method_name));\n",
       "        button.addEventListener('mouseover', on_mouseover_closure(tooltip));\n",
       "        buttonGroup.appendChild(button);\n",
       "    }\n",
       "\n",
       "    if (buttonGroup.hasChildNodes()) {\n",
       "        toolbar.appendChild(buttonGroup);\n",
       "    }\n",
       "\n",
       "    // Add the status bar.\n",
       "    var status_bar = document.createElement('span');\n",
       "    status_bar.classList = 'mpl-message pull-right';\n",
       "    toolbar.appendChild(status_bar);\n",
       "    this.message = status_bar;\n",
       "\n",
       "    // Add the close button to the window.\n",
       "    var buttongrp = document.createElement('div');\n",
       "    buttongrp.classList = 'btn-group inline pull-right';\n",
       "    button = document.createElement('button');\n",
       "    button.classList = 'btn btn-mini btn-primary';\n",
       "    button.href = '#';\n",
       "    button.title = 'Stop Interaction';\n",
       "    button.innerHTML = '<i class=\"fa fa-power-off icon-remove icon-large\"></i>';\n",
       "    button.addEventListener('click', function (_evt) {\n",
       "        fig.handle_close(fig, {});\n",
       "    });\n",
       "    button.addEventListener(\n",
       "        'mouseover',\n",
       "        on_mouseover_closure('Stop Interaction')\n",
       "    );\n",
       "    buttongrp.appendChild(button);\n",
       "    var titlebar = this.root.querySelector('.ui-dialog-titlebar');\n",
       "    titlebar.insertBefore(buttongrp, titlebar.firstChild);\n",
       "};\n",
       "\n",
       "mpl.figure.prototype._remove_fig_handler = function (event) {\n",
       "    var fig = event.data.fig;\n",
       "    if (event.target !== this) {\n",
       "        // Ignore bubbled events from children.\n",
       "        return;\n",
       "    }\n",
       "    fig.close_ws(fig, {});\n",
       "};\n",
       "\n",
       "mpl.figure.prototype._root_extra_style = function (el) {\n",
       "    el.style.boxSizing = 'content-box'; // override notebook setting of border-box.\n",
       "};\n",
       "\n",
       "mpl.figure.prototype._canvas_extra_style = function (el) {\n",
       "    // this is important to make the div 'focusable\n",
       "    el.setAttribute('tabindex', 0);\n",
       "    // reach out to IPython and tell the keyboard manager to turn it's self\n",
       "    // off when our div gets focus\n",
       "\n",
       "    // location in version 3\n",
       "    if (IPython.notebook.keyboard_manager) {\n",
       "        IPython.notebook.keyboard_manager.register_events(el);\n",
       "    } else {\n",
       "        // location in version 2\n",
       "        IPython.keyboard_manager.register_events(el);\n",
       "    }\n",
       "};\n",
       "\n",
       "mpl.figure.prototype._key_event_extra = function (event, _name) {\n",
       "    var manager = IPython.notebook.keyboard_manager;\n",
       "    if (!manager) {\n",
       "        manager = IPython.keyboard_manager;\n",
       "    }\n",
       "\n",
       "    // Check for shift+enter\n",
       "    if (event.shiftKey && event.which === 13) {\n",
       "        this.canvas_div.blur();\n",
       "        // select the cell after this one\n",
       "        var index = IPython.notebook.find_cell_index(this.cell_info[0]);\n",
       "        IPython.notebook.select(index + 1);\n",
       "    }\n",
       "};\n",
       "\n",
       "mpl.figure.prototype.handle_save = function (fig, _msg) {\n",
       "    fig.ondownload(fig, null);\n",
       "};\n",
       "\n",
       "mpl.find_output_cell = function (html_output) {\n",
       "    // Return the cell and output element which can be found *uniquely* in the notebook.\n",
       "    // Note - this is a bit hacky, but it is done because the \"notebook_saving.Notebook\"\n",
       "    // IPython event is triggered only after the cells have been serialised, which for\n",
       "    // our purposes (turning an active figure into a static one), is too late.\n",
       "    var cells = IPython.notebook.get_cells();\n",
       "    var ncells = cells.length;\n",
       "    for (var i = 0; i < ncells; i++) {\n",
       "        var cell = cells[i];\n",
       "        if (cell.cell_type === 'code') {\n",
       "            for (var j = 0; j < cell.output_area.outputs.length; j++) {\n",
       "                var data = cell.output_area.outputs[j];\n",
       "                if (data.data) {\n",
       "                    // IPython >= 3 moved mimebundle to data attribute of output\n",
       "                    data = data.data;\n",
       "                }\n",
       "                if (data['text/html'] === html_output) {\n",
       "                    return [cell, data, j];\n",
       "                }\n",
       "            }\n",
       "        }\n",
       "    }\n",
       "};\n",
       "\n",
       "// Register the function which deals with the matplotlib target/channel.\n",
       "// The kernel may be null if the page has been refreshed.\n",
       "if (IPython.notebook.kernel !== null) {\n",
       "    IPython.notebook.kernel.comm_manager.register_target(\n",
       "        'matplotlib',\n",
       "        mpl.mpl_figure_comm\n",
       "    );\n",
       "}\n"
      ],
      "text/plain": [
       "<IPython.core.display.Javascript object>"
      ]
     },
     "metadata": {},
     "output_type": "display_data"
    },
    {
     "data": {
      "text/html": [
       "<img src=\"data:image/png;base64,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\" width=\"640\">"
      ],
      "text/plain": [
       "<IPython.core.display.HTML object>"
      ]
     },
     "metadata": {},
     "output_type": "display_data"
    }
   ],
   "source": [
    "import pandas as pd\n",
    "%matplotlib notebook\n",
    "import matplotlib.pyplot as plt\n",
    "from mpl_toolkits.mplot3d import Axes3D\n",
    "fig = plt.figure()\n",
    "ax = fig.add_subplot(111, projection='3d')\n",
    "sc = ax.scatter(diamonds.x, diamonds.y, diamonds.z, s=10)"
   ]
  },
  {
   "cell_type": "code",
   "execution_count": 82,
   "id": "ffadf1bd",
   "metadata": {},
   "outputs": [
    {
     "data": {
      "application/javascript": [
       "/* Put everything inside the global mpl namespace */\n",
       "/* global mpl */\n",
       "window.mpl = {};\n",
       "\n",
       "mpl.get_websocket_type = function () {\n",
       "    if (typeof WebSocket !== 'undefined') {\n",
       "        return WebSocket;\n",
       "    } else if (typeof MozWebSocket !== 'undefined') {\n",
       "        return MozWebSocket;\n",
       "    } else {\n",
       "        alert(\n",
       "            'Your browser does not have WebSocket support. ' +\n",
       "                'Please try Chrome, Safari or Firefox ≥ 6. ' +\n",
       "                'Firefox 4 and 5 are also supported but you ' +\n",
       "                'have to enable WebSockets in about:config.'\n",
       "        );\n",
       "    }\n",
       "};\n",
       "\n",
       "mpl.figure = function (figure_id, websocket, ondownload, parent_element) {\n",
       "    this.id = figure_id;\n",
       "\n",
       "    this.ws = websocket;\n",
       "\n",
       "    this.supports_binary = this.ws.binaryType !== undefined;\n",
       "\n",
       "    if (!this.supports_binary) {\n",
       "        var warnings = document.getElementById('mpl-warnings');\n",
       "        if (warnings) {\n",
       "            warnings.style.display = 'block';\n",
       "            warnings.textContent =\n",
       "                'This browser does not support binary websocket messages. ' +\n",
       "                'Performance may be slow.';\n",
       "        }\n",
       "    }\n",
       "\n",
       "    this.imageObj = new Image();\n",
       "\n",
       "    this.context = undefined;\n",
       "    this.message = undefined;\n",
       "    this.canvas = undefined;\n",
       "    this.rubberband_canvas = undefined;\n",
       "    this.rubberband_context = undefined;\n",
       "    this.format_dropdown = undefined;\n",
       "\n",
       "    this.image_mode = 'full';\n",
       "\n",
       "    this.root = document.createElement('div');\n",
       "    this.root.setAttribute('style', 'display: inline-block');\n",
       "    this._root_extra_style(this.root);\n",
       "\n",
       "    parent_element.appendChild(this.root);\n",
       "\n",
       "    this._init_header(this);\n",
       "    this._init_canvas(this);\n",
       "    this._init_toolbar(this);\n",
       "\n",
       "    var fig = this;\n",
       "\n",
       "    this.waiting = false;\n",
       "\n",
       "    this.ws.onopen = function () {\n",
       "        fig.send_message('supports_binary', { value: fig.supports_binary });\n",
       "        fig.send_message('send_image_mode', {});\n",
       "        if (fig.ratio !== 1) {\n",
       "            fig.send_message('set_dpi_ratio', { dpi_ratio: fig.ratio });\n",
       "        }\n",
       "        fig.send_message('refresh', {});\n",
       "    };\n",
       "\n",
       "    this.imageObj.onload = function () {\n",
       "        if (fig.image_mode === 'full') {\n",
       "            // Full images could contain transparency (where diff images\n",
       "            // almost always do), so we need to clear the canvas so that\n",
       "            // there is no ghosting.\n",
       "            fig.context.clearRect(0, 0, fig.canvas.width, fig.canvas.height);\n",
       "        }\n",
       "        fig.context.drawImage(fig.imageObj, 0, 0);\n",
       "    };\n",
       "\n",
       "    this.imageObj.onunload = function () {\n",
       "        fig.ws.close();\n",
       "    };\n",
       "\n",
       "    this.ws.onmessage = this._make_on_message_function(this);\n",
       "\n",
       "    this.ondownload = ondownload;\n",
       "};\n",
       "\n",
       "mpl.figure.prototype._init_header = function () {\n",
       "    var titlebar = document.createElement('div');\n",
       "    titlebar.classList =\n",
       "        'ui-dialog-titlebar ui-widget-header ui-corner-all ui-helper-clearfix';\n",
       "    var titletext = document.createElement('div');\n",
       "    titletext.classList = 'ui-dialog-title';\n",
       "    titletext.setAttribute(\n",
       "        'style',\n",
       "        'width: 100%; text-align: center; padding: 3px;'\n",
       "    );\n",
       "    titlebar.appendChild(titletext);\n",
       "    this.root.appendChild(titlebar);\n",
       "    this.header = titletext;\n",
       "};\n",
       "\n",
       "mpl.figure.prototype._canvas_extra_style = function (_canvas_div) {};\n",
       "\n",
       "mpl.figure.prototype._root_extra_style = function (_canvas_div) {};\n",
       "\n",
       "mpl.figure.prototype._init_canvas = function () {\n",
       "    var fig = this;\n",
       "\n",
       "    var canvas_div = (this.canvas_div = document.createElement('div'));\n",
       "    canvas_div.setAttribute(\n",
       "        'style',\n",
       "        'border: 1px solid #ddd;' +\n",
       "            'box-sizing: content-box;' +\n",
       "            'clear: both;' +\n",
       "            'min-height: 1px;' +\n",
       "            'min-width: 1px;' +\n",
       "            'outline: 0;' +\n",
       "            'overflow: hidden;' +\n",
       "            'position: relative;' +\n",
       "            'resize: both;'\n",
       "    );\n",
       "\n",
       "    function on_keyboard_event_closure(name) {\n",
       "        return function (event) {\n",
       "            return fig.key_event(event, name);\n",
       "        };\n",
       "    }\n",
       "\n",
       "    canvas_div.addEventListener(\n",
       "        'keydown',\n",
       "        on_keyboard_event_closure('key_press')\n",
       "    );\n",
       "    canvas_div.addEventListener(\n",
       "        'keyup',\n",
       "        on_keyboard_event_closure('key_release')\n",
       "    );\n",
       "\n",
       "    this._canvas_extra_style(canvas_div);\n",
       "    this.root.appendChild(canvas_div);\n",
       "\n",
       "    var canvas = (this.canvas = document.createElement('canvas'));\n",
       "    canvas.classList.add('mpl-canvas');\n",
       "    canvas.setAttribute('style', 'box-sizing: content-box;');\n",
       "\n",
       "    this.context = canvas.getContext('2d');\n",
       "\n",
       "    var backingStore =\n",
       "        this.context.backingStorePixelRatio ||\n",
       "        this.context.webkitBackingStorePixelRatio ||\n",
       "        this.context.mozBackingStorePixelRatio ||\n",
       "        this.context.msBackingStorePixelRatio ||\n",
       "        this.context.oBackingStorePixelRatio ||\n",
       "        this.context.backingStorePixelRatio ||\n",
       "        1;\n",
       "\n",
       "    this.ratio = (window.devicePixelRatio || 1) / backingStore;\n",
       "\n",
       "    var rubberband_canvas = (this.rubberband_canvas = document.createElement(\n",
       "        'canvas'\n",
       "    ));\n",
       "    rubberband_canvas.setAttribute(\n",
       "        'style',\n",
       "        'box-sizing: content-box; position: absolute; left: 0; top: 0; z-index: 1;'\n",
       "    );\n",
       "\n",
       "    // Apply a ponyfill if ResizeObserver is not implemented by browser.\n",
       "    if (this.ResizeObserver === undefined) {\n",
       "        if (window.ResizeObserver !== undefined) {\n",
       "            this.ResizeObserver = window.ResizeObserver;\n",
       "        } else {\n",
       "            var obs = _JSXTOOLS_RESIZE_OBSERVER({});\n",
       "            this.ResizeObserver = obs.ResizeObserver;\n",
       "        }\n",
       "    }\n",
       "\n",
       "    this.resizeObserverInstance = new this.ResizeObserver(function (entries) {\n",
       "        var nentries = entries.length;\n",
       "        for (var i = 0; i < nentries; i++) {\n",
       "            var entry = entries[i];\n",
       "            var width, height;\n",
       "            if (entry.contentBoxSize) {\n",
       "                if (entry.contentBoxSize instanceof Array) {\n",
       "                    // Chrome 84 implements new version of spec.\n",
       "                    width = entry.contentBoxSize[0].inlineSize;\n",
       "                    height = entry.contentBoxSize[0].blockSize;\n",
       "                } else {\n",
       "                    // Firefox implements old version of spec.\n",
       "                    width = entry.contentBoxSize.inlineSize;\n",
       "                    height = entry.contentBoxSize.blockSize;\n",
       "                }\n",
       "            } else {\n",
       "                // Chrome <84 implements even older version of spec.\n",
       "                width = entry.contentRect.width;\n",
       "                height = entry.contentRect.height;\n",
       "            }\n",
       "\n",
       "            // Keep the size of the canvas and rubber band canvas in sync with\n",
       "            // the canvas container.\n",
       "            if (entry.devicePixelContentBoxSize) {\n",
       "                // Chrome 84 implements new version of spec.\n",
       "                canvas.setAttribute(\n",
       "                    'width',\n",
       "                    entry.devicePixelContentBoxSize[0].inlineSize\n",
       "                );\n",
       "                canvas.setAttribute(\n",
       "                    'height',\n",
       "                    entry.devicePixelContentBoxSize[0].blockSize\n",
       "                );\n",
       "            } else {\n",
       "                canvas.setAttribute('width', width * fig.ratio);\n",
       "                canvas.setAttribute('height', height * fig.ratio);\n",
       "            }\n",
       "            canvas.setAttribute(\n",
       "                'style',\n",
       "                'width: ' + width + 'px; height: ' + height + 'px;'\n",
       "            );\n",
       "\n",
       "            rubberband_canvas.setAttribute('width', width);\n",
       "            rubberband_canvas.setAttribute('height', height);\n",
       "\n",
       "            // And update the size in Python. We ignore the initial 0/0 size\n",
       "            // that occurs as the element is placed into the DOM, which should\n",
       "            // otherwise not happen due to the minimum size styling.\n",
       "            if (fig.ws.readyState == 1 && width != 0 && height != 0) {\n",
       "                fig.request_resize(width, height);\n",
       "            }\n",
       "        }\n",
       "    });\n",
       "    this.resizeObserverInstance.observe(canvas_div);\n",
       "\n",
       "    function on_mouse_event_closure(name) {\n",
       "        return function (event) {\n",
       "            return fig.mouse_event(event, name);\n",
       "        };\n",
       "    }\n",
       "\n",
       "    rubberband_canvas.addEventListener(\n",
       "        'mousedown',\n",
       "        on_mouse_event_closure('button_press')\n",
       "    );\n",
       "    rubberband_canvas.addEventListener(\n",
       "        'mouseup',\n",
       "        on_mouse_event_closure('button_release')\n",
       "    );\n",
       "    // Throttle sequential mouse events to 1 every 20ms.\n",
       "    rubberband_canvas.addEventListener(\n",
       "        'mousemove',\n",
       "        on_mouse_event_closure('motion_notify')\n",
       "    );\n",
       "\n",
       "    rubberband_canvas.addEventListener(\n",
       "        'mouseenter',\n",
       "        on_mouse_event_closure('figure_enter')\n",
       "    );\n",
       "    rubberband_canvas.addEventListener(\n",
       "        'mouseleave',\n",
       "        on_mouse_event_closure('figure_leave')\n",
       "    );\n",
       "\n",
       "    canvas_div.addEventListener('wheel', function (event) {\n",
       "        if (event.deltaY < 0) {\n",
       "            event.step = 1;\n",
       "        } else {\n",
       "            event.step = -1;\n",
       "        }\n",
       "        on_mouse_event_closure('scroll')(event);\n",
       "    });\n",
       "\n",
       "    canvas_div.appendChild(canvas);\n",
       "    canvas_div.appendChild(rubberband_canvas);\n",
       "\n",
       "    this.rubberband_context = rubberband_canvas.getContext('2d');\n",
       "    this.rubberband_context.strokeStyle = '#000000';\n",
       "\n",
       "    this._resize_canvas = function (width, height, forward) {\n",
       "        if (forward) {\n",
       "            canvas_div.style.width = width + 'px';\n",
       "            canvas_div.style.height = height + 'px';\n",
       "        }\n",
       "    };\n",
       "\n",
       "    // Disable right mouse context menu.\n",
       "    this.rubberband_canvas.addEventListener('contextmenu', function (_e) {\n",
       "        event.preventDefault();\n",
       "        return false;\n",
       "    });\n",
       "\n",
       "    function set_focus() {\n",
       "        canvas.focus();\n",
       "        canvas_div.focus();\n",
       "    }\n",
       "\n",
       "    window.setTimeout(set_focus, 100);\n",
       "};\n",
       "\n",
       "mpl.figure.prototype._init_toolbar = function () {\n",
       "    var fig = this;\n",
       "\n",
       "    var toolbar = document.createElement('div');\n",
       "    toolbar.classList = 'mpl-toolbar';\n",
       "    this.root.appendChild(toolbar);\n",
       "\n",
       "    function on_click_closure(name) {\n",
       "        return function (_event) {\n",
       "            return fig.toolbar_button_onclick(name);\n",
       "        };\n",
       "    }\n",
       "\n",
       "    function on_mouseover_closure(tooltip) {\n",
       "        return function (event) {\n",
       "            if (!event.currentTarget.disabled) {\n",
       "                return fig.toolbar_button_onmouseover(tooltip);\n",
       "            }\n",
       "        };\n",
       "    }\n",
       "\n",
       "    fig.buttons = {};\n",
       "    var buttonGroup = document.createElement('div');\n",
       "    buttonGroup.classList = 'mpl-button-group';\n",
       "    for (var toolbar_ind in mpl.toolbar_items) {\n",
       "        var name = mpl.toolbar_items[toolbar_ind][0];\n",
       "        var tooltip = mpl.toolbar_items[toolbar_ind][1];\n",
       "        var image = mpl.toolbar_items[toolbar_ind][2];\n",
       "        var method_name = mpl.toolbar_items[toolbar_ind][3];\n",
       "\n",
       "        if (!name) {\n",
       "            /* Instead of a spacer, we start a new button group. */\n",
       "            if (buttonGroup.hasChildNodes()) {\n",
       "                toolbar.appendChild(buttonGroup);\n",
       "            }\n",
       "            buttonGroup = document.createElement('div');\n",
       "            buttonGroup.classList = 'mpl-button-group';\n",
       "            continue;\n",
       "        }\n",
       "\n",
       "        var button = (fig.buttons[name] = document.createElement('button'));\n",
       "        button.classList = 'mpl-widget';\n",
       "        button.setAttribute('role', 'button');\n",
       "        button.setAttribute('aria-disabled', 'false');\n",
       "        button.addEventListener('click', on_click_closure(method_name));\n",
       "        button.addEventListener('mouseover', on_mouseover_closure(tooltip));\n",
       "\n",
       "        var icon_img = document.createElement('img');\n",
       "        icon_img.src = '_images/' + image + '.png';\n",
       "        icon_img.srcset = '_images/' + image + '_large.png 2x';\n",
       "        icon_img.alt = tooltip;\n",
       "        button.appendChild(icon_img);\n",
       "\n",
       "        buttonGroup.appendChild(button);\n",
       "    }\n",
       "\n",
       "    if (buttonGroup.hasChildNodes()) {\n",
       "        toolbar.appendChild(buttonGroup);\n",
       "    }\n",
       "\n",
       "    var fmt_picker = document.createElement('select');\n",
       "    fmt_picker.classList = 'mpl-widget';\n",
       "    toolbar.appendChild(fmt_picker);\n",
       "    this.format_dropdown = fmt_picker;\n",
       "\n",
       "    for (var ind in mpl.extensions) {\n",
       "        var fmt = mpl.extensions[ind];\n",
       "        var option = document.createElement('option');\n",
       "        option.selected = fmt === mpl.default_extension;\n",
       "        option.innerHTML = fmt;\n",
       "        fmt_picker.appendChild(option);\n",
       "    }\n",
       "\n",
       "    var status_bar = document.createElement('span');\n",
       "    status_bar.classList = 'mpl-message';\n",
       "    toolbar.appendChild(status_bar);\n",
       "    this.message = status_bar;\n",
       "};\n",
       "\n",
       "mpl.figure.prototype.request_resize = function (x_pixels, y_pixels) {\n",
       "    // Request matplotlib to resize the figure. Matplotlib will then trigger a resize in the client,\n",
       "    // which will in turn request a refresh of the image.\n",
       "    this.send_message('resize', { width: x_pixels, height: y_pixels });\n",
       "};\n",
       "\n",
       "mpl.figure.prototype.send_message = function (type, properties) {\n",
       "    properties['type'] = type;\n",
       "    properties['figure_id'] = this.id;\n",
       "    this.ws.send(JSON.stringify(properties));\n",
       "};\n",
       "\n",
       "mpl.figure.prototype.send_draw_message = function () {\n",
       "    if (!this.waiting) {\n",
       "        this.waiting = true;\n",
       "        this.ws.send(JSON.stringify({ type: 'draw', figure_id: this.id }));\n",
       "    }\n",
       "};\n",
       "\n",
       "mpl.figure.prototype.handle_save = function (fig, _msg) {\n",
       "    var format_dropdown = fig.format_dropdown;\n",
       "    var format = format_dropdown.options[format_dropdown.selectedIndex].value;\n",
       "    fig.ondownload(fig, format);\n",
       "};\n",
       "\n",
       "mpl.figure.prototype.handle_resize = function (fig, msg) {\n",
       "    var size = msg['size'];\n",
       "    if (size[0] !== fig.canvas.width || size[1] !== fig.canvas.height) {\n",
       "        fig._resize_canvas(size[0], size[1], msg['forward']);\n",
       "        fig.send_message('refresh', {});\n",
       "    }\n",
       "};\n",
       "\n",
       "mpl.figure.prototype.handle_rubberband = function (fig, msg) {\n",
       "    var x0 = msg['x0'] / fig.ratio;\n",
       "    var y0 = (fig.canvas.height - msg['y0']) / fig.ratio;\n",
       "    var x1 = msg['x1'] / fig.ratio;\n",
       "    var y1 = (fig.canvas.height - msg['y1']) / fig.ratio;\n",
       "    x0 = Math.floor(x0) + 0.5;\n",
       "    y0 = Math.floor(y0) + 0.5;\n",
       "    x1 = Math.floor(x1) + 0.5;\n",
       "    y1 = Math.floor(y1) + 0.5;\n",
       "    var min_x = Math.min(x0, x1);\n",
       "    var min_y = Math.min(y0, y1);\n",
       "    var width = Math.abs(x1 - x0);\n",
       "    var height = Math.abs(y1 - y0);\n",
       "\n",
       "    fig.rubberband_context.clearRect(\n",
       "        0,\n",
       "        0,\n",
       "        fig.canvas.width / fig.ratio,\n",
       "        fig.canvas.height / fig.ratio\n",
       "    );\n",
       "\n",
       "    fig.rubberband_context.strokeRect(min_x, min_y, width, height);\n",
       "};\n",
       "\n",
       "mpl.figure.prototype.handle_figure_label = function (fig, msg) {\n",
       "    // Updates the figure title.\n",
       "    fig.header.textContent = msg['label'];\n",
       "};\n",
       "\n",
       "mpl.figure.prototype.handle_cursor = function (fig, msg) {\n",
       "    var cursor = msg['cursor'];\n",
       "    switch (cursor) {\n",
       "        case 0:\n",
       "            cursor = 'pointer';\n",
       "            break;\n",
       "        case 1:\n",
       "            cursor = 'default';\n",
       "            break;\n",
       "        case 2:\n",
       "            cursor = 'crosshair';\n",
       "            break;\n",
       "        case 3:\n",
       "            cursor = 'move';\n",
       "            break;\n",
       "    }\n",
       "    fig.rubberband_canvas.style.cursor = cursor;\n",
       "};\n",
       "\n",
       "mpl.figure.prototype.handle_message = function (fig, msg) {\n",
       "    fig.message.textContent = msg['message'];\n",
       "};\n",
       "\n",
       "mpl.figure.prototype.handle_draw = function (fig, _msg) {\n",
       "    // Request the server to send over a new figure.\n",
       "    fig.send_draw_message();\n",
       "};\n",
       "\n",
       "mpl.figure.prototype.handle_image_mode = function (fig, msg) {\n",
       "    fig.image_mode = msg['mode'];\n",
       "};\n",
       "\n",
       "mpl.figure.prototype.handle_history_buttons = function (fig, msg) {\n",
       "    for (var key in msg) {\n",
       "        if (!(key in fig.buttons)) {\n",
       "            continue;\n",
       "        }\n",
       "        fig.buttons[key].disabled = !msg[key];\n",
       "        fig.buttons[key].setAttribute('aria-disabled', !msg[key]);\n",
       "    }\n",
       "};\n",
       "\n",
       "mpl.figure.prototype.handle_navigate_mode = function (fig, msg) {\n",
       "    if (msg['mode'] === 'PAN') {\n",
       "        fig.buttons['Pan'].classList.add('active');\n",
       "        fig.buttons['Zoom'].classList.remove('active');\n",
       "    } else if (msg['mode'] === 'ZOOM') {\n",
       "        fig.buttons['Pan'].classList.remove('active');\n",
       "        fig.buttons['Zoom'].classList.add('active');\n",
       "    } else {\n",
       "        fig.buttons['Pan'].classList.remove('active');\n",
       "        fig.buttons['Zoom'].classList.remove('active');\n",
       "    }\n",
       "};\n",
       "\n",
       "mpl.figure.prototype.updated_canvas_event = function () {\n",
       "    // Called whenever the canvas gets updated.\n",
       "    this.send_message('ack', {});\n",
       "};\n",
       "\n",
       "// A function to construct a web socket function for onmessage handling.\n",
       "// Called in the figure constructor.\n",
       "mpl.figure.prototype._make_on_message_function = function (fig) {\n",
       "    return function socket_on_message(evt) {\n",
       "        if (evt.data instanceof Blob) {\n",
       "            /* FIXME: We get \"Resource interpreted as Image but\n",
       "             * transferred with MIME type text/plain:\" errors on\n",
       "             * Chrome.  But how to set the MIME type?  It doesn't seem\n",
       "             * to be part of the websocket stream */\n",
       "            evt.data.type = 'image/png';\n",
       "\n",
       "            /* Free the memory for the previous frames */\n",
       "            if (fig.imageObj.src) {\n",
       "                (window.URL || window.webkitURL).revokeObjectURL(\n",
       "                    fig.imageObj.src\n",
       "                );\n",
       "            }\n",
       "\n",
       "            fig.imageObj.src = (window.URL || window.webkitURL).createObjectURL(\n",
       "                evt.data\n",
       "            );\n",
       "            fig.updated_canvas_event();\n",
       "            fig.waiting = false;\n",
       "            return;\n",
       "        } else if (\n",
       "            typeof evt.data === 'string' &&\n",
       "            evt.data.slice(0, 21) === 'data:image/png;base64'\n",
       "        ) {\n",
       "            fig.imageObj.src = evt.data;\n",
       "            fig.updated_canvas_event();\n",
       "            fig.waiting = false;\n",
       "            return;\n",
       "        }\n",
       "\n",
       "        var msg = JSON.parse(evt.data);\n",
       "        var msg_type = msg['type'];\n",
       "\n",
       "        // Call the  \"handle_{type}\" callback, which takes\n",
       "        // the figure and JSON message as its only arguments.\n",
       "        try {\n",
       "            var callback = fig['handle_' + msg_type];\n",
       "        } catch (e) {\n",
       "            console.log(\n",
       "                \"No handler for the '\" + msg_type + \"' message type: \",\n",
       "                msg\n",
       "            );\n",
       "            return;\n",
       "        }\n",
       "\n",
       "        if (callback) {\n",
       "            try {\n",
       "                // console.log(\"Handling '\" + msg_type + \"' message: \", msg);\n",
       "                callback(fig, msg);\n",
       "            } catch (e) {\n",
       "                console.log(\n",
       "                    \"Exception inside the 'handler_\" + msg_type + \"' callback:\",\n",
       "                    e,\n",
       "                    e.stack,\n",
       "                    msg\n",
       "                );\n",
       "            }\n",
       "        }\n",
       "    };\n",
       "};\n",
       "\n",
       "// from http://stackoverflow.com/questions/1114465/getting-mouse-location-in-canvas\n",
       "mpl.findpos = function (e) {\n",
       "    //this section is from http://www.quirksmode.org/js/events_properties.html\n",
       "    var targ;\n",
       "    if (!e) {\n",
       "        e = window.event;\n",
       "    }\n",
       "    if (e.target) {\n",
       "        targ = e.target;\n",
       "    } else if (e.srcElement) {\n",
       "        targ = e.srcElement;\n",
       "    }\n",
       "    if (targ.nodeType === 3) {\n",
       "        // defeat Safari bug\n",
       "        targ = targ.parentNode;\n",
       "    }\n",
       "\n",
       "    // pageX,Y are the mouse positions relative to the document\n",
       "    var boundingRect = targ.getBoundingClientRect();\n",
       "    var x = e.pageX - (boundingRect.left + document.body.scrollLeft);\n",
       "    var y = e.pageY - (boundingRect.top + document.body.scrollTop);\n",
       "\n",
       "    return { x: x, y: y };\n",
       "};\n",
       "\n",
       "/*\n",
       " * return a copy of an object with only non-object keys\n",
       " * we need this to avoid circular references\n",
       " * http://stackoverflow.com/a/24161582/3208463\n",
       " */\n",
       "function simpleKeys(original) {\n",
       "    return Object.keys(original).reduce(function (obj, key) {\n",
       "        if (typeof original[key] !== 'object') {\n",
       "            obj[key] = original[key];\n",
       "        }\n",
       "        return obj;\n",
       "    }, {});\n",
       "}\n",
       "\n",
       "mpl.figure.prototype.mouse_event = function (event, name) {\n",
       "    var canvas_pos = mpl.findpos(event);\n",
       "\n",
       "    if (name === 'button_press') {\n",
       "        this.canvas.focus();\n",
       "        this.canvas_div.focus();\n",
       "    }\n",
       "\n",
       "    var x = canvas_pos.x * this.ratio;\n",
       "    var y = canvas_pos.y * this.ratio;\n",
       "\n",
       "    this.send_message(name, {\n",
       "        x: x,\n",
       "        y: y,\n",
       "        button: event.button,\n",
       "        step: event.step,\n",
       "        guiEvent: simpleKeys(event),\n",
       "    });\n",
       "\n",
       "    /* This prevents the web browser from automatically changing to\n",
       "     * the text insertion cursor when the button is pressed.  We want\n",
       "     * to control all of the cursor setting manually through the\n",
       "     * 'cursor' event from matplotlib */\n",
       "    event.preventDefault();\n",
       "    return false;\n",
       "};\n",
       "\n",
       "mpl.figure.prototype._key_event_extra = function (_event, _name) {\n",
       "    // Handle any extra behaviour associated with a key event\n",
       "};\n",
       "\n",
       "mpl.figure.prototype.key_event = function (event, name) {\n",
       "    // Prevent repeat events\n",
       "    if (name === 'key_press') {\n",
       "        if (event.which === this._key) {\n",
       "            return;\n",
       "        } else {\n",
       "            this._key = event.which;\n",
       "        }\n",
       "    }\n",
       "    if (name === 'key_release') {\n",
       "        this._key = null;\n",
       "    }\n",
       "\n",
       "    var value = '';\n",
       "    if (event.ctrlKey && event.which !== 17) {\n",
       "        value += 'ctrl+';\n",
       "    }\n",
       "    if (event.altKey && event.which !== 18) {\n",
       "        value += 'alt+';\n",
       "    }\n",
       "    if (event.shiftKey && event.which !== 16) {\n",
       "        value += 'shift+';\n",
       "    }\n",
       "\n",
       "    value += 'k';\n",
       "    value += event.which.toString();\n",
       "\n",
       "    this._key_event_extra(event, name);\n",
       "\n",
       "    this.send_message(name, { key: value, guiEvent: simpleKeys(event) });\n",
       "    return false;\n",
       "};\n",
       "\n",
       "mpl.figure.prototype.toolbar_button_onclick = function (name) {\n",
       "    if (name === 'download') {\n",
       "        this.handle_save(this, null);\n",
       "    } else {\n",
       "        this.send_message('toolbar_button', { name: name });\n",
       "    }\n",
       "};\n",
       "\n",
       "mpl.figure.prototype.toolbar_button_onmouseover = function (tooltip) {\n",
       "    this.message.textContent = tooltip;\n",
       "};\n",
       "\n",
       "///////////////// REMAINING CONTENT GENERATED BY embed_js.py /////////////////\n",
       "// prettier-ignore\n",
       "var _JSXTOOLS_RESIZE_OBSERVER=function(A){var t,i=new WeakMap,n=new WeakMap,a=new WeakMap,r=new WeakMap,o=new Set;function s(e){if(!(this instanceof s))throw new TypeError(\"Constructor requires 'new' operator\");i.set(this,e)}function h(){throw new TypeError(\"Function is not a constructor\")}function c(e,t,i,n){e=0 in arguments?Number(arguments[0]):0,t=1 in arguments?Number(arguments[1]):0,i=2 in arguments?Number(arguments[2]):0,n=3 in arguments?Number(arguments[3]):0,this.right=(this.x=this.left=e)+(this.width=i),this.bottom=(this.y=this.top=t)+(this.height=n),Object.freeze(this)}function d(){t=requestAnimationFrame(d);var s=new WeakMap,p=new Set;o.forEach((function(t){r.get(t).forEach((function(i){var r=t instanceof window.SVGElement,o=a.get(t),d=r?0:parseFloat(o.paddingTop),f=r?0:parseFloat(o.paddingRight),l=r?0:parseFloat(o.paddingBottom),u=r?0:parseFloat(o.paddingLeft),g=r?0:parseFloat(o.borderTopWidth),m=r?0:parseFloat(o.borderRightWidth),w=r?0:parseFloat(o.borderBottomWidth),b=u+f,F=d+l,v=(r?0:parseFloat(o.borderLeftWidth))+m,W=g+w,y=r?0:t.offsetHeight-W-t.clientHeight,E=r?0:t.offsetWidth-v-t.clientWidth,R=b+v,z=F+W,M=r?t.width:parseFloat(o.width)-R-E,O=r?t.height:parseFloat(o.height)-z-y;if(n.has(t)){var k=n.get(t);if(k[0]===M&&k[1]===O)return}n.set(t,[M,O]);var S=Object.create(h.prototype);S.target=t,S.contentRect=new c(u,d,M,O),s.has(i)||(s.set(i,[]),p.add(i)),s.get(i).push(S)}))})),p.forEach((function(e){i.get(e).call(e,s.get(e),e)}))}return s.prototype.observe=function(i){if(i instanceof window.Element){r.has(i)||(r.set(i,new Set),o.add(i),a.set(i,window.getComputedStyle(i)));var n=r.get(i);n.has(this)||n.add(this),cancelAnimationFrame(t),t=requestAnimationFrame(d)}},s.prototype.unobserve=function(i){if(i instanceof window.Element&&r.has(i)){var n=r.get(i);n.has(this)&&(n.delete(this),n.size||(r.delete(i),o.delete(i))),n.size||r.delete(i),o.size||cancelAnimationFrame(t)}},A.DOMRectReadOnly=c,A.ResizeObserver=s,A.ResizeObserverEntry=h,A}; // eslint-disable-line\n",
       "mpl.toolbar_items = [[\"Home\", \"Reset original view\", \"fa fa-home icon-home\", \"home\"], [\"Back\", \"Back to previous view\", \"fa fa-arrow-left icon-arrow-left\", \"back\"], [\"Forward\", \"Forward to next view\", \"fa fa-arrow-right icon-arrow-right\", \"forward\"], [\"\", \"\", \"\", \"\"], [\"Pan\", \"Left button pans, Right button zooms\\nx/y fixes axis, CTRL fixes aspect\", \"fa fa-arrows icon-move\", \"pan\"], [\"Zoom\", \"Zoom to rectangle\\nx/y fixes axis, CTRL fixes aspect\", \"fa fa-square-o icon-check-empty\", \"zoom\"], [\"\", \"\", \"\", \"\"], [\"Download\", \"Download plot\", \"fa fa-floppy-o icon-save\", \"download\"]];\n",
       "\n",
       "mpl.extensions = [\"eps\", \"jpeg\", \"pdf\", \"png\", \"ps\", \"raw\", \"svg\", \"tif\"];\n",
       "\n",
       "mpl.default_extension = \"png\";/* global mpl */\n",
       "\n",
       "var comm_websocket_adapter = function (comm) {\n",
       "    // Create a \"websocket\"-like object which calls the given IPython comm\n",
       "    // object with the appropriate methods. Currently this is a non binary\n",
       "    // socket, so there is still some room for performance tuning.\n",
       "    var ws = {};\n",
       "\n",
       "    ws.close = function () {\n",
       "        comm.close();\n",
       "    };\n",
       "    ws.send = function (m) {\n",
       "        //console.log('sending', m);\n",
       "        comm.send(m);\n",
       "    };\n",
       "    // Register the callback with on_msg.\n",
       "    comm.on_msg(function (msg) {\n",
       "        //console.log('receiving', msg['content']['data'], msg);\n",
       "        // Pass the mpl event to the overridden (by mpl) onmessage function.\n",
       "        ws.onmessage(msg['content']['data']);\n",
       "    });\n",
       "    return ws;\n",
       "};\n",
       "\n",
       "mpl.mpl_figure_comm = function (comm, msg) {\n",
       "    // This is the function which gets called when the mpl process\n",
       "    // starts-up an IPython Comm through the \"matplotlib\" channel.\n",
       "\n",
       "    var id = msg.content.data.id;\n",
       "    // Get hold of the div created by the display call when the Comm\n",
       "    // socket was opened in Python.\n",
       "    var element = document.getElementById(id);\n",
       "    var ws_proxy = comm_websocket_adapter(comm);\n",
       "\n",
       "    function ondownload(figure, _format) {\n",
       "        window.open(figure.canvas.toDataURL());\n",
       "    }\n",
       "\n",
       "    var fig = new mpl.figure(id, ws_proxy, ondownload, element);\n",
       "\n",
       "    // Call onopen now - mpl needs it, as it is assuming we've passed it a real\n",
       "    // web socket which is closed, not our websocket->open comm proxy.\n",
       "    ws_proxy.onopen();\n",
       "\n",
       "    fig.parent_element = element;\n",
       "    fig.cell_info = mpl.find_output_cell(\"<div id='\" + id + \"'></div>\");\n",
       "    if (!fig.cell_info) {\n",
       "        console.error('Failed to find cell for figure', id, fig);\n",
       "        return;\n",
       "    }\n",
       "    fig.cell_info[0].output_area.element.on(\n",
       "        'cleared',\n",
       "        { fig: fig },\n",
       "        fig._remove_fig_handler\n",
       "    );\n",
       "};\n",
       "\n",
       "mpl.figure.prototype.handle_close = function (fig, msg) {\n",
       "    var width = fig.canvas.width / fig.ratio;\n",
       "    fig.cell_info[0].output_area.element.off(\n",
       "        'cleared',\n",
       "        fig._remove_fig_handler\n",
       "    );\n",
       "    fig.resizeObserverInstance.unobserve(fig.canvas_div);\n",
       "\n",
       "    // Update the output cell to use the data from the current canvas.\n",
       "    fig.push_to_output();\n",
       "    var dataURL = fig.canvas.toDataURL();\n",
       "    // Re-enable the keyboard manager in IPython - without this line, in FF,\n",
       "    // the notebook keyboard shortcuts fail.\n",
       "    IPython.keyboard_manager.enable();\n",
       "    fig.parent_element.innerHTML =\n",
       "        '<img src=\"' + dataURL + '\" width=\"' + width + '\">';\n",
       "    fig.close_ws(fig, msg);\n",
       "};\n",
       "\n",
       "mpl.figure.prototype.close_ws = function (fig, msg) {\n",
       "    fig.send_message('closing', msg);\n",
       "    // fig.ws.close()\n",
       "};\n",
       "\n",
       "mpl.figure.prototype.push_to_output = function (_remove_interactive) {\n",
       "    // Turn the data on the canvas into data in the output cell.\n",
       "    var width = this.canvas.width / this.ratio;\n",
       "    var dataURL = this.canvas.toDataURL();\n",
       "    this.cell_info[1]['text/html'] =\n",
       "        '<img src=\"' + dataURL + '\" width=\"' + width + '\">';\n",
       "};\n",
       "\n",
       "mpl.figure.prototype.updated_canvas_event = function () {\n",
       "    // Tell IPython that the notebook contents must change.\n",
       "    IPython.notebook.set_dirty(true);\n",
       "    this.send_message('ack', {});\n",
       "    var fig = this;\n",
       "    // Wait a second, then push the new image to the DOM so\n",
       "    // that it is saved nicely (might be nice to debounce this).\n",
       "    setTimeout(function () {\n",
       "        fig.push_to_output();\n",
       "    }, 1000);\n",
       "};\n",
       "\n",
       "mpl.figure.prototype._init_toolbar = function () {\n",
       "    var fig = this;\n",
       "\n",
       "    var toolbar = document.createElement('div');\n",
       "    toolbar.classList = 'btn-toolbar';\n",
       "    this.root.appendChild(toolbar);\n",
       "\n",
       "    function on_click_closure(name) {\n",
       "        return function (_event) {\n",
       "            return fig.toolbar_button_onclick(name);\n",
       "        };\n",
       "    }\n",
       "\n",
       "    function on_mouseover_closure(tooltip) {\n",
       "        return function (event) {\n",
       "            if (!event.currentTarget.disabled) {\n",
       "                return fig.toolbar_button_onmouseover(tooltip);\n",
       "            }\n",
       "        };\n",
       "    }\n",
       "\n",
       "    fig.buttons = {};\n",
       "    var buttonGroup = document.createElement('div');\n",
       "    buttonGroup.classList = 'btn-group';\n",
       "    var button;\n",
       "    for (var toolbar_ind in mpl.toolbar_items) {\n",
       "        var name = mpl.toolbar_items[toolbar_ind][0];\n",
       "        var tooltip = mpl.toolbar_items[toolbar_ind][1];\n",
       "        var image = mpl.toolbar_items[toolbar_ind][2];\n",
       "        var method_name = mpl.toolbar_items[toolbar_ind][3];\n",
       "\n",
       "        if (!name) {\n",
       "            /* Instead of a spacer, we start a new button group. */\n",
       "            if (buttonGroup.hasChildNodes()) {\n",
       "                toolbar.appendChild(buttonGroup);\n",
       "            }\n",
       "            buttonGroup = document.createElement('div');\n",
       "            buttonGroup.classList = 'btn-group';\n",
       "            continue;\n",
       "        }\n",
       "\n",
       "        button = fig.buttons[name] = document.createElement('button');\n",
       "        button.classList = 'btn btn-default';\n",
       "        button.href = '#';\n",
       "        button.title = name;\n",
       "        button.innerHTML = '<i class=\"fa ' + image + ' fa-lg\"></i>';\n",
       "        button.addEventListener('click', on_click_closure(method_name));\n",
       "        button.addEventListener('mouseover', on_mouseover_closure(tooltip));\n",
       "        buttonGroup.appendChild(button);\n",
       "    }\n",
       "\n",
       "    if (buttonGroup.hasChildNodes()) {\n",
       "        toolbar.appendChild(buttonGroup);\n",
       "    }\n",
       "\n",
       "    // Add the status bar.\n",
       "    var status_bar = document.createElement('span');\n",
       "    status_bar.classList = 'mpl-message pull-right';\n",
       "    toolbar.appendChild(status_bar);\n",
       "    this.message = status_bar;\n",
       "\n",
       "    // Add the close button to the window.\n",
       "    var buttongrp = document.createElement('div');\n",
       "    buttongrp.classList = 'btn-group inline pull-right';\n",
       "    button = document.createElement('button');\n",
       "    button.classList = 'btn btn-mini btn-primary';\n",
       "    button.href = '#';\n",
       "    button.title = 'Stop Interaction';\n",
       "    button.innerHTML = '<i class=\"fa fa-power-off icon-remove icon-large\"></i>';\n",
       "    button.addEventListener('click', function (_evt) {\n",
       "        fig.handle_close(fig, {});\n",
       "    });\n",
       "    button.addEventListener(\n",
       "        'mouseover',\n",
       "        on_mouseover_closure('Stop Interaction')\n",
       "    );\n",
       "    buttongrp.appendChild(button);\n",
       "    var titlebar = this.root.querySelector('.ui-dialog-titlebar');\n",
       "    titlebar.insertBefore(buttongrp, titlebar.firstChild);\n",
       "};\n",
       "\n",
       "mpl.figure.prototype._remove_fig_handler = function (event) {\n",
       "    var fig = event.data.fig;\n",
       "    if (event.target !== this) {\n",
       "        // Ignore bubbled events from children.\n",
       "        return;\n",
       "    }\n",
       "    fig.close_ws(fig, {});\n",
       "};\n",
       "\n",
       "mpl.figure.prototype._root_extra_style = function (el) {\n",
       "    el.style.boxSizing = 'content-box'; // override notebook setting of border-box.\n",
       "};\n",
       "\n",
       "mpl.figure.prototype._canvas_extra_style = function (el) {\n",
       "    // this is important to make the div 'focusable\n",
       "    el.setAttribute('tabindex', 0);\n",
       "    // reach out to IPython and tell the keyboard manager to turn it's self\n",
       "    // off when our div gets focus\n",
       "\n",
       "    // location in version 3\n",
       "    if (IPython.notebook.keyboard_manager) {\n",
       "        IPython.notebook.keyboard_manager.register_events(el);\n",
       "    } else {\n",
       "        // location in version 2\n",
       "        IPython.keyboard_manager.register_events(el);\n",
       "    }\n",
       "};\n",
       "\n",
       "mpl.figure.prototype._key_event_extra = function (event, _name) {\n",
       "    var manager = IPython.notebook.keyboard_manager;\n",
       "    if (!manager) {\n",
       "        manager = IPython.keyboard_manager;\n",
       "    }\n",
       "\n",
       "    // Check for shift+enter\n",
       "    if (event.shiftKey && event.which === 13) {\n",
       "        this.canvas_div.blur();\n",
       "        // select the cell after this one\n",
       "        var index = IPython.notebook.find_cell_index(this.cell_info[0]);\n",
       "        IPython.notebook.select(index + 1);\n",
       "    }\n",
       "};\n",
       "\n",
       "mpl.figure.prototype.handle_save = function (fig, _msg) {\n",
       "    fig.ondownload(fig, null);\n",
       "};\n",
       "\n",
       "mpl.find_output_cell = function (html_output) {\n",
       "    // Return the cell and output element which can be found *uniquely* in the notebook.\n",
       "    // Note - this is a bit hacky, but it is done because the \"notebook_saving.Notebook\"\n",
       "    // IPython event is triggered only after the cells have been serialised, which for\n",
       "    // our purposes (turning an active figure into a static one), is too late.\n",
       "    var cells = IPython.notebook.get_cells();\n",
       "    var ncells = cells.length;\n",
       "    for (var i = 0; i < ncells; i++) {\n",
       "        var cell = cells[i];\n",
       "        if (cell.cell_type === 'code') {\n",
       "            for (var j = 0; j < cell.output_area.outputs.length; j++) {\n",
       "                var data = cell.output_area.outputs[j];\n",
       "                if (data.data) {\n",
       "                    // IPython >= 3 moved mimebundle to data attribute of output\n",
       "                    data = data.data;\n",
       "                }\n",
       "                if (data['text/html'] === html_output) {\n",
       "                    return [cell, data, j];\n",
       "                }\n",
       "            }\n",
       "        }\n",
       "    }\n",
       "};\n",
       "\n",
       "// Register the function which deals with the matplotlib target/channel.\n",
       "// The kernel may be null if the page has been refreshed.\n",
       "if (IPython.notebook.kernel !== null) {\n",
       "    IPython.notebook.kernel.comm_manager.register_target(\n",
       "        'matplotlib',\n",
       "        mpl.mpl_figure_comm\n",
       "    );\n",
       "}\n"
      ],
      "text/plain": [
       "<IPython.core.display.Javascript object>"
      ]
     },
     "metadata": {},
     "output_type": "display_data"
    },
    {
     "data": {
      "text/html": [
       "<img src=\"data:image/png;base64,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\" width=\"640\">"
      ],
      "text/plain": [
       "<IPython.core.display.HTML object>"
      ]
     },
     "metadata": {},
     "output_type": "display_data"
    }
   ],
   "source": [
    "fig = plt.figure()\n",
    "ax = fig.add_subplot(111, projection='3d')\n",
    "sc = ax.scatter(diamonds.carat, diamonds.color_grades, diamonds.clarity_grades, s=10)"
   ]
  },
  {
   "cell_type": "code",
   "execution_count": 116,
   "id": "009469d8",
   "metadata": {},
   "outputs": [
    {
     "data": {
      "application/javascript": [
       "/* Put everything inside the global mpl namespace */\n",
       "/* global mpl */\n",
       "window.mpl = {};\n",
       "\n",
       "mpl.get_websocket_type = function () {\n",
       "    if (typeof WebSocket !== 'undefined') {\n",
       "        return WebSocket;\n",
       "    } else if (typeof MozWebSocket !== 'undefined') {\n",
       "        return MozWebSocket;\n",
       "    } else {\n",
       "        alert(\n",
       "            'Your browser does not have WebSocket support. ' +\n",
       "                'Please try Chrome, Safari or Firefox ≥ 6. ' +\n",
       "                'Firefox 4 and 5 are also supported but you ' +\n",
       "                'have to enable WebSockets in about:config.'\n",
       "        );\n",
       "    }\n",
       "};\n",
       "\n",
       "mpl.figure = function (figure_id, websocket, ondownload, parent_element) {\n",
       "    this.id = figure_id;\n",
       "\n",
       "    this.ws = websocket;\n",
       "\n",
       "    this.supports_binary = this.ws.binaryType !== undefined;\n",
       "\n",
       "    if (!this.supports_binary) {\n",
       "        var warnings = document.getElementById('mpl-warnings');\n",
       "        if (warnings) {\n",
       "            warnings.style.display = 'block';\n",
       "            warnings.textContent =\n",
       "                'This browser does not support binary websocket messages. ' +\n",
       "                'Performance may be slow.';\n",
       "        }\n",
       "    }\n",
       "\n",
       "    this.imageObj = new Image();\n",
       "\n",
       "    this.context = undefined;\n",
       "    this.message = undefined;\n",
       "    this.canvas = undefined;\n",
       "    this.rubberband_canvas = undefined;\n",
       "    this.rubberband_context = undefined;\n",
       "    this.format_dropdown = undefined;\n",
       "\n",
       "    this.image_mode = 'full';\n",
       "\n",
       "    this.root = document.createElement('div');\n",
       "    this.root.setAttribute('style', 'display: inline-block');\n",
       "    this._root_extra_style(this.root);\n",
       "\n",
       "    parent_element.appendChild(this.root);\n",
       "\n",
       "    this._init_header(this);\n",
       "    this._init_canvas(this);\n",
       "    this._init_toolbar(this);\n",
       "\n",
       "    var fig = this;\n",
       "\n",
       "    this.waiting = false;\n",
       "\n",
       "    this.ws.onopen = function () {\n",
       "        fig.send_message('supports_binary', { value: fig.supports_binary });\n",
       "        fig.send_message('send_image_mode', {});\n",
       "        if (fig.ratio !== 1) {\n",
       "            fig.send_message('set_dpi_ratio', { dpi_ratio: fig.ratio });\n",
       "        }\n",
       "        fig.send_message('refresh', {});\n",
       "    };\n",
       "\n",
       "    this.imageObj.onload = function () {\n",
       "        if (fig.image_mode === 'full') {\n",
       "            // Full images could contain transparency (where diff images\n",
       "            // almost always do), so we need to clear the canvas so that\n",
       "            // there is no ghosting.\n",
       "            fig.context.clearRect(0, 0, fig.canvas.width, fig.canvas.height);\n",
       "        }\n",
       "        fig.context.drawImage(fig.imageObj, 0, 0);\n",
       "    };\n",
       "\n",
       "    this.imageObj.onunload = function () {\n",
       "        fig.ws.close();\n",
       "    };\n",
       "\n",
       "    this.ws.onmessage = this._make_on_message_function(this);\n",
       "\n",
       "    this.ondownload = ondownload;\n",
       "};\n",
       "\n",
       "mpl.figure.prototype._init_header = function () {\n",
       "    var titlebar = document.createElement('div');\n",
       "    titlebar.classList =\n",
       "        'ui-dialog-titlebar ui-widget-header ui-corner-all ui-helper-clearfix';\n",
       "    var titletext = document.createElement('div');\n",
       "    titletext.classList = 'ui-dialog-title';\n",
       "    titletext.setAttribute(\n",
       "        'style',\n",
       "        'width: 100%; text-align: center; padding: 3px;'\n",
       "    );\n",
       "    titlebar.appendChild(titletext);\n",
       "    this.root.appendChild(titlebar);\n",
       "    this.header = titletext;\n",
       "};\n",
       "\n",
       "mpl.figure.prototype._canvas_extra_style = function (_canvas_div) {};\n",
       "\n",
       "mpl.figure.prototype._root_extra_style = function (_canvas_div) {};\n",
       "\n",
       "mpl.figure.prototype._init_canvas = function () {\n",
       "    var fig = this;\n",
       "\n",
       "    var canvas_div = (this.canvas_div = document.createElement('div'));\n",
       "    canvas_div.setAttribute(\n",
       "        'style',\n",
       "        'border: 1px solid #ddd;' +\n",
       "            'box-sizing: content-box;' +\n",
       "            'clear: both;' +\n",
       "            'min-height: 1px;' +\n",
       "            'min-width: 1px;' +\n",
       "            'outline: 0;' +\n",
       "            'overflow: hidden;' +\n",
       "            'position: relative;' +\n",
       "            'resize: both;'\n",
       "    );\n",
       "\n",
       "    function on_keyboard_event_closure(name) {\n",
       "        return function (event) {\n",
       "            return fig.key_event(event, name);\n",
       "        };\n",
       "    }\n",
       "\n",
       "    canvas_div.addEventListener(\n",
       "        'keydown',\n",
       "        on_keyboard_event_closure('key_press')\n",
       "    );\n",
       "    canvas_div.addEventListener(\n",
       "        'keyup',\n",
       "        on_keyboard_event_closure('key_release')\n",
       "    );\n",
       "\n",
       "    this._canvas_extra_style(canvas_div);\n",
       "    this.root.appendChild(canvas_div);\n",
       "\n",
       "    var canvas = (this.canvas = document.createElement('canvas'));\n",
       "    canvas.classList.add('mpl-canvas');\n",
       "    canvas.setAttribute('style', 'box-sizing: content-box;');\n",
       "\n",
       "    this.context = canvas.getContext('2d');\n",
       "\n",
       "    var backingStore =\n",
       "        this.context.backingStorePixelRatio ||\n",
       "        this.context.webkitBackingStorePixelRatio ||\n",
       "        this.context.mozBackingStorePixelRatio ||\n",
       "        this.context.msBackingStorePixelRatio ||\n",
       "        this.context.oBackingStorePixelRatio ||\n",
       "        this.context.backingStorePixelRatio ||\n",
       "        1;\n",
       "\n",
       "    this.ratio = (window.devicePixelRatio || 1) / backingStore;\n",
       "\n",
       "    var rubberband_canvas = (this.rubberband_canvas = document.createElement(\n",
       "        'canvas'\n",
       "    ));\n",
       "    rubberband_canvas.setAttribute(\n",
       "        'style',\n",
       "        'box-sizing: content-box; position: absolute; left: 0; top: 0; z-index: 1;'\n",
       "    );\n",
       "\n",
       "    // Apply a ponyfill if ResizeObserver is not implemented by browser.\n",
       "    if (this.ResizeObserver === undefined) {\n",
       "        if (window.ResizeObserver !== undefined) {\n",
       "            this.ResizeObserver = window.ResizeObserver;\n",
       "        } else {\n",
       "            var obs = _JSXTOOLS_RESIZE_OBSERVER({});\n",
       "            this.ResizeObserver = obs.ResizeObserver;\n",
       "        }\n",
       "    }\n",
       "\n",
       "    this.resizeObserverInstance = new this.ResizeObserver(function (entries) {\n",
       "        var nentries = entries.length;\n",
       "        for (var i = 0; i < nentries; i++) {\n",
       "            var entry = entries[i];\n",
       "            var width, height;\n",
       "            if (entry.contentBoxSize) {\n",
       "                if (entry.contentBoxSize instanceof Array) {\n",
       "                    // Chrome 84 implements new version of spec.\n",
       "                    width = entry.contentBoxSize[0].inlineSize;\n",
       "                    height = entry.contentBoxSize[0].blockSize;\n",
       "                } else {\n",
       "                    // Firefox implements old version of spec.\n",
       "                    width = entry.contentBoxSize.inlineSize;\n",
       "                    height = entry.contentBoxSize.blockSize;\n",
       "                }\n",
       "            } else {\n",
       "                // Chrome <84 implements even older version of spec.\n",
       "                width = entry.contentRect.width;\n",
       "                height = entry.contentRect.height;\n",
       "            }\n",
       "\n",
       "            // Keep the size of the canvas and rubber band canvas in sync with\n",
       "            // the canvas container.\n",
       "            if (entry.devicePixelContentBoxSize) {\n",
       "                // Chrome 84 implements new version of spec.\n",
       "                canvas.setAttribute(\n",
       "                    'width',\n",
       "                    entry.devicePixelContentBoxSize[0].inlineSize\n",
       "                );\n",
       "                canvas.setAttribute(\n",
       "                    'height',\n",
       "                    entry.devicePixelContentBoxSize[0].blockSize\n",
       "                );\n",
       "            } else {\n",
       "                canvas.setAttribute('width', width * fig.ratio);\n",
       "                canvas.setAttribute('height', height * fig.ratio);\n",
       "            }\n",
       "            canvas.setAttribute(\n",
       "                'style',\n",
       "                'width: ' + width + 'px; height: ' + height + 'px;'\n",
       "            );\n",
       "\n",
       "            rubberband_canvas.setAttribute('width', width);\n",
       "            rubberband_canvas.setAttribute('height', height);\n",
       "\n",
       "            // And update the size in Python. We ignore the initial 0/0 size\n",
       "            // that occurs as the element is placed into the DOM, which should\n",
       "            // otherwise not happen due to the minimum size styling.\n",
       "            if (fig.ws.readyState == 1 && width != 0 && height != 0) {\n",
       "                fig.request_resize(width, height);\n",
       "            }\n",
       "        }\n",
       "    });\n",
       "    this.resizeObserverInstance.observe(canvas_div);\n",
       "\n",
       "    function on_mouse_event_closure(name) {\n",
       "        return function (event) {\n",
       "            return fig.mouse_event(event, name);\n",
       "        };\n",
       "    }\n",
       "\n",
       "    rubberband_canvas.addEventListener(\n",
       "        'mousedown',\n",
       "        on_mouse_event_closure('button_press')\n",
       "    );\n",
       "    rubberband_canvas.addEventListener(\n",
       "        'mouseup',\n",
       "        on_mouse_event_closure('button_release')\n",
       "    );\n",
       "    // Throttle sequential mouse events to 1 every 20ms.\n",
       "    rubberband_canvas.addEventListener(\n",
       "        'mousemove',\n",
       "        on_mouse_event_closure('motion_notify')\n",
       "    );\n",
       "\n",
       "    rubberband_canvas.addEventListener(\n",
       "        'mouseenter',\n",
       "        on_mouse_event_closure('figure_enter')\n",
       "    );\n",
       "    rubberband_canvas.addEventListener(\n",
       "        'mouseleave',\n",
       "        on_mouse_event_closure('figure_leave')\n",
       "    );\n",
       "\n",
       "    canvas_div.addEventListener('wheel', function (event) {\n",
       "        if (event.deltaY < 0) {\n",
       "            event.step = 1;\n",
       "        } else {\n",
       "            event.step = -1;\n",
       "        }\n",
       "        on_mouse_event_closure('scroll')(event);\n",
       "    });\n",
       "\n",
       "    canvas_div.appendChild(canvas);\n",
       "    canvas_div.appendChild(rubberband_canvas);\n",
       "\n",
       "    this.rubberband_context = rubberband_canvas.getContext('2d');\n",
       "    this.rubberband_context.strokeStyle = '#000000';\n",
       "\n",
       "    this._resize_canvas = function (width, height, forward) {\n",
       "        if (forward) {\n",
       "            canvas_div.style.width = width + 'px';\n",
       "            canvas_div.style.height = height + 'px';\n",
       "        }\n",
       "    };\n",
       "\n",
       "    // Disable right mouse context menu.\n",
       "    this.rubberband_canvas.addEventListener('contextmenu', function (_e) {\n",
       "        event.preventDefault();\n",
       "        return false;\n",
       "    });\n",
       "\n",
       "    function set_focus() {\n",
       "        canvas.focus();\n",
       "        canvas_div.focus();\n",
       "    }\n",
       "\n",
       "    window.setTimeout(set_focus, 100);\n",
       "};\n",
       "\n",
       "mpl.figure.prototype._init_toolbar = function () {\n",
       "    var fig = this;\n",
       "\n",
       "    var toolbar = document.createElement('div');\n",
       "    toolbar.classList = 'mpl-toolbar';\n",
       "    this.root.appendChild(toolbar);\n",
       "\n",
       "    function on_click_closure(name) {\n",
       "        return function (_event) {\n",
       "            return fig.toolbar_button_onclick(name);\n",
       "        };\n",
       "    }\n",
       "\n",
       "    function on_mouseover_closure(tooltip) {\n",
       "        return function (event) {\n",
       "            if (!event.currentTarget.disabled) {\n",
       "                return fig.toolbar_button_onmouseover(tooltip);\n",
       "            }\n",
       "        };\n",
       "    }\n",
       "\n",
       "    fig.buttons = {};\n",
       "    var buttonGroup = document.createElement('div');\n",
       "    buttonGroup.classList = 'mpl-button-group';\n",
       "    for (var toolbar_ind in mpl.toolbar_items) {\n",
       "        var name = mpl.toolbar_items[toolbar_ind][0];\n",
       "        var tooltip = mpl.toolbar_items[toolbar_ind][1];\n",
       "        var image = mpl.toolbar_items[toolbar_ind][2];\n",
       "        var method_name = mpl.toolbar_items[toolbar_ind][3];\n",
       "\n",
       "        if (!name) {\n",
       "            /* Instead of a spacer, we start a new button group. */\n",
       "            if (buttonGroup.hasChildNodes()) {\n",
       "                toolbar.appendChild(buttonGroup);\n",
       "            }\n",
       "            buttonGroup = document.createElement('div');\n",
       "            buttonGroup.classList = 'mpl-button-group';\n",
       "            continue;\n",
       "        }\n",
       "\n",
       "        var button = (fig.buttons[name] = document.createElement('button'));\n",
       "        button.classList = 'mpl-widget';\n",
       "        button.setAttribute('role', 'button');\n",
       "        button.setAttribute('aria-disabled', 'false');\n",
       "        button.addEventListener('click', on_click_closure(method_name));\n",
       "        button.addEventListener('mouseover', on_mouseover_closure(tooltip));\n",
       "\n",
       "        var icon_img = document.createElement('img');\n",
       "        icon_img.src = '_images/' + image + '.png';\n",
       "        icon_img.srcset = '_images/' + image + '_large.png 2x';\n",
       "        icon_img.alt = tooltip;\n",
       "        button.appendChild(icon_img);\n",
       "\n",
       "        buttonGroup.appendChild(button);\n",
       "    }\n",
       "\n",
       "    if (buttonGroup.hasChildNodes()) {\n",
       "        toolbar.appendChild(buttonGroup);\n",
       "    }\n",
       "\n",
       "    var fmt_picker = document.createElement('select');\n",
       "    fmt_picker.classList = 'mpl-widget';\n",
       "    toolbar.appendChild(fmt_picker);\n",
       "    this.format_dropdown = fmt_picker;\n",
       "\n",
       "    for (var ind in mpl.extensions) {\n",
       "        var fmt = mpl.extensions[ind];\n",
       "        var option = document.createElement('option');\n",
       "        option.selected = fmt === mpl.default_extension;\n",
       "        option.innerHTML = fmt;\n",
       "        fmt_picker.appendChild(option);\n",
       "    }\n",
       "\n",
       "    var status_bar = document.createElement('span');\n",
       "    status_bar.classList = 'mpl-message';\n",
       "    toolbar.appendChild(status_bar);\n",
       "    this.message = status_bar;\n",
       "};\n",
       "\n",
       "mpl.figure.prototype.request_resize = function (x_pixels, y_pixels) {\n",
       "    // Request matplotlib to resize the figure. Matplotlib will then trigger a resize in the client,\n",
       "    // which will in turn request a refresh of the image.\n",
       "    this.send_message('resize', { width: x_pixels, height: y_pixels });\n",
       "};\n",
       "\n",
       "mpl.figure.prototype.send_message = function (type, properties) {\n",
       "    properties['type'] = type;\n",
       "    properties['figure_id'] = this.id;\n",
       "    this.ws.send(JSON.stringify(properties));\n",
       "};\n",
       "\n",
       "mpl.figure.prototype.send_draw_message = function () {\n",
       "    if (!this.waiting) {\n",
       "        this.waiting = true;\n",
       "        this.ws.send(JSON.stringify({ type: 'draw', figure_id: this.id }));\n",
       "    }\n",
       "};\n",
       "\n",
       "mpl.figure.prototype.handle_save = function (fig, _msg) {\n",
       "    var format_dropdown = fig.format_dropdown;\n",
       "    var format = format_dropdown.options[format_dropdown.selectedIndex].value;\n",
       "    fig.ondownload(fig, format);\n",
       "};\n",
       "\n",
       "mpl.figure.prototype.handle_resize = function (fig, msg) {\n",
       "    var size = msg['size'];\n",
       "    if (size[0] !== fig.canvas.width || size[1] !== fig.canvas.height) {\n",
       "        fig._resize_canvas(size[0], size[1], msg['forward']);\n",
       "        fig.send_message('refresh', {});\n",
       "    }\n",
       "};\n",
       "\n",
       "mpl.figure.prototype.handle_rubberband = function (fig, msg) {\n",
       "    var x0 = msg['x0'] / fig.ratio;\n",
       "    var y0 = (fig.canvas.height - msg['y0']) / fig.ratio;\n",
       "    var x1 = msg['x1'] / fig.ratio;\n",
       "    var y1 = (fig.canvas.height - msg['y1']) / fig.ratio;\n",
       "    x0 = Math.floor(x0) + 0.5;\n",
       "    y0 = Math.floor(y0) + 0.5;\n",
       "    x1 = Math.floor(x1) + 0.5;\n",
       "    y1 = Math.floor(y1) + 0.5;\n",
       "    var min_x = Math.min(x0, x1);\n",
       "    var min_y = Math.min(y0, y1);\n",
       "    var width = Math.abs(x1 - x0);\n",
       "    var height = Math.abs(y1 - y0);\n",
       "\n",
       "    fig.rubberband_context.clearRect(\n",
       "        0,\n",
       "        0,\n",
       "        fig.canvas.width / fig.ratio,\n",
       "        fig.canvas.height / fig.ratio\n",
       "    );\n",
       "\n",
       "    fig.rubberband_context.strokeRect(min_x, min_y, width, height);\n",
       "};\n",
       "\n",
       "mpl.figure.prototype.handle_figure_label = function (fig, msg) {\n",
       "    // Updates the figure title.\n",
       "    fig.header.textContent = msg['label'];\n",
       "};\n",
       "\n",
       "mpl.figure.prototype.handle_cursor = function (fig, msg) {\n",
       "    var cursor = msg['cursor'];\n",
       "    switch (cursor) {\n",
       "        case 0:\n",
       "            cursor = 'pointer';\n",
       "            break;\n",
       "        case 1:\n",
       "            cursor = 'default';\n",
       "            break;\n",
       "        case 2:\n",
       "            cursor = 'crosshair';\n",
       "            break;\n",
       "        case 3:\n",
       "            cursor = 'move';\n",
       "            break;\n",
       "    }\n",
       "    fig.rubberband_canvas.style.cursor = cursor;\n",
       "};\n",
       "\n",
       "mpl.figure.prototype.handle_message = function (fig, msg) {\n",
       "    fig.message.textContent = msg['message'];\n",
       "};\n",
       "\n",
       "mpl.figure.prototype.handle_draw = function (fig, _msg) {\n",
       "    // Request the server to send over a new figure.\n",
       "    fig.send_draw_message();\n",
       "};\n",
       "\n",
       "mpl.figure.prototype.handle_image_mode = function (fig, msg) {\n",
       "    fig.image_mode = msg['mode'];\n",
       "};\n",
       "\n",
       "mpl.figure.prototype.handle_history_buttons = function (fig, msg) {\n",
       "    for (var key in msg) {\n",
       "        if (!(key in fig.buttons)) {\n",
       "            continue;\n",
       "        }\n",
       "        fig.buttons[key].disabled = !msg[key];\n",
       "        fig.buttons[key].setAttribute('aria-disabled', !msg[key]);\n",
       "    }\n",
       "};\n",
       "\n",
       "mpl.figure.prototype.handle_navigate_mode = function (fig, msg) {\n",
       "    if (msg['mode'] === 'PAN') {\n",
       "        fig.buttons['Pan'].classList.add('active');\n",
       "        fig.buttons['Zoom'].classList.remove('active');\n",
       "    } else if (msg['mode'] === 'ZOOM') {\n",
       "        fig.buttons['Pan'].classList.remove('active');\n",
       "        fig.buttons['Zoom'].classList.add('active');\n",
       "    } else {\n",
       "        fig.buttons['Pan'].classList.remove('active');\n",
       "        fig.buttons['Zoom'].classList.remove('active');\n",
       "    }\n",
       "};\n",
       "\n",
       "mpl.figure.prototype.updated_canvas_event = function () {\n",
       "    // Called whenever the canvas gets updated.\n",
       "    this.send_message('ack', {});\n",
       "};\n",
       "\n",
       "// A function to construct a web socket function for onmessage handling.\n",
       "// Called in the figure constructor.\n",
       "mpl.figure.prototype._make_on_message_function = function (fig) {\n",
       "    return function socket_on_message(evt) {\n",
       "        if (evt.data instanceof Blob) {\n",
       "            /* FIXME: We get \"Resource interpreted as Image but\n",
       "             * transferred with MIME type text/plain:\" errors on\n",
       "             * Chrome.  But how to set the MIME type?  It doesn't seem\n",
       "             * to be part of the websocket stream */\n",
       "            evt.data.type = 'image/png';\n",
       "\n",
       "            /* Free the memory for the previous frames */\n",
       "            if (fig.imageObj.src) {\n",
       "                (window.URL || window.webkitURL).revokeObjectURL(\n",
       "                    fig.imageObj.src\n",
       "                );\n",
       "            }\n",
       "\n",
       "            fig.imageObj.src = (window.URL || window.webkitURL).createObjectURL(\n",
       "                evt.data\n",
       "            );\n",
       "            fig.updated_canvas_event();\n",
       "            fig.waiting = false;\n",
       "            return;\n",
       "        } else if (\n",
       "            typeof evt.data === 'string' &&\n",
       "            evt.data.slice(0, 21) === 'data:image/png;base64'\n",
       "        ) {\n",
       "            fig.imageObj.src = evt.data;\n",
       "            fig.updated_canvas_event();\n",
       "            fig.waiting = false;\n",
       "            return;\n",
       "        }\n",
       "\n",
       "        var msg = JSON.parse(evt.data);\n",
       "        var msg_type = msg['type'];\n",
       "\n",
       "        // Call the  \"handle_{type}\" callback, which takes\n",
       "        // the figure and JSON message as its only arguments.\n",
       "        try {\n",
       "            var callback = fig['handle_' + msg_type];\n",
       "        } catch (e) {\n",
       "            console.log(\n",
       "                \"No handler for the '\" + msg_type + \"' message type: \",\n",
       "                msg\n",
       "            );\n",
       "            return;\n",
       "        }\n",
       "\n",
       "        if (callback) {\n",
       "            try {\n",
       "                // console.log(\"Handling '\" + msg_type + \"' message: \", msg);\n",
       "                callback(fig, msg);\n",
       "            } catch (e) {\n",
       "                console.log(\n",
       "                    \"Exception inside the 'handler_\" + msg_type + \"' callback:\",\n",
       "                    e,\n",
       "                    e.stack,\n",
       "                    msg\n",
       "                );\n",
       "            }\n",
       "        }\n",
       "    };\n",
       "};\n",
       "\n",
       "// from http://stackoverflow.com/questions/1114465/getting-mouse-location-in-canvas\n",
       "mpl.findpos = function (e) {\n",
       "    //this section is from http://www.quirksmode.org/js/events_properties.html\n",
       "    var targ;\n",
       "    if (!e) {\n",
       "        e = window.event;\n",
       "    }\n",
       "    if (e.target) {\n",
       "        targ = e.target;\n",
       "    } else if (e.srcElement) {\n",
       "        targ = e.srcElement;\n",
       "    }\n",
       "    if (targ.nodeType === 3) {\n",
       "        // defeat Safari bug\n",
       "        targ = targ.parentNode;\n",
       "    }\n",
       "\n",
       "    // pageX,Y are the mouse positions relative to the document\n",
       "    var boundingRect = targ.getBoundingClientRect();\n",
       "    var x = e.pageX - (boundingRect.left + document.body.scrollLeft);\n",
       "    var y = e.pageY - (boundingRect.top + document.body.scrollTop);\n",
       "\n",
       "    return { x: x, y: y };\n",
       "};\n",
       "\n",
       "/*\n",
       " * return a copy of an object with only non-object keys\n",
       " * we need this to avoid circular references\n",
       " * http://stackoverflow.com/a/24161582/3208463\n",
       " */\n",
       "function simpleKeys(original) {\n",
       "    return Object.keys(original).reduce(function (obj, key) {\n",
       "        if (typeof original[key] !== 'object') {\n",
       "            obj[key] = original[key];\n",
       "        }\n",
       "        return obj;\n",
       "    }, {});\n",
       "}\n",
       "\n",
       "mpl.figure.prototype.mouse_event = function (event, name) {\n",
       "    var canvas_pos = mpl.findpos(event);\n",
       "\n",
       "    if (name === 'button_press') {\n",
       "        this.canvas.focus();\n",
       "        this.canvas_div.focus();\n",
       "    }\n",
       "\n",
       "    var x = canvas_pos.x * this.ratio;\n",
       "    var y = canvas_pos.y * this.ratio;\n",
       "\n",
       "    this.send_message(name, {\n",
       "        x: x,\n",
       "        y: y,\n",
       "        button: event.button,\n",
       "        step: event.step,\n",
       "        guiEvent: simpleKeys(event),\n",
       "    });\n",
       "\n",
       "    /* This prevents the web browser from automatically changing to\n",
       "     * the text insertion cursor when the button is pressed.  We want\n",
       "     * to control all of the cursor setting manually through the\n",
       "     * 'cursor' event from matplotlib */\n",
       "    event.preventDefault();\n",
       "    return false;\n",
       "};\n",
       "\n",
       "mpl.figure.prototype._key_event_extra = function (_event, _name) {\n",
       "    // Handle any extra behaviour associated with a key event\n",
       "};\n",
       "\n",
       "mpl.figure.prototype.key_event = function (event, name) {\n",
       "    // Prevent repeat events\n",
       "    if (name === 'key_press') {\n",
       "        if (event.which === this._key) {\n",
       "            return;\n",
       "        } else {\n",
       "            this._key = event.which;\n",
       "        }\n",
       "    }\n",
       "    if (name === 'key_release') {\n",
       "        this._key = null;\n",
       "    }\n",
       "\n",
       "    var value = '';\n",
       "    if (event.ctrlKey && event.which !== 17) {\n",
       "        value += 'ctrl+';\n",
       "    }\n",
       "    if (event.altKey && event.which !== 18) {\n",
       "        value += 'alt+';\n",
       "    }\n",
       "    if (event.shiftKey && event.which !== 16) {\n",
       "        value += 'shift+';\n",
       "    }\n",
       "\n",
       "    value += 'k';\n",
       "    value += event.which.toString();\n",
       "\n",
       "    this._key_event_extra(event, name);\n",
       "\n",
       "    this.send_message(name, { key: value, guiEvent: simpleKeys(event) });\n",
       "    return false;\n",
       "};\n",
       "\n",
       "mpl.figure.prototype.toolbar_button_onclick = function (name) {\n",
       "    if (name === 'download') {\n",
       "        this.handle_save(this, null);\n",
       "    } else {\n",
       "        this.send_message('toolbar_button', { name: name });\n",
       "    }\n",
       "};\n",
       "\n",
       "mpl.figure.prototype.toolbar_button_onmouseover = function (tooltip) {\n",
       "    this.message.textContent = tooltip;\n",
       "};\n",
       "\n",
       "///////////////// REMAINING CONTENT GENERATED BY embed_js.py /////////////////\n",
       "// prettier-ignore\n",
       "var _JSXTOOLS_RESIZE_OBSERVER=function(A){var t,i=new WeakMap,n=new WeakMap,a=new WeakMap,r=new WeakMap,o=new Set;function s(e){if(!(this instanceof s))throw new TypeError(\"Constructor requires 'new' operator\");i.set(this,e)}function h(){throw new TypeError(\"Function is not a constructor\")}function c(e,t,i,n){e=0 in arguments?Number(arguments[0]):0,t=1 in arguments?Number(arguments[1]):0,i=2 in arguments?Number(arguments[2]):0,n=3 in arguments?Number(arguments[3]):0,this.right=(this.x=this.left=e)+(this.width=i),this.bottom=(this.y=this.top=t)+(this.height=n),Object.freeze(this)}function d(){t=requestAnimationFrame(d);var s=new WeakMap,p=new Set;o.forEach((function(t){r.get(t).forEach((function(i){var r=t instanceof window.SVGElement,o=a.get(t),d=r?0:parseFloat(o.paddingTop),f=r?0:parseFloat(o.paddingRight),l=r?0:parseFloat(o.paddingBottom),u=r?0:parseFloat(o.paddingLeft),g=r?0:parseFloat(o.borderTopWidth),m=r?0:parseFloat(o.borderRightWidth),w=r?0:parseFloat(o.borderBottomWidth),b=u+f,F=d+l,v=(r?0:parseFloat(o.borderLeftWidth))+m,W=g+w,y=r?0:t.offsetHeight-W-t.clientHeight,E=r?0:t.offsetWidth-v-t.clientWidth,R=b+v,z=F+W,M=r?t.width:parseFloat(o.width)-R-E,O=r?t.height:parseFloat(o.height)-z-y;if(n.has(t)){var k=n.get(t);if(k[0]===M&&k[1]===O)return}n.set(t,[M,O]);var S=Object.create(h.prototype);S.target=t,S.contentRect=new c(u,d,M,O),s.has(i)||(s.set(i,[]),p.add(i)),s.get(i).push(S)}))})),p.forEach((function(e){i.get(e).call(e,s.get(e),e)}))}return s.prototype.observe=function(i){if(i instanceof window.Element){r.has(i)||(r.set(i,new Set),o.add(i),a.set(i,window.getComputedStyle(i)));var n=r.get(i);n.has(this)||n.add(this),cancelAnimationFrame(t),t=requestAnimationFrame(d)}},s.prototype.unobserve=function(i){if(i instanceof window.Element&&r.has(i)){var n=r.get(i);n.has(this)&&(n.delete(this),n.size||(r.delete(i),o.delete(i))),n.size||r.delete(i),o.size||cancelAnimationFrame(t)}},A.DOMRectReadOnly=c,A.ResizeObserver=s,A.ResizeObserverEntry=h,A}; // eslint-disable-line\n",
       "mpl.toolbar_items = [[\"Home\", \"Reset original view\", \"fa fa-home icon-home\", \"home\"], [\"Back\", \"Back to previous view\", \"fa fa-arrow-left icon-arrow-left\", \"back\"], [\"Forward\", \"Forward to next view\", \"fa fa-arrow-right icon-arrow-right\", \"forward\"], [\"\", \"\", \"\", \"\"], [\"Pan\", \"Left button pans, Right button zooms\\nx/y fixes axis, CTRL fixes aspect\", \"fa fa-arrows icon-move\", \"pan\"], [\"Zoom\", \"Zoom to rectangle\\nx/y fixes axis, CTRL fixes aspect\", \"fa fa-square-o icon-check-empty\", \"zoom\"], [\"\", \"\", \"\", \"\"], [\"Download\", \"Download plot\", \"fa fa-floppy-o icon-save\", \"download\"]];\n",
       "\n",
       "mpl.extensions = [\"eps\", \"jpeg\", \"pdf\", \"png\", \"ps\", \"raw\", \"svg\", \"tif\"];\n",
       "\n",
       "mpl.default_extension = \"png\";/* global mpl */\n",
       "\n",
       "var comm_websocket_adapter = function (comm) {\n",
       "    // Create a \"websocket\"-like object which calls the given IPython comm\n",
       "    // object with the appropriate methods. Currently this is a non binary\n",
       "    // socket, so there is still some room for performance tuning.\n",
       "    var ws = {};\n",
       "\n",
       "    ws.close = function () {\n",
       "        comm.close();\n",
       "    };\n",
       "    ws.send = function (m) {\n",
       "        //console.log('sending', m);\n",
       "        comm.send(m);\n",
       "    };\n",
       "    // Register the callback with on_msg.\n",
       "    comm.on_msg(function (msg) {\n",
       "        //console.log('receiving', msg['content']['data'], msg);\n",
       "        // Pass the mpl event to the overridden (by mpl) onmessage function.\n",
       "        ws.onmessage(msg['content']['data']);\n",
       "    });\n",
       "    return ws;\n",
       "};\n",
       "\n",
       "mpl.mpl_figure_comm = function (comm, msg) {\n",
       "    // This is the function which gets called when the mpl process\n",
       "    // starts-up an IPython Comm through the \"matplotlib\" channel.\n",
       "\n",
       "    var id = msg.content.data.id;\n",
       "    // Get hold of the div created by the display call when the Comm\n",
       "    // socket was opened in Python.\n",
       "    var element = document.getElementById(id);\n",
       "    var ws_proxy = comm_websocket_adapter(comm);\n",
       "\n",
       "    function ondownload(figure, _format) {\n",
       "        window.open(figure.canvas.toDataURL());\n",
       "    }\n",
       "\n",
       "    var fig = new mpl.figure(id, ws_proxy, ondownload, element);\n",
       "\n",
       "    // Call onopen now - mpl needs it, as it is assuming we've passed it a real\n",
       "    // web socket which is closed, not our websocket->open comm proxy.\n",
       "    ws_proxy.onopen();\n",
       "\n",
       "    fig.parent_element = element;\n",
       "    fig.cell_info = mpl.find_output_cell(\"<div id='\" + id + \"'></div>\");\n",
       "    if (!fig.cell_info) {\n",
       "        console.error('Failed to find cell for figure', id, fig);\n",
       "        return;\n",
       "    }\n",
       "    fig.cell_info[0].output_area.element.on(\n",
       "        'cleared',\n",
       "        { fig: fig },\n",
       "        fig._remove_fig_handler\n",
       "    );\n",
       "};\n",
       "\n",
       "mpl.figure.prototype.handle_close = function (fig, msg) {\n",
       "    var width = fig.canvas.width / fig.ratio;\n",
       "    fig.cell_info[0].output_area.element.off(\n",
       "        'cleared',\n",
       "        fig._remove_fig_handler\n",
       "    );\n",
       "    fig.resizeObserverInstance.unobserve(fig.canvas_div);\n",
       "\n",
       "    // Update the output cell to use the data from the current canvas.\n",
       "    fig.push_to_output();\n",
       "    var dataURL = fig.canvas.toDataURL();\n",
       "    // Re-enable the keyboard manager in IPython - without this line, in FF,\n",
       "    // the notebook keyboard shortcuts fail.\n",
       "    IPython.keyboard_manager.enable();\n",
       "    fig.parent_element.innerHTML =\n",
       "        '<img src=\"' + dataURL + '\" width=\"' + width + '\">';\n",
       "    fig.close_ws(fig, msg);\n",
       "};\n",
       "\n",
       "mpl.figure.prototype.close_ws = function (fig, msg) {\n",
       "    fig.send_message('closing', msg);\n",
       "    // fig.ws.close()\n",
       "};\n",
       "\n",
       "mpl.figure.prototype.push_to_output = function (_remove_interactive) {\n",
       "    // Turn the data on the canvas into data in the output cell.\n",
       "    var width = this.canvas.width / this.ratio;\n",
       "    var dataURL = this.canvas.toDataURL();\n",
       "    this.cell_info[1]['text/html'] =\n",
       "        '<img src=\"' + dataURL + '\" width=\"' + width + '\">';\n",
       "};\n",
       "\n",
       "mpl.figure.prototype.updated_canvas_event = function () {\n",
       "    // Tell IPython that the notebook contents must change.\n",
       "    IPython.notebook.set_dirty(true);\n",
       "    this.send_message('ack', {});\n",
       "    var fig = this;\n",
       "    // Wait a second, then push the new image to the DOM so\n",
       "    // that it is saved nicely (might be nice to debounce this).\n",
       "    setTimeout(function () {\n",
       "        fig.push_to_output();\n",
       "    }, 1000);\n",
       "};\n",
       "\n",
       "mpl.figure.prototype._init_toolbar = function () {\n",
       "    var fig = this;\n",
       "\n",
       "    var toolbar = document.createElement('div');\n",
       "    toolbar.classList = 'btn-toolbar';\n",
       "    this.root.appendChild(toolbar);\n",
       "\n",
       "    function on_click_closure(name) {\n",
       "        return function (_event) {\n",
       "            return fig.toolbar_button_onclick(name);\n",
       "        };\n",
       "    }\n",
       "\n",
       "    function on_mouseover_closure(tooltip) {\n",
       "        return function (event) {\n",
       "            if (!event.currentTarget.disabled) {\n",
       "                return fig.toolbar_button_onmouseover(tooltip);\n",
       "            }\n",
       "        };\n",
       "    }\n",
       "\n",
       "    fig.buttons = {};\n",
       "    var buttonGroup = document.createElement('div');\n",
       "    buttonGroup.classList = 'btn-group';\n",
       "    var button;\n",
       "    for (var toolbar_ind in mpl.toolbar_items) {\n",
       "        var name = mpl.toolbar_items[toolbar_ind][0];\n",
       "        var tooltip = mpl.toolbar_items[toolbar_ind][1];\n",
       "        var image = mpl.toolbar_items[toolbar_ind][2];\n",
       "        var method_name = mpl.toolbar_items[toolbar_ind][3];\n",
       "\n",
       "        if (!name) {\n",
       "            /* Instead of a spacer, we start a new button group. */\n",
       "            if (buttonGroup.hasChildNodes()) {\n",
       "                toolbar.appendChild(buttonGroup);\n",
       "            }\n",
       "            buttonGroup = document.createElement('div');\n",
       "            buttonGroup.classList = 'btn-group';\n",
       "            continue;\n",
       "        }\n",
       "\n",
       "        button = fig.buttons[name] = document.createElement('button');\n",
       "        button.classList = 'btn btn-default';\n",
       "        button.href = '#';\n",
       "        button.title = name;\n",
       "        button.innerHTML = '<i class=\"fa ' + image + ' fa-lg\"></i>';\n",
       "        button.addEventListener('click', on_click_closure(method_name));\n",
       "        button.addEventListener('mouseover', on_mouseover_closure(tooltip));\n",
       "        buttonGroup.appendChild(button);\n",
       "    }\n",
       "\n",
       "    if (buttonGroup.hasChildNodes()) {\n",
       "        toolbar.appendChild(buttonGroup);\n",
       "    }\n",
       "\n",
       "    // Add the status bar.\n",
       "    var status_bar = document.createElement('span');\n",
       "    status_bar.classList = 'mpl-message pull-right';\n",
       "    toolbar.appendChild(status_bar);\n",
       "    this.message = status_bar;\n",
       "\n",
       "    // Add the close button to the window.\n",
       "    var buttongrp = document.createElement('div');\n",
       "    buttongrp.classList = 'btn-group inline pull-right';\n",
       "    button = document.createElement('button');\n",
       "    button.classList = 'btn btn-mini btn-primary';\n",
       "    button.href = '#';\n",
       "    button.title = 'Stop Interaction';\n",
       "    button.innerHTML = '<i class=\"fa fa-power-off icon-remove icon-large\"></i>';\n",
       "    button.addEventListener('click', function (_evt) {\n",
       "        fig.handle_close(fig, {});\n",
       "    });\n",
       "    button.addEventListener(\n",
       "        'mouseover',\n",
       "        on_mouseover_closure('Stop Interaction')\n",
       "    );\n",
       "    buttongrp.appendChild(button);\n",
       "    var titlebar = this.root.querySelector('.ui-dialog-titlebar');\n",
       "    titlebar.insertBefore(buttongrp, titlebar.firstChild);\n",
       "};\n",
       "\n",
       "mpl.figure.prototype._remove_fig_handler = function (event) {\n",
       "    var fig = event.data.fig;\n",
       "    if (event.target !== this) {\n",
       "        // Ignore bubbled events from children.\n",
       "        return;\n",
       "    }\n",
       "    fig.close_ws(fig, {});\n",
       "};\n",
       "\n",
       "mpl.figure.prototype._root_extra_style = function (el) {\n",
       "    el.style.boxSizing = 'content-box'; // override notebook setting of border-box.\n",
       "};\n",
       "\n",
       "mpl.figure.prototype._canvas_extra_style = function (el) {\n",
       "    // this is important to make the div 'focusable\n",
       "    el.setAttribute('tabindex', 0);\n",
       "    // reach out to IPython and tell the keyboard manager to turn it's self\n",
       "    // off when our div gets focus\n",
       "\n",
       "    // location in version 3\n",
       "    if (IPython.notebook.keyboard_manager) {\n",
       "        IPython.notebook.keyboard_manager.register_events(el);\n",
       "    } else {\n",
       "        // location in version 2\n",
       "        IPython.keyboard_manager.register_events(el);\n",
       "    }\n",
       "};\n",
       "\n",
       "mpl.figure.prototype._key_event_extra = function (event, _name) {\n",
       "    var manager = IPython.notebook.keyboard_manager;\n",
       "    if (!manager) {\n",
       "        manager = IPython.keyboard_manager;\n",
       "    }\n",
       "\n",
       "    // Check for shift+enter\n",
       "    if (event.shiftKey && event.which === 13) {\n",
       "        this.canvas_div.blur();\n",
       "        // select the cell after this one\n",
       "        var index = IPython.notebook.find_cell_index(this.cell_info[0]);\n",
       "        IPython.notebook.select(index + 1);\n",
       "    }\n",
       "};\n",
       "\n",
       "mpl.figure.prototype.handle_save = function (fig, _msg) {\n",
       "    fig.ondownload(fig, null);\n",
       "};\n",
       "\n",
       "mpl.find_output_cell = function (html_output) {\n",
       "    // Return the cell and output element which can be found *uniquely* in the notebook.\n",
       "    // Note - this is a bit hacky, but it is done because the \"notebook_saving.Notebook\"\n",
       "    // IPython event is triggered only after the cells have been serialised, which for\n",
       "    // our purposes (turning an active figure into a static one), is too late.\n",
       "    var cells = IPython.notebook.get_cells();\n",
       "    var ncells = cells.length;\n",
       "    for (var i = 0; i < ncells; i++) {\n",
       "        var cell = cells[i];\n",
       "        if (cell.cell_type === 'code') {\n",
       "            for (var j = 0; j < cell.output_area.outputs.length; j++) {\n",
       "                var data = cell.output_area.outputs[j];\n",
       "                if (data.data) {\n",
       "                    // IPython >= 3 moved mimebundle to data attribute of output\n",
       "                    data = data.data;\n",
       "                }\n",
       "                if (data['text/html'] === html_output) {\n",
       "                    return [cell, data, j];\n",
       "                }\n",
       "            }\n",
       "        }\n",
       "    }\n",
       "};\n",
       "\n",
       "// Register the function which deals with the matplotlib target/channel.\n",
       "// The kernel may be null if the page has been refreshed.\n",
       "if (IPython.notebook.kernel !== null) {\n",
       "    IPython.notebook.kernel.comm_manager.register_target(\n",
       "        'matplotlib',\n",
       "        mpl.mpl_figure_comm\n",
       "    );\n",
       "}\n"
      ],
      "text/plain": [
       "<IPython.core.display.Javascript object>"
      ]
     },
     "metadata": {},
     "output_type": "display_data"
    },
    {
     "data": {
      "text/html": [
       "<img src=\"data:image/png;base64,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\" width=\"640\">"
      ],
      "text/plain": [
       "<IPython.core.display.HTML object>"
      ]
     },
     "metadata": {},
     "output_type": "display_data"
    }
   ],
   "source": [
    "fig, ax = plt.subplots()\n",
    "\n",
    "ax.plot(diamonds['carat'].sort_values(ascending = True), diamonds['x'], label = 'Length in mm')\n",
    "ax.plot(diamonds['carat'].sort_values(ascending = True), diamonds['y'], label = 'Width in mm')\n",
    "ax.plot(diamonds['carat'].sort_values(ascending = True), diamonds['z'], label = 'Depth in mm')\n",
    "plt.xlabel('Weight of the diamond (ct)')\n",
    "plt.title('Dimension vs Weight of Diamond')\n",
    "plt.legend()\n",
    "plt.show()"
   ]
  },
  {
   "cell_type": "code",
   "execution_count": 132,
   "id": "89967804",
   "metadata": {},
   "outputs": [
    {
     "data": {
      "text/plain": [
       "<AxesSubplot:label='8813e281-8241-428f-adf2-df4aec1bff6b', xlabel='clarity_grades', ylabel='Density'>"
      ]
     },
     "execution_count": 132,
     "metadata": {},
     "output_type": "execute_result"
    }
   ],
   "source": [
    "sns.kdeplot(data=diamonds, x=\"clarity_grades\", label = 'Diamond Clarity')"
   ]
  },
  {
   "cell_type": "code",
   "execution_count": null,
   "id": "55439b7d",
   "metadata": {},
   "outputs": [],
   "source": []
  }
 ],
 "metadata": {
  "kernelspec": {
   "display_name": "Python 3",
   "language": "python",
   "name": "python3"
  },
  "language_info": {
   "codemirror_mode": {
    "name": "ipython",
    "version": 3
   },
   "file_extension": ".py",
   "mimetype": "text/x-python",
   "name": "python",
   "nbconvert_exporter": "python",
   "pygments_lexer": "ipython3",
   "version": "3.8.8"
  }
 },
 "nbformat": 4,
 "nbformat_minor": 5
}
